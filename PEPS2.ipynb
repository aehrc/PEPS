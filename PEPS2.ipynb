{
 "cells": [
  {
   "cell_type": "markdown",
   "metadata": {},
   "source": [
    "# =========================================================\n",
    "# PolyEpi: Polygenic Phenotype with Higher-Order Epistasis Interactios\n",
    "# ========================================================="
   ]
  },
  {
   "cell_type": "markdown",
   "metadata": {},
   "source": [
    "# Path to the config file (Modify this before running the notebook."
   ]
  },
  {
   "cell_type": "code",
   "execution_count": 1,
   "metadata": {},
   "outputs": [],
   "source": [
    "#configFilePath='SampleData/config-small.json' # ~100 SNPs\n",
    "#configFilePath='SampleData/config-large.json' # ~5,000 SNPs\n",
    "#configFilePath='1000Genomes/config.json' # ~17,000 SNPs\n",
    "configFilePath='SampleData/config-peps2.json'"
   ]
  },
  {
   "cell_type": "markdown",
   "metadata": {},
   "source": [
    "# Initialisation"
   ]
  },
  {
   "cell_type": "code",
   "execution_count": 2,
   "metadata": {},
   "outputs": [],
   "source": [
    "import sys\n",
    "import numpy as np\n",
    "import pandas as pd\n",
    "from matplotlib import pyplot as plt\n",
    "import json\n",
    "from collections import Counter\n",
    "from random import random\n",
    "\n",
    "from pprint import pprint\n",
    "from pdbio.vcfdataframe import VcfDataFrame\n",
    "\n",
    "import itertools\n",
    "\n",
    "from sklearn.feature_selection import SelectKBest, chi2\n",
    "from sklearn.ensemble import RandomForestClassifier\n",
    "from sklearn.metrics import roc_auc_score\n",
    "from scipy import stats\n",
    "import sklearn\n",
    "\n",
    "TA = [1, .5, 1e-1, 1e-2, 1e-3, 1e-8, 1e-20]"
   ]
  },
  {
   "cell_type": "markdown",
   "metadata": {},
   "source": [
    "# Read the config file"
   ]
  },
  {
   "cell_type": "code",
   "execution_count": 3,
   "metadata": {},
   "outputs": [],
   "source": [
    "with open(configFilePath, 'r') as f:\n",
    "    config = json.load(f)"
   ]
  },
  {
   "cell_type": "code",
   "execution_count": 4,
   "metadata": {},
   "outputs": [],
   "source": [
    "shuffleSnps = config['shuffleSnps']\n",
    "seed = config['seed']\n",
    "\n",
    "np.random.seed(None if shuffleSnps else seed)\n",
    "\n",
    "inputType = config['inputType']\n",
    "dumpCSV = config['dumpCSV']\n",
    "\n",
    "vcfInputPath = config['inputPrefix']+'.vcf'\n",
    "csvInputPath = config['inputPrefix']+'.csv'\n",
    "\n",
    "outputPrefix = config['outputPrefix']\n",
    "\n",
    "pvalueThr = config['pvalueThr']\n",
    "numTree = config['numTree']\n",
    "numLoop = config['numLoop']"
   ]
  },
  {
   "cell_type": "markdown",
   "metadata": {},
   "source": [
    "# Compute total numebr of variables and number of requierd SNPs to form the variables"
   ]
  },
  {
   "cell_type": "code",
   "execution_count": 5,
   "metadata": {},
   "outputs": [],
   "source": [
    "numVariables = 0\n",
    "numSnpsNeeded = 0\n",
    "maxOrder = 0\n",
    "\n",
    "for v in config['variables']:\n",
    "    v['numSNPs'] = v['numVar'] * v['numSnpsInVar']\n",
    "    numVariables += v['numVar']\n",
    "    numSnpsNeeded += v['numSNPs']\n",
    "    if v['numSnpsInVar']>maxOrder:\n",
    "        maxOrder = v['numSnpsInVar']\n",
    "    \n",
    "config['numVariables'] = numVariables\n",
    "config['numSnpsNeeded'] = numSnpsNeeded\n",
    "config['maxOrder'] = maxOrder"
   ]
  },
  {
   "cell_type": "markdown",
   "metadata": {},
   "source": [
    "# Print config data and write it in \"outputPrefix.config.json\""
   ]
  },
  {
   "cell_type": "code",
   "execution_count": 6,
   "metadata": {},
   "outputs": [
    {
     "name": "stdout",
     "output_type": "stream",
     "text": [
      "========== Configuration >>>\n",
      "{'dumpCSV': False,\n",
      " 'inputPrefix': '1000Genomes/all-snps',\n",
      " 'inputType': 'csv',\n",
      " 'maxOrder': 5,\n",
      " 'numLoop': 1,\n",
      " 'numSnpsNeeded': 54,\n",
      " 'numTree': 1000,\n",
      " 'numVariables': 24,\n",
      " 'outputPrefix': 'SampleData/PEPS2_54snps',\n",
      " 'pvalueThr': 1.0,\n",
      " 'seed': 1,\n",
      " 'shuffleSnps': False,\n",
      " 'variables': [{'numSNPs': 10, 'numSnpsInVar': 1, 'numVar': 10},\n",
      "               {'numSNPs': 10, 'numSnpsInVar': 2, 'numVar': 5},\n",
      "               {'numSNPs': 12, 'numSnpsInVar': 3, 'numVar': 4},\n",
      "               {'numSNPs': 12, 'numSnpsInVar': 4, 'numVar': 3},\n",
      "               {'numSNPs': 10, 'numSnpsInVar': 5, 'numVar': 2}]}\n",
      "============================\n"
     ]
    }
   ],
   "source": [
    "print(\"========== Configuration >>>\")\n",
    "pprint(config)\n",
    "print(\"============================\")\n",
    "with open(outputPrefix+'.config.json','w') as outfile:\n",
    "    json.dump(config, outfile, indent=4, sort_keys=True)"
   ]
  },
  {
   "cell_type": "markdown",
   "metadata": {},
   "source": [
    "# Parse input genotype data from a VCF or CSV file\n",
    "## If read from VCF file, the SNP id is set to CHROM:POS:REF:ALT"
   ]
  },
  {
   "cell_type": "code",
   "execution_count": 7,
   "metadata": {
    "scrolled": true
   },
   "outputs": [],
   "source": [
    "if inputType=='vcf':\n",
    "    vcfdf = VcfDataFrame(path=vcfInputPath)\n",
    "    df = vcfdf.df\n",
    "    df['SNP'] = df['#CHROM'].astype(str) + ':' + df['POS'].astype(str) + ':' + df['REF'].astype(str) + ':' + df['ALT'].astype(str)\n",
    "    df = df.set_index('SNP')\n",
    "    snpData = df.iloc[:,9:].replace(['0/0','0/1','1/1'], [0,1,2])\n",
    "    if dumpCSV:\n",
    "        snpData.to_csv(csvInputPath)\n",
    "elif inputType=='csv':\n",
    "    snpData = pd.read_csv(csvInputPath)\n",
    "    snpData = snpData.set_index('SNP')\n",
    "else:\n",
    "    print(\"Incorrect inputType (should be 'vcf' or 'csv')\")\n",
    "    exit()"
   ]
  },
  {
   "cell_type": "code",
   "execution_count": 8,
   "metadata": {
    "scrolled": true
   },
   "outputs": [
    {
     "data": {
      "text/html": [
       "<div>\n",
       "<style scoped>\n",
       "    .dataframe tbody tr th:only-of-type {\n",
       "        vertical-align: middle;\n",
       "    }\n",
       "\n",
       "    .dataframe tbody tr th {\n",
       "        vertical-align: top;\n",
       "    }\n",
       "\n",
       "    .dataframe thead th {\n",
       "        text-align: right;\n",
       "    }\n",
       "</style>\n",
       "<table border=\"1\" class=\"dataframe\">\n",
       "  <thead>\n",
       "    <tr style=\"text-align: right;\">\n",
       "      <th></th>\n",
       "      <th>HG00096</th>\n",
       "      <th>HG00097</th>\n",
       "      <th>HG00099</th>\n",
       "      <th>HG00100</th>\n",
       "      <th>HG00101</th>\n",
       "    </tr>\n",
       "    <tr>\n",
       "      <th>SNP</th>\n",
       "      <th></th>\n",
       "      <th></th>\n",
       "      <th></th>\n",
       "      <th></th>\n",
       "      <th></th>\n",
       "    </tr>\n",
       "  </thead>\n",
       "  <tbody>\n",
       "    <tr>\n",
       "      <th>1:15820:G:T</th>\n",
       "      <td>1</td>\n",
       "      <td>1</td>\n",
       "      <td>1</td>\n",
       "      <td>0</td>\n",
       "      <td>0</td>\n",
       "    </tr>\n",
       "    <tr>\n",
       "      <th>1:62777:A:T</th>\n",
       "      <td>1</td>\n",
       "      <td>1</td>\n",
       "      <td>0</td>\n",
       "      <td>1</td>\n",
       "      <td>1</td>\n",
       "    </tr>\n",
       "    <tr>\n",
       "      <th>1:63268:T:C</th>\n",
       "      <td>0</td>\n",
       "      <td>0</td>\n",
       "      <td>0</td>\n",
       "      <td>0</td>\n",
       "      <td>1</td>\n",
       "    </tr>\n",
       "    <tr>\n",
       "      <th>1:843405:A:G</th>\n",
       "      <td>1</td>\n",
       "      <td>1</td>\n",
       "      <td>0</td>\n",
       "      <td>0</td>\n",
       "      <td>2</td>\n",
       "    </tr>\n",
       "    <tr>\n",
       "      <th>1:1012483:G:T</th>\n",
       "      <td>0</td>\n",
       "      <td>2</td>\n",
       "      <td>2</td>\n",
       "      <td>2</td>\n",
       "      <td>2</td>\n",
       "    </tr>\n",
       "  </tbody>\n",
       "</table>\n",
       "</div>"
      ],
      "text/plain": [
       "               HG00096  HG00097  HG00099  HG00100  HG00101\n",
       "SNP                                                       \n",
       "1:15820:G:T          1        1        1        0        0\n",
       "1:62777:A:T          1        1        0        1        1\n",
       "1:63268:T:C          0        0        0        0        1\n",
       "1:843405:A:G         1        1        0        0        2\n",
       "1:1012483:G:T        0        2        2        2        2"
      ]
     },
     "execution_count": 8,
     "metadata": {},
     "output_type": "execute_result"
    }
   ],
   "source": [
    "snpData.iloc[:5,:5]"
   ]
  },
  {
   "cell_type": "markdown",
   "metadata": {},
   "source": [
    "# There should be enough SNPs in the input file to create all variables"
   ]
  },
  {
   "cell_type": "code",
   "execution_count": 9,
   "metadata": {},
   "outputs": [
    {
     "name": "stdout",
     "output_type": "stream",
     "text": [
      "Number of SNPs in the input file:  17373\n",
      "Number of SNPs needed:  54\n",
      "There are enough SNPs in the input file\n"
     ]
    }
   ],
   "source": [
    "print(\"Number of SNPs in the input file: \", snpData.shape[0])\n",
    "print(\"Number of SNPs needed: \", numSnpsNeeded)\n",
    "\n",
    "if snpData.shape[0] < numSnpsNeeded:\n",
    "    print(\"There are not enough SNPs in the input file\")\n",
    "    exit(1)\n",
    "else:\n",
    "    print(\"There are enough SNPs in the input file\")"
   ]
  },
  {
   "cell_type": "markdown",
   "metadata": {},
   "source": [
    "# Suffle SNPs if asked in the config file.\n",
    "## When SNPs are shuffled different set of SNPs used to form each variables each time"
   ]
  },
  {
   "cell_type": "code",
   "execution_count": 10,
   "metadata": {},
   "outputs": [],
   "source": [
    "snpData = snpData.sample(frac=1)"
   ]
  },
  {
   "cell_type": "markdown",
   "metadata": {},
   "source": [
    "# Transpose the genotype data and print number of snps and samples\n",
    "## Also rename 0/0, 0/1 and 1/1 to R, H and A"
   ]
  },
  {
   "cell_type": "code",
   "execution_count": 11,
   "metadata": {},
   "outputs": [],
   "source": [
    "snpData = snpData.T"
   ]
  },
  {
   "cell_type": "code",
   "execution_count": 12,
   "metadata": {},
   "outputs": [
    {
     "name": "stdout",
     "output_type": "stream",
     "text": [
      "number of sample 2504\n",
      "number of snp 17373\n"
     ]
    }
   ],
   "source": [
    "df = snpData.replace([0,1,2],['R','H','A'])\n",
    "numSamples = df.shape[0]\n",
    "numSNPs = df.shape[1]\n",
    "print(\"number of sample\",numSamples)\n",
    "print(\"number of snp\",numSNPs)"
   ]
  },
  {
   "cell_type": "markdown",
   "metadata": {},
   "source": [
    "# Form variables from SNPs\n",
    "## A variable could be a SNPs or a set of Interactive SNPs\n",
    "## First identify whcih SNPs belong to each variable and then form the variables\n",
    "## Naming of variables: O3V4 is the 4th variable with 3-interactive SNPs\n",
    "## Write Variables SNPs infor in \"outputPrefix.varData.csv\""
   ]
  },
  {
   "cell_type": "code",
   "execution_count": 13,
   "metadata": {},
   "outputs": [],
   "source": [
    "colNames = list() # to store variable names\n",
    "for o,v in enumerate(config['variables']):\n",
    "    for i in range(0,v['numVar']):\n",
    "        colNames.append('O'+str(o+1)+'V'+str(i+1))"
   ]
  },
  {
   "cell_type": "code",
   "execution_count": 14,
   "metadata": {},
   "outputs": [],
   "source": [
    "rowNames = ['order']\n",
    "for o in range(maxOrder):\n",
    "    rowNames.append('snp_'+str(o+1))"
   ]
  },
  {
   "cell_type": "code",
   "execution_count": 15,
   "metadata": {},
   "outputs": [],
   "source": [
    "varData = pd.DataFrame(index=rowNames, columns=colNames)"
   ]
  },
  {
   "cell_type": "code",
   "execution_count": 16,
   "metadata": {},
   "outputs": [],
   "source": [
    "idx = 0\n",
    "for o,v in enumerate(config['variables']):\n",
    "    for i in range(0,v['numVar']):\n",
    "        name = 'O'+str(o+1)+'V'+str(i+1)\n",
    "        varData.at['order',name] = str(o+1)\n",
    "        for k in range(0,v['numSnpsInVar']):\n",
    "            snp = 'snp_'+str(k+1)\n",
    "            varData.at[snp,name]=df.columns[idx]\n",
    "            idx += 1\n",
    "varData = varData.fillna('---')"
   ]
  },
  {
   "cell_type": "code",
   "execution_count": 17,
   "metadata": {},
   "outputs": [],
   "source": [
    "varData.to_csv(outputPrefix+'.varData.csv')"
   ]
  },
  {
   "cell_type": "code",
   "execution_count": 18,
   "metadata": {},
   "outputs": [
    {
     "data": {
      "text/html": [
       "<div>\n",
       "<style scoped>\n",
       "    .dataframe tbody tr th:only-of-type {\n",
       "        vertical-align: middle;\n",
       "    }\n",
       "\n",
       "    .dataframe tbody tr th {\n",
       "        vertical-align: top;\n",
       "    }\n",
       "\n",
       "    .dataframe thead th {\n",
       "        text-align: right;\n",
       "    }\n",
       "</style>\n",
       "<table border=\"1\" class=\"dataframe\">\n",
       "  <thead>\n",
       "    <tr style=\"text-align: right;\">\n",
       "      <th></th>\n",
       "      <th>O4V1</th>\n",
       "      <th>O4V2</th>\n",
       "      <th>O4V3</th>\n",
       "      <th>O5V1</th>\n",
       "      <th>O5V2</th>\n",
       "    </tr>\n",
       "  </thead>\n",
       "  <tbody>\n",
       "    <tr>\n",
       "      <th>order</th>\n",
       "      <td>4</td>\n",
       "      <td>4</td>\n",
       "      <td>4</td>\n",
       "      <td>5</td>\n",
       "      <td>5</td>\n",
       "    </tr>\n",
       "    <tr>\n",
       "      <th>snp_1</th>\n",
       "      <td>8:98902046:A:T</td>\n",
       "      <td>8:119176046:A:G</td>\n",
       "      <td>9:5346995:T:C</td>\n",
       "      <td>5:170173230:A:G</td>\n",
       "      <td>11:104044426:A:G</td>\n",
       "    </tr>\n",
       "    <tr>\n",
       "      <th>snp_2</th>\n",
       "      <td>22:45435937:G:A</td>\n",
       "      <td>15:65663810:T:A</td>\n",
       "      <td>12:130897844:A:C</td>\n",
       "      <td>12:118537903:G:A</td>\n",
       "      <td>7:108241091:T:C</td>\n",
       "    </tr>\n",
       "    <tr>\n",
       "      <th>snp_3</th>\n",
       "      <td>14:66111019:T:A</td>\n",
       "      <td>19:53973172:C:T</td>\n",
       "      <td>16:11034933:A:G</td>\n",
       "      <td>6:23664848:A:T</td>\n",
       "      <td>22:22558078:C:T</td>\n",
       "    </tr>\n",
       "    <tr>\n",
       "      <th>snp_4</th>\n",
       "      <td>4:155341410:T:C</td>\n",
       "      <td>8:104125489:G:A</td>\n",
       "      <td>8:135867935:T:A</td>\n",
       "      <td>19:54756118:A:G</td>\n",
       "      <td>13:80896094:C:T</td>\n",
       "    </tr>\n",
       "    <tr>\n",
       "      <th>snp_5</th>\n",
       "      <td>---</td>\n",
       "      <td>---</td>\n",
       "      <td>---</td>\n",
       "      <td>16:27122796:G:A</td>\n",
       "      <td>9:8385838:T:C</td>\n",
       "    </tr>\n",
       "  </tbody>\n",
       "</table>\n",
       "</div>"
      ],
      "text/plain": [
       "                  O4V1             O4V2              O4V3              O5V1  \\\n",
       "order                4                4                 4                 5   \n",
       "snp_1   8:98902046:A:T  8:119176046:A:G     9:5346995:T:C   5:170173230:A:G   \n",
       "snp_2  22:45435937:G:A  15:65663810:T:A  12:130897844:A:C  12:118537903:G:A   \n",
       "snp_3  14:66111019:T:A  19:53973172:C:T   16:11034933:A:G    6:23664848:A:T   \n",
       "snp_4  4:155341410:T:C  8:104125489:G:A   8:135867935:T:A   19:54756118:A:G   \n",
       "snp_5              ---              ---               ---   16:27122796:G:A   \n",
       "\n",
       "                   O5V2  \n",
       "order                 5  \n",
       "snp_1  11:104044426:A:G  \n",
       "snp_2   7:108241091:T:C  \n",
       "snp_3   22:22558078:C:T  \n",
       "snp_4   13:80896094:C:T  \n",
       "snp_5     9:8385838:T:C  "
      ]
     },
     "execution_count": 18,
     "metadata": {},
     "output_type": "execute_result"
    }
   ],
   "source": [
    "varData.iloc[:6,-5:]"
   ]
  },
  {
   "cell_type": "markdown",
   "metadata": {},
   "source": [
    "# Form Variable Genotype and write it to \"outputPrefix.varGT.csv\"\n",
    "## For variables with more than one SNPs the genotype is the concatination of all SNPs involved\n",
    "## For example RHA, ARH and AAR could be genotype value of a variable with 3 snps"
   ]
  },
  {
   "cell_type": "code",
   "execution_count": 19,
   "metadata": {},
   "outputs": [],
   "source": [
    "varGT = df.iloc[:,-1:0].copy()"
   ]
  },
  {
   "cell_type": "code",
   "execution_count": 20,
   "metadata": {},
   "outputs": [],
   "source": [
    "for o,v in enumerate(config['variables']):\n",
    "    for i in range(0,v['numVar']):\n",
    "        name = 'O'+str(o+1)+'V'+str(i+1)\n",
    "        varGT[name] = ''\n",
    "        for k in range(0,v['numSnpsInVar']):\n",
    "            snp = 'snp_'+str(k+1)\n",
    "            varGT[name] = varGT[name] + df[varData.loc[snp,name]]"
   ]
  },
  {
   "cell_type": "code",
   "execution_count": 21,
   "metadata": {},
   "outputs": [],
   "source": [
    "varGT.to_csv(outputPrefix+'.varGT.csv')"
   ]
  },
  {
   "cell_type": "code",
   "execution_count": 22,
   "metadata": {},
   "outputs": [
    {
     "data": {
      "text/html": [
       "<div>\n",
       "<style scoped>\n",
       "    .dataframe tbody tr th:only-of-type {\n",
       "        vertical-align: middle;\n",
       "    }\n",
       "\n",
       "    .dataframe tbody tr th {\n",
       "        vertical-align: top;\n",
       "    }\n",
       "\n",
       "    .dataframe thead th {\n",
       "        text-align: right;\n",
       "    }\n",
       "</style>\n",
       "<table border=\"1\" class=\"dataframe\">\n",
       "  <thead>\n",
       "    <tr style=\"text-align: right;\">\n",
       "      <th>SNP</th>\n",
       "      <th>O4V1</th>\n",
       "      <th>O4V2</th>\n",
       "      <th>O4V3</th>\n",
       "      <th>O5V1</th>\n",
       "      <th>O5V2</th>\n",
       "    </tr>\n",
       "  </thead>\n",
       "  <tbody>\n",
       "    <tr>\n",
       "      <th>HG00096</th>\n",
       "      <td>RRRR</td>\n",
       "      <td>HAAH</td>\n",
       "      <td>HHHA</td>\n",
       "      <td>RHHAR</td>\n",
       "      <td>RHHAH</td>\n",
       "    </tr>\n",
       "    <tr>\n",
       "      <th>HG00097</th>\n",
       "      <td>RRRH</td>\n",
       "      <td>HAAR</td>\n",
       "      <td>HAHR</td>\n",
       "      <td>RHHHR</td>\n",
       "      <td>RRRHH</td>\n",
       "    </tr>\n",
       "    <tr>\n",
       "      <th>HG00099</th>\n",
       "      <td>ARHR</td>\n",
       "      <td>RAAR</td>\n",
       "      <td>RHHA</td>\n",
       "      <td>HRRAH</td>\n",
       "      <td>HARRR</td>\n",
       "    </tr>\n",
       "    <tr>\n",
       "      <th>HG00100</th>\n",
       "      <td>ARRH</td>\n",
       "      <td>RAHH</td>\n",
       "      <td>RAAH</td>\n",
       "      <td>HRHHR</td>\n",
       "      <td>HARHR</td>\n",
       "    </tr>\n",
       "    <tr>\n",
       "      <th>HG00101</th>\n",
       "      <td>ARRA</td>\n",
       "      <td>RHAH</td>\n",
       "      <td>RHAH</td>\n",
       "      <td>RRHHR</td>\n",
       "      <td>RRRAR</td>\n",
       "    </tr>\n",
       "  </tbody>\n",
       "</table>\n",
       "</div>"
      ],
      "text/plain": [
       "SNP      O4V1  O4V2  O4V3   O5V1   O5V2\n",
       "HG00096  RRRR  HAAH  HHHA  RHHAR  RHHAH\n",
       "HG00097  RRRH  HAAR  HAHR  RHHHR  RRRHH\n",
       "HG00099  ARHR  RAAR  RHHA  HRRAH  HARRR\n",
       "HG00100  ARRH  RAHH  RAAH  HRHHR  HARHR\n",
       "HG00101  ARRA  RHAH  RHAH  RRHHR  RRRAR"
      ]
     },
     "execution_count": 22,
     "metadata": {},
     "output_type": "execute_result"
    }
   ],
   "source": [
    "varGT.iloc[:5,-5:]"
   ]
  },
  {
   "cell_type": "code",
   "execution_count": 23,
   "metadata": {},
   "outputs": [],
   "source": [
    "PEPS2_Input = varGT.T.values.tolist()"
   ]
  },
  {
   "cell_type": "markdown",
   "metadata": {},
   "source": [
    "# PEPS2 Simulation"
   ]
  },
  {
   "cell_type": "code",
   "execution_count": 24,
   "metadata": {},
   "outputs": [],
   "source": [
    "def assign(genotypes, case_freq):\n",
    "    \"\"\"Create a list representing Cases (1) and Controls (0)\n",
    "​\n",
    "    Assigns cases and controls to the samples (in order) such that all\n",
    "    variables have a similar impact on the phenotype, and the case frequency is\n",
    "    case_freq.\n",
    "​\n",
    "    :param genotypes: A list of lists, where the primary index is variable, and\n",
    "        the secondary index is sample. Elements represent the value taken by\n",
    "        that variable in that sample. the most common value doesn't contribute\n",
    "        to the phenotype.\n",
    "    :param case_freq: The desired frequency of the case in the population.\n",
    "    :return: a list of the phenotypes of the samples\n",
    "    \"\"\"\n",
    "    num_samples = len(genotypes[0])\n",
    "    global_base_case = num_samples * (\n",
    "        1 - (1-case_freq) ** (1 / len(genotypes))\n",
    "    )\n",
    "    variable_likelihoods = []\n",
    "    for variable_values in genotypes:\n",
    "        value_counts = Counter(variable_values)\n",
    "        del value_counts[value_counts.most_common(1)[0][0]]  # remove most common genotype\n",
    "        num_values = len(value_counts)\n",
    "        variable_likelihoods.append({\n",
    "            k: 1 - min(global_base_case / (num_values * v), 1)\n",
    "            for k, v in value_counts.items()\n",
    "        })\n",
    "    sample_likelihoods = []\n",
    "    for s_i in range(num_samples):\n",
    "        control_prob = 1\n",
    "        for v_i, variable in enumerate(genotypes):\n",
    "            control_prob *= variable_likelihoods[v_i].get(variable[s_i], 1)\n",
    "        sample_likelihoods.append((control_prob, s_i))\n",
    "    sample_phenotypes = [0] * num_samples\n",
    "    sample_likelihoods.sort()\n",
    "    for _, s_i in sample_likelihoods[:int(case_freq * num_samples)]:\n",
    "        sample_phenotypes[s_i] = 1\n",
    "    return sample_phenotypes"
   ]
  },
  {
   "cell_type": "code",
   "execution_count": 25,
   "metadata": {},
   "outputs": [],
   "source": [
    "PEPS2_Output = assign(PEPS2_Input,0.5)"
   ]
  },
  {
   "cell_type": "code",
   "execution_count": 26,
   "metadata": {},
   "outputs": [],
   "source": [
    "varGT['lbl'] = PEPS2_Output"
   ]
  },
  {
   "cell_type": "markdown",
   "metadata": {},
   "source": [
    "# Compute and plot chi2-pvalue (log10) of the variables for the random phenotype"
   ]
  },
  {
   "cell_type": "code",
   "execution_count": 27,
   "metadata": {},
   "outputs": [
    {
     "data": {
      "text/html": [
       "<div>\n",
       "<style scoped>\n",
       "    .dataframe tbody tr th:only-of-type {\n",
       "        vertical-align: middle;\n",
       "    }\n",
       "\n",
       "    .dataframe tbody tr th {\n",
       "        vertical-align: top;\n",
       "    }\n",
       "\n",
       "    .dataframe thead th {\n",
       "        text-align: right;\n",
       "    }\n",
       "</style>\n",
       "<table border=\"1\" class=\"dataframe\">\n",
       "  <thead>\n",
       "    <tr style=\"text-align: right;\">\n",
       "      <th></th>\n",
       "      <th>number of vars exceed the p-value</th>\n",
       "    </tr>\n",
       "    <tr>\n",
       "      <th>p-value</th>\n",
       "      <th></th>\n",
       "    </tr>\n",
       "  </thead>\n",
       "  <tbody>\n",
       "    <tr>\n",
       "      <th>1.000000e+00</th>\n",
       "      <td>24</td>\n",
       "    </tr>\n",
       "    <tr>\n",
       "      <th>5.000000e-01</th>\n",
       "      <td>24</td>\n",
       "    </tr>\n",
       "    <tr>\n",
       "      <th>1.000000e-01</th>\n",
       "      <td>23</td>\n",
       "    </tr>\n",
       "    <tr>\n",
       "      <th>1.000000e-02</th>\n",
       "      <td>21</td>\n",
       "    </tr>\n",
       "    <tr>\n",
       "      <th>1.000000e-03</th>\n",
       "      <td>21</td>\n",
       "    </tr>\n",
       "    <tr>\n",
       "      <th>1.000000e-08</th>\n",
       "      <td>11</td>\n",
       "    </tr>\n",
       "    <tr>\n",
       "      <th>1.000000e-20</th>\n",
       "      <td>4</td>\n",
       "    </tr>\n",
       "  </tbody>\n",
       "</table>\n",
       "</div>"
      ],
      "text/plain": [
       "              number of vars exceed the p-value\n",
       "p-value                                        \n",
       "1.000000e+00                                 24\n",
       "5.000000e-01                                 24\n",
       "1.000000e-01                                 23\n",
       "1.000000e-02                                 21\n",
       "1.000000e-03                                 21\n",
       "1.000000e-08                                 11\n",
       "1.000000e-20                                  4"
      ]
     },
     "execution_count": 27,
     "metadata": {},
     "output_type": "execute_result"
    },
    {
     "data": {
      "image/png": "[encoded data removed]",
      "text/plain": [
       "<Figure size 432x288 with 1 Axes>"
      ]
     },
     "metadata": {
      "needs_background": "light"
     },
     "output_type": "display_data"
    }
   ],
   "source": [
    "features = varGT.columns[:-1]\n",
    "corrDict = dict()\n",
    "for v in features:\n",
    "    corrDict[v] = stats.chi2_contingency(pd.crosstab(varGT['lbl'],varGT[v]).values)[1]\n",
    "a = np.asarray(list(corrDict.values()))\n",
    "b = - np.log10(a)\n",
    "plt.plot(np.sort(b))\n",
    "nsat = list()\n",
    "for t in TA:\n",
    "    nsat.append([t, np.where(a<t)[0].shape[0]])\n",
    "x = pd.DataFrame(nsat)\n",
    "x.columns =['p-value', 'number of vars exceed the p-value']\n",
    "x.set_index('p-value')"
   ]
  },
  {
   "cell_type": "markdown",
   "metadata": {},
   "source": [
    "# Write Phenotype into a file outputPrefix.pheno.csv"
   ]
  },
  {
   "cell_type": "code",
   "execution_count": 28,
   "metadata": {},
   "outputs": [],
   "source": [
    "phen = varGT[['lbl']].copy()\n",
    "phen.index.name ='sample'\n",
    "phen.to_csv(outputPrefix+'.pheno.csv')"
   ]
  },
  {
   "cell_type": "code",
   "execution_count": 29,
   "metadata": {},
   "outputs": [
    {
     "data": {
      "text/html": [
       "<div>\n",
       "<style scoped>\n",
       "    .dataframe tbody tr th:only-of-type {\n",
       "        vertical-align: middle;\n",
       "    }\n",
       "\n",
       "    .dataframe tbody tr th {\n",
       "        vertical-align: top;\n",
       "    }\n",
       "\n",
       "    .dataframe thead th {\n",
       "        text-align: right;\n",
       "    }\n",
       "</style>\n",
       "<table border=\"1\" class=\"dataframe\">\n",
       "  <thead>\n",
       "    <tr style=\"text-align: right;\">\n",
       "      <th>SNP</th>\n",
       "      <th>lbl</th>\n",
       "    </tr>\n",
       "    <tr>\n",
       "      <th>sample</th>\n",
       "      <th></th>\n",
       "    </tr>\n",
       "  </thead>\n",
       "  <tbody>\n",
       "    <tr>\n",
       "      <th>HG00096</th>\n",
       "      <td>1</td>\n",
       "    </tr>\n",
       "    <tr>\n",
       "      <th>HG00097</th>\n",
       "      <td>1</td>\n",
       "    </tr>\n",
       "    <tr>\n",
       "      <th>HG00099</th>\n",
       "      <td>0</td>\n",
       "    </tr>\n",
       "    <tr>\n",
       "      <th>HG00100</th>\n",
       "      <td>1</td>\n",
       "    </tr>\n",
       "    <tr>\n",
       "      <th>HG00101</th>\n",
       "      <td>1</td>\n",
       "    </tr>\n",
       "  </tbody>\n",
       "</table>\n",
       "</div>"
      ],
      "text/plain": [
       "SNP      lbl\n",
       "sample      \n",
       "HG00096    1\n",
       "HG00097    1\n",
       "HG00099    0\n",
       "HG00100    1\n",
       "HG00101    1"
      ]
     },
     "execution_count": 29,
     "metadata": {},
     "output_type": "execute_result"
    }
   ],
   "source": [
    "phen.head()"
   ]
  },
  {
   "cell_type": "code",
   "execution_count": 30,
   "metadata": {},
   "outputs": [],
   "source": [
    "varData.to_csv(outputPrefix+'.varDataTruth.csv')"
   ]
  },
  {
   "cell_type": "code",
   "execution_count": 31,
   "metadata": {},
   "outputs": [
    {
     "data": {
      "text/html": [
       "<div>\n",
       "<style scoped>\n",
       "    .dataframe tbody tr th:only-of-type {\n",
       "        vertical-align: middle;\n",
       "    }\n",
       "\n",
       "    .dataframe tbody tr th {\n",
       "        vertical-align: top;\n",
       "    }\n",
       "\n",
       "    .dataframe thead th {\n",
       "        text-align: right;\n",
       "    }\n",
       "</style>\n",
       "<table border=\"1\" class=\"dataframe\">\n",
       "  <thead>\n",
       "    <tr style=\"text-align: right;\">\n",
       "      <th></th>\n",
       "      <th>O4V1</th>\n",
       "      <th>O4V2</th>\n",
       "      <th>O4V3</th>\n",
       "      <th>O5V1</th>\n",
       "      <th>O5V2</th>\n",
       "    </tr>\n",
       "  </thead>\n",
       "  <tbody>\n",
       "    <tr>\n",
       "      <th>order</th>\n",
       "      <td>4</td>\n",
       "      <td>4</td>\n",
       "      <td>4</td>\n",
       "      <td>5</td>\n",
       "      <td>5</td>\n",
       "    </tr>\n",
       "    <tr>\n",
       "      <th>snp_1</th>\n",
       "      <td>8:98902046:A:T</td>\n",
       "      <td>8:119176046:A:G</td>\n",
       "      <td>9:5346995:T:C</td>\n",
       "      <td>5:170173230:A:G</td>\n",
       "      <td>11:104044426:A:G</td>\n",
       "    </tr>\n",
       "    <tr>\n",
       "      <th>snp_2</th>\n",
       "      <td>22:45435937:G:A</td>\n",
       "      <td>15:65663810:T:A</td>\n",
       "      <td>12:130897844:A:C</td>\n",
       "      <td>12:118537903:G:A</td>\n",
       "      <td>7:108241091:T:C</td>\n",
       "    </tr>\n",
       "    <tr>\n",
       "      <th>snp_3</th>\n",
       "      <td>14:66111019:T:A</td>\n",
       "      <td>19:53973172:C:T</td>\n",
       "      <td>16:11034933:A:G</td>\n",
       "      <td>6:23664848:A:T</td>\n",
       "      <td>22:22558078:C:T</td>\n",
       "    </tr>\n",
       "    <tr>\n",
       "      <th>snp_4</th>\n",
       "      <td>4:155341410:T:C</td>\n",
       "      <td>8:104125489:G:A</td>\n",
       "      <td>8:135867935:T:A</td>\n",
       "      <td>19:54756118:A:G</td>\n",
       "      <td>13:80896094:C:T</td>\n",
       "    </tr>\n",
       "    <tr>\n",
       "      <th>snp_5</th>\n",
       "      <td>---</td>\n",
       "      <td>---</td>\n",
       "      <td>---</td>\n",
       "      <td>16:27122796:G:A</td>\n",
       "      <td>9:8385838:T:C</td>\n",
       "    </tr>\n",
       "  </tbody>\n",
       "</table>\n",
       "</div>"
      ],
      "text/plain": [
       "                  O4V1             O4V2              O4V3              O5V1  \\\n",
       "order                4                4                 4                 5   \n",
       "snp_1   8:98902046:A:T  8:119176046:A:G     9:5346995:T:C   5:170173230:A:G   \n",
       "snp_2  22:45435937:G:A  15:65663810:T:A  12:130897844:A:C  12:118537903:G:A   \n",
       "snp_3  14:66111019:T:A  19:53973172:C:T   16:11034933:A:G    6:23664848:A:T   \n",
       "snp_4  4:155341410:T:C  8:104125489:G:A   8:135867935:T:A   19:54756118:A:G   \n",
       "snp_5              ---              ---               ---   16:27122796:G:A   \n",
       "\n",
       "                   O5V2  \n",
       "order                 5  \n",
       "snp_1  11:104044426:A:G  \n",
       "snp_2   7:108241091:T:C  \n",
       "snp_3   22:22558078:C:T  \n",
       "snp_4   13:80896094:C:T  \n",
       "snp_5     9:8385838:T:C  "
      ]
     },
     "execution_count": 31,
     "metadata": {},
     "output_type": "execute_result"
    }
   ],
   "source": [
    "varData.iloc[:6,-5:]"
   ]
  },
  {
   "cell_type": "markdown",
   "metadata": {},
   "source": [
    "# Filter SNPs included in All and Truth Variables\n",
    "## write the Truth SNP names in  \"outputPrefix.TruthSNP.csv\""
   ]
  },
  {
   "cell_type": "code",
   "execution_count": 32,
   "metadata": {},
   "outputs": [],
   "source": [
    "snps = np.unique(varData.replace(np.nan, '', regex=True).drop('order').values.ravel())[1:]\n",
    "snpDataVar = snpData.loc[:, snpData.columns.isin(snps)].copy()\n",
    "\n",
    "pd.DataFrame(snps).rename(columns={0:'v'}).to_csv(outputPrefix+'.TruthSNP.csv',index=False)"
   ]
  },
  {
   "cell_type": "code",
   "execution_count": 33,
   "metadata": {},
   "outputs": [
    {
     "data": {
      "text/html": [
       "<div>\n",
       "<style scoped>\n",
       "    .dataframe tbody tr th:only-of-type {\n",
       "        vertical-align: middle;\n",
       "    }\n",
       "\n",
       "    .dataframe tbody tr th {\n",
       "        vertical-align: top;\n",
       "    }\n",
       "\n",
       "    .dataframe thead th {\n",
       "        text-align: right;\n",
       "    }\n",
       "</style>\n",
       "<table border=\"1\" class=\"dataframe\">\n",
       "  <thead>\n",
       "    <tr style=\"text-align: right;\">\n",
       "      <th>SNP</th>\n",
       "      <th>10:13163062:A:G</th>\n",
       "      <th>8:27617229:A:G</th>\n",
       "      <th>2:62739135:A:C</th>\n",
       "      <th>13:49041799:C:A</th>\n",
       "      <th>10:29278237:A:G</th>\n",
       "      <th>9:120258305:C:G</th>\n",
       "      <th>10:99360792:C:T</th>\n",
       "      <th>9:137716227:A:G</th>\n",
       "      <th>2:171082333:G:A</th>\n",
       "      <th>9:113165566:C:T</th>\n",
       "      <th>...</th>\n",
       "      <th>11:118025917:G:A</th>\n",
       "      <th>7:155923616:C:T</th>\n",
       "      <th>20:9440715:C:G</th>\n",
       "      <th>1:15154630:C:T</th>\n",
       "      <th>8:1789817:A:T</th>\n",
       "      <th>11:112340860:T:A</th>\n",
       "      <th>22:46354932:G:C</th>\n",
       "      <th>5:56883238:T:C</th>\n",
       "      <th>13:36734676:C:A</th>\n",
       "      <th>1:24206753:C:T</th>\n",
       "    </tr>\n",
       "  </thead>\n",
       "  <tbody>\n",
       "    <tr>\n",
       "      <th>HG00096</th>\n",
       "      <td>0</td>\n",
       "      <td>2</td>\n",
       "      <td>1</td>\n",
       "      <td>0</td>\n",
       "      <td>1</td>\n",
       "      <td>1</td>\n",
       "      <td>1</td>\n",
       "      <td>2</td>\n",
       "      <td>2</td>\n",
       "      <td>1</td>\n",
       "      <td>...</td>\n",
       "      <td>1</td>\n",
       "      <td>0</td>\n",
       "      <td>1</td>\n",
       "      <td>0</td>\n",
       "      <td>1</td>\n",
       "      <td>1</td>\n",
       "      <td>1</td>\n",
       "      <td>2</td>\n",
       "      <td>0</td>\n",
       "      <td>2</td>\n",
       "    </tr>\n",
       "    <tr>\n",
       "      <th>HG00097</th>\n",
       "      <td>0</td>\n",
       "      <td>2</td>\n",
       "      <td>2</td>\n",
       "      <td>1</td>\n",
       "      <td>0</td>\n",
       "      <td>1</td>\n",
       "      <td>1</td>\n",
       "      <td>2</td>\n",
       "      <td>2</td>\n",
       "      <td>2</td>\n",
       "      <td>...</td>\n",
       "      <td>2</td>\n",
       "      <td>2</td>\n",
       "      <td>0</td>\n",
       "      <td>1</td>\n",
       "      <td>0</td>\n",
       "      <td>1</td>\n",
       "      <td>1</td>\n",
       "      <td>2</td>\n",
       "      <td>1</td>\n",
       "      <td>2</td>\n",
       "    </tr>\n",
       "    <tr>\n",
       "      <th>HG00099</th>\n",
       "      <td>1</td>\n",
       "      <td>2</td>\n",
       "      <td>2</td>\n",
       "      <td>1</td>\n",
       "      <td>0</td>\n",
       "      <td>0</td>\n",
       "      <td>1</td>\n",
       "      <td>2</td>\n",
       "      <td>1</td>\n",
       "      <td>1</td>\n",
       "      <td>...</td>\n",
       "      <td>0</td>\n",
       "      <td>1</td>\n",
       "      <td>1</td>\n",
       "      <td>1</td>\n",
       "      <td>0</td>\n",
       "      <td>1</td>\n",
       "      <td>0</td>\n",
       "      <td>2</td>\n",
       "      <td>0</td>\n",
       "      <td>2</td>\n",
       "    </tr>\n",
       "    <tr>\n",
       "      <th>HG00100</th>\n",
       "      <td>1</td>\n",
       "      <td>2</td>\n",
       "      <td>2</td>\n",
       "      <td>1</td>\n",
       "      <td>0</td>\n",
       "      <td>1</td>\n",
       "      <td>1</td>\n",
       "      <td>0</td>\n",
       "      <td>1</td>\n",
       "      <td>0</td>\n",
       "      <td>...</td>\n",
       "      <td>1</td>\n",
       "      <td>1</td>\n",
       "      <td>0</td>\n",
       "      <td>0</td>\n",
       "      <td>1</td>\n",
       "      <td>2</td>\n",
       "      <td>0</td>\n",
       "      <td>2</td>\n",
       "      <td>0</td>\n",
       "      <td>1</td>\n",
       "    </tr>\n",
       "    <tr>\n",
       "      <th>HG00101</th>\n",
       "      <td>1</td>\n",
       "      <td>2</td>\n",
       "      <td>2</td>\n",
       "      <td>1</td>\n",
       "      <td>2</td>\n",
       "      <td>2</td>\n",
       "      <td>1</td>\n",
       "      <td>1</td>\n",
       "      <td>1</td>\n",
       "      <td>0</td>\n",
       "      <td>...</td>\n",
       "      <td>1</td>\n",
       "      <td>1</td>\n",
       "      <td>1</td>\n",
       "      <td>0</td>\n",
       "      <td>1</td>\n",
       "      <td>0</td>\n",
       "      <td>1</td>\n",
       "      <td>1</td>\n",
       "      <td>0</td>\n",
       "      <td>2</td>\n",
       "    </tr>\n",
       "    <tr>\n",
       "      <th>...</th>\n",
       "      <td>...</td>\n",
       "      <td>...</td>\n",
       "      <td>...</td>\n",
       "      <td>...</td>\n",
       "      <td>...</td>\n",
       "      <td>...</td>\n",
       "      <td>...</td>\n",
       "      <td>...</td>\n",
       "      <td>...</td>\n",
       "      <td>...</td>\n",
       "      <td>...</td>\n",
       "      <td>...</td>\n",
       "      <td>...</td>\n",
       "      <td>...</td>\n",
       "      <td>...</td>\n",
       "      <td>...</td>\n",
       "      <td>...</td>\n",
       "      <td>...</td>\n",
       "      <td>...</td>\n",
       "      <td>...</td>\n",
       "      <td>...</td>\n",
       "    </tr>\n",
       "    <tr>\n",
       "      <th>NA21137</th>\n",
       "      <td>0</td>\n",
       "      <td>2</td>\n",
       "      <td>2</td>\n",
       "      <td>1</td>\n",
       "      <td>2</td>\n",
       "      <td>1</td>\n",
       "      <td>1</td>\n",
       "      <td>1</td>\n",
       "      <td>1</td>\n",
       "      <td>1</td>\n",
       "      <td>...</td>\n",
       "      <td>1</td>\n",
       "      <td>0</td>\n",
       "      <td>1</td>\n",
       "      <td>1</td>\n",
       "      <td>0</td>\n",
       "      <td>1</td>\n",
       "      <td>0</td>\n",
       "      <td>0</td>\n",
       "      <td>2</td>\n",
       "      <td>2</td>\n",
       "    </tr>\n",
       "    <tr>\n",
       "      <th>NA21141</th>\n",
       "      <td>0</td>\n",
       "      <td>2</td>\n",
       "      <td>2</td>\n",
       "      <td>1</td>\n",
       "      <td>1</td>\n",
       "      <td>0</td>\n",
       "      <td>0</td>\n",
       "      <td>1</td>\n",
       "      <td>1</td>\n",
       "      <td>1</td>\n",
       "      <td>...</td>\n",
       "      <td>1</td>\n",
       "      <td>0</td>\n",
       "      <td>1</td>\n",
       "      <td>1</td>\n",
       "      <td>0</td>\n",
       "      <td>1</td>\n",
       "      <td>0</td>\n",
       "      <td>1</td>\n",
       "      <td>0</td>\n",
       "      <td>2</td>\n",
       "    </tr>\n",
       "    <tr>\n",
       "      <th>NA21142</th>\n",
       "      <td>1</td>\n",
       "      <td>2</td>\n",
       "      <td>2</td>\n",
       "      <td>2</td>\n",
       "      <td>1</td>\n",
       "      <td>1</td>\n",
       "      <td>0</td>\n",
       "      <td>2</td>\n",
       "      <td>1</td>\n",
       "      <td>1</td>\n",
       "      <td>...</td>\n",
       "      <td>2</td>\n",
       "      <td>2</td>\n",
       "      <td>1</td>\n",
       "      <td>1</td>\n",
       "      <td>0</td>\n",
       "      <td>1</td>\n",
       "      <td>1</td>\n",
       "      <td>1</td>\n",
       "      <td>1</td>\n",
       "      <td>2</td>\n",
       "    </tr>\n",
       "    <tr>\n",
       "      <th>NA21143</th>\n",
       "      <td>1</td>\n",
       "      <td>2</td>\n",
       "      <td>2</td>\n",
       "      <td>1</td>\n",
       "      <td>0</td>\n",
       "      <td>1</td>\n",
       "      <td>0</td>\n",
       "      <td>2</td>\n",
       "      <td>1</td>\n",
       "      <td>2</td>\n",
       "      <td>...</td>\n",
       "      <td>1</td>\n",
       "      <td>1</td>\n",
       "      <td>1</td>\n",
       "      <td>0</td>\n",
       "      <td>2</td>\n",
       "      <td>1</td>\n",
       "      <td>0</td>\n",
       "      <td>1</td>\n",
       "      <td>0</td>\n",
       "      <td>1</td>\n",
       "    </tr>\n",
       "    <tr>\n",
       "      <th>NA21144</th>\n",
       "      <td>1</td>\n",
       "      <td>2</td>\n",
       "      <td>1</td>\n",
       "      <td>1</td>\n",
       "      <td>2</td>\n",
       "      <td>1</td>\n",
       "      <td>1</td>\n",
       "      <td>2</td>\n",
       "      <td>2</td>\n",
       "      <td>0</td>\n",
       "      <td>...</td>\n",
       "      <td>0</td>\n",
       "      <td>1</td>\n",
       "      <td>1</td>\n",
       "      <td>1</td>\n",
       "      <td>1</td>\n",
       "      <td>1</td>\n",
       "      <td>1</td>\n",
       "      <td>1</td>\n",
       "      <td>0</td>\n",
       "      <td>2</td>\n",
       "    </tr>\n",
       "  </tbody>\n",
       "</table>\n",
       "<p>2504 rows × 17373 columns</p>\n",
       "</div>"
      ],
      "text/plain": [
       "SNP      10:13163062:A:G  8:27617229:A:G  2:62739135:A:C  13:49041799:C:A  \\\n",
       "HG00096                0               2               1                0   \n",
       "HG00097                0               2               2                1   \n",
       "HG00099                1               2               2                1   \n",
       "HG00100                1               2               2                1   \n",
       "HG00101                1               2               2                1   \n",
       "...                  ...             ...             ...              ...   \n",
       "NA21137                0               2               2                1   \n",
       "NA21141                0               2               2                1   \n",
       "NA21142                1               2               2                2   \n",
       "NA21143                1               2               2                1   \n",
       "NA21144                1               2               1                1   \n",
       "\n",
       "SNP      10:29278237:A:G  9:120258305:C:G  10:99360792:C:T  9:137716227:A:G  \\\n",
       "HG00096                1                1                1                2   \n",
       "HG00097                0                1                1                2   \n",
       "HG00099                0                0                1                2   \n",
       "HG00100                0                1                1                0   \n",
       "HG00101                2                2                1                1   \n",
       "...                  ...              ...              ...              ...   \n",
       "NA21137                2                1                1                1   \n",
       "NA21141                1                0                0                1   \n",
       "NA21142                1                1                0                2   \n",
       "NA21143                0                1                0                2   \n",
       "NA21144                2                1                1                2   \n",
       "\n",
       "SNP      2:171082333:G:A  9:113165566:C:T  ...  11:118025917:G:A  \\\n",
       "HG00096                2                1  ...                 1   \n",
       "HG00097                2                2  ...                 2   \n",
       "HG00099                1                1  ...                 0   \n",
       "HG00100                1                0  ...                 1   \n",
       "HG00101                1                0  ...                 1   \n",
       "...                  ...              ...  ...               ...   \n",
       "NA21137                1                1  ...                 1   \n",
       "NA21141                1                1  ...                 1   \n",
       "NA21142                1                1  ...                 2   \n",
       "NA21143                1                2  ...                 1   \n",
       "NA21144                2                0  ...                 0   \n",
       "\n",
       "SNP      7:155923616:C:T  20:9440715:C:G  1:15154630:C:T  8:1789817:A:T  \\\n",
       "HG00096                0               1               0              1   \n",
       "HG00097                2               0               1              0   \n",
       "HG00099                1               1               1              0   \n",
       "HG00100                1               0               0              1   \n",
       "HG00101                1               1               0              1   \n",
       "...                  ...             ...             ...            ...   \n",
       "NA21137                0               1               1              0   \n",
       "NA21141                0               1               1              0   \n",
       "NA21142                2               1               1              0   \n",
       "NA21143                1               1               0              2   \n",
       "NA21144                1               1               1              1   \n",
       "\n",
       "SNP      11:112340860:T:A  22:46354932:G:C  5:56883238:T:C  13:36734676:C:A  \\\n",
       "HG00096                 1                1               2                0   \n",
       "HG00097                 1                1               2                1   \n",
       "HG00099                 1                0               2                0   \n",
       "HG00100                 2                0               2                0   \n",
       "HG00101                 0                1               1                0   \n",
       "...                   ...              ...             ...              ...   \n",
       "NA21137                 1                0               0                2   \n",
       "NA21141                 1                0               1                0   \n",
       "NA21142                 1                1               1                1   \n",
       "NA21143                 1                0               1                0   \n",
       "NA21144                 1                1               1                0   \n",
       "\n",
       "SNP      1:24206753:C:T  \n",
       "HG00096               2  \n",
       "HG00097               2  \n",
       "HG00099               2  \n",
       "HG00100               1  \n",
       "HG00101               2  \n",
       "...                 ...  \n",
       "NA21137               2  \n",
       "NA21141               2  \n",
       "NA21142               2  \n",
       "NA21143               1  \n",
       "NA21144               2  \n",
       "\n",
       "[2504 rows x 17373 columns]"
      ]
     },
     "execution_count": 33,
     "metadata": {},
     "output_type": "execute_result"
    }
   ],
   "source": [
    "snpData"
   ]
  },
  {
   "cell_type": "code",
   "execution_count": 34,
   "metadata": {},
   "outputs": [
    {
     "name": "stdout",
     "output_type": "stream",
     "text": [
      "Number of SNPs used to form Variables:  54\n"
     ]
    }
   ],
   "source": [
    "num_truth_snp = snpDataVar.shape[1]\n",
    "print(\"Number of SNPs used to form Variables: \",num_truth_snp)"
   ]
  },
  {
   "cell_type": "code",
   "execution_count": 35,
   "metadata": {},
   "outputs": [
    {
     "data": {
      "text/html": [
       "<div>\n",
       "<style scoped>\n",
       "    .dataframe tbody tr th:only-of-type {\n",
       "        vertical-align: middle;\n",
       "    }\n",
       "\n",
       "    .dataframe tbody tr th {\n",
       "        vertical-align: top;\n",
       "    }\n",
       "\n",
       "    .dataframe thead th {\n",
       "        text-align: right;\n",
       "    }\n",
       "</style>\n",
       "<table border=\"1\" class=\"dataframe\">\n",
       "  <thead>\n",
       "    <tr style=\"text-align: right;\">\n",
       "      <th>SNP</th>\n",
       "      <th>11:104044426:A:G</th>\n",
       "      <th>7:108241091:T:C</th>\n",
       "      <th>22:22558078:C:T</th>\n",
       "      <th>13:80896094:C:T</th>\n",
       "      <th>9:8385838:T:C</th>\n",
       "    </tr>\n",
       "  </thead>\n",
       "  <tbody>\n",
       "    <tr>\n",
       "      <th>HG00096</th>\n",
       "      <td>0</td>\n",
       "      <td>1</td>\n",
       "      <td>1</td>\n",
       "      <td>2</td>\n",
       "      <td>1</td>\n",
       "    </tr>\n",
       "    <tr>\n",
       "      <th>HG00097</th>\n",
       "      <td>0</td>\n",
       "      <td>0</td>\n",
       "      <td>0</td>\n",
       "      <td>1</td>\n",
       "      <td>1</td>\n",
       "    </tr>\n",
       "    <tr>\n",
       "      <th>HG00099</th>\n",
       "      <td>1</td>\n",
       "      <td>2</td>\n",
       "      <td>0</td>\n",
       "      <td>0</td>\n",
       "      <td>0</td>\n",
       "    </tr>\n",
       "    <tr>\n",
       "      <th>HG00100</th>\n",
       "      <td>1</td>\n",
       "      <td>2</td>\n",
       "      <td>0</td>\n",
       "      <td>1</td>\n",
       "      <td>0</td>\n",
       "    </tr>\n",
       "    <tr>\n",
       "      <th>HG00101</th>\n",
       "      <td>0</td>\n",
       "      <td>0</td>\n",
       "      <td>0</td>\n",
       "      <td>2</td>\n",
       "      <td>0</td>\n",
       "    </tr>\n",
       "  </tbody>\n",
       "</table>\n",
       "</div>"
      ],
      "text/plain": [
       "SNP      11:104044426:A:G  7:108241091:T:C  22:22558078:C:T  13:80896094:C:T  \\\n",
       "HG00096                 0                1                1                2   \n",
       "HG00097                 0                0                0                1   \n",
       "HG00099                 1                2                0                0   \n",
       "HG00100                 1                2                0                1   \n",
       "HG00101                 0                0                0                2   \n",
       "\n",
       "SNP      9:8385838:T:C  \n",
       "HG00096              1  \n",
       "HG00097              1  \n",
       "HG00099              0  \n",
       "HG00100              0  \n",
       "HG00101              0  "
      ]
     },
     "execution_count": 35,
     "metadata": {},
     "output_type": "execute_result"
    }
   ],
   "source": [
    "snpDataVar.iloc[:5,-5:]"
   ]
  },
  {
   "cell_type": "markdown",
   "metadata": {},
   "source": [
    "# Add Phenotype to SNP Data"
   ]
  },
  {
   "cell_type": "code",
   "execution_count": 36,
   "metadata": {},
   "outputs": [],
   "source": [
    "snpDataVar.loc[:, 'lbl'] = varGT['lbl']\n",
    "snpData.loc[:, 'lbl'] = varGT['lbl']"
   ]
  },
  {
   "cell_type": "markdown",
   "metadata": {},
   "source": [
    "# Compute and plot chi2-pvalue (log10) of the variables for the random phenotype"
   ]
  },
  {
   "cell_type": "code",
   "execution_count": 37,
   "metadata": {},
   "outputs": [
    {
     "data": {
      "text/html": [
       "<div>\n",
       "<style scoped>\n",
       "    .dataframe tbody tr th:only-of-type {\n",
       "        vertical-align: middle;\n",
       "    }\n",
       "\n",
       "    .dataframe tbody tr th {\n",
       "        vertical-align: top;\n",
       "    }\n",
       "\n",
       "    .dataframe thead th {\n",
       "        text-align: right;\n",
       "    }\n",
       "</style>\n",
       "<table border=\"1\" class=\"dataframe\">\n",
       "  <thead>\n",
       "    <tr style=\"text-align: right;\">\n",
       "      <th></th>\n",
       "      <th>number of SNPs exceed the p-value</th>\n",
       "    </tr>\n",
       "    <tr>\n",
       "      <th>p-value</th>\n",
       "      <th></th>\n",
       "    </tr>\n",
       "  </thead>\n",
       "  <tbody>\n",
       "    <tr>\n",
       "      <th>1.000000e+00</th>\n",
       "      <td>54</td>\n",
       "    </tr>\n",
       "    <tr>\n",
       "      <th>5.000000e-01</th>\n",
       "      <td>53</td>\n",
       "    </tr>\n",
       "    <tr>\n",
       "      <th>1.000000e-01</th>\n",
       "      <td>51</td>\n",
       "    </tr>\n",
       "    <tr>\n",
       "      <th>1.000000e-02</th>\n",
       "      <td>41</td>\n",
       "    </tr>\n",
       "    <tr>\n",
       "      <th>1.000000e-03</th>\n",
       "      <td>34</td>\n",
       "    </tr>\n",
       "    <tr>\n",
       "      <th>1.000000e-08</th>\n",
       "      <td>12</td>\n",
       "    </tr>\n",
       "    <tr>\n",
       "      <th>1.000000e-20</th>\n",
       "      <td>4</td>\n",
       "    </tr>\n",
       "  </tbody>\n",
       "</table>\n",
       "</div>"
      ],
      "text/plain": [
       "              number of SNPs exceed the p-value\n",
       "p-value                                        \n",
       "1.000000e+00                                 54\n",
       "5.000000e-01                                 53\n",
       "1.000000e-01                                 51\n",
       "1.000000e-02                                 41\n",
       "1.000000e-03                                 34\n",
       "1.000000e-08                                 12\n",
       "1.000000e-20                                  4"
      ]
     },
     "execution_count": 37,
     "metadata": {},
     "output_type": "execute_result"
    },
    {
     "data": {
      "image/png": "[encoded data removed]",
      "text/plain": [
       "<Figure size 432x288 with 1 Axes>"
      ]
     },
     "metadata": {
      "needs_background": "light"
     },
     "output_type": "display_data"
    }
   ],
   "source": [
    "features = snpDataVar.columns[:-1]\n",
    "corrDict = dict()\n",
    "for v in features:\n",
    "    corrDict[v] = stats.chi2_contingency(pd.crosstab(snpDataVar['lbl'],snpDataVar[v]).values)[1]\n",
    "a = np.asarray(list(corrDict.values()))\n",
    "b = - np.log10(a)\n",
    "plt.plot(np.sort(b))\n",
    "nsat = list()\n",
    "for t in TA:\n",
    "    nsat.append([t, np.where(a<t)[0].shape[0]])\n",
    "x = pd.DataFrame(nsat)\n",
    "x.columns =['p-value', 'number of SNPs exceed the p-value']\n",
    "x.set_index('p-value')"
   ]
  },
  {
   "cell_type": "markdown",
   "metadata": {},
   "source": [
    "# This function used to predict lable using RandomForest\n",
    "## 75% training and 25% test"
   ]
  },
  {
   "cell_type": "code",
   "execution_count": 38,
   "metadata": {},
   "outputs": [],
   "source": [
    "def RF_AUC(dfx, nTree):\n",
    "    df = dfx.copy()\n",
    "    features = df.columns[:-1]\n",
    "    \n",
    "    df['is_train'] = np.random.uniform(0, 1, len(df)) <= .75\n",
    "    train, test = df[df['is_train']==True], df[df['is_train']==False]\n",
    "    clf = RandomForestClassifier(n_jobs=2, n_estimators=nTree, random_state=0)\n",
    "    clf.fit(train[features], train['lbl'])\n",
    "    prob = clf.predict_proba(test[features])\n",
    "    y_true = test['lbl']\n",
    "    y_scores = prob[:,1]\n",
    "    return clf, roc_auc_score(y_true, y_scores)\n"
   ]
  },
  {
   "cell_type": "markdown",
   "metadata": {},
   "source": [
    "# Train and test RandomForest for TruthSNP as well as for all SNP in the input file\n",
    "## Print AUC\n",
    "## Plot Importance Score"
   ]
  },
  {
   "cell_type": "code",
   "execution_count": 39,
   "metadata": {},
   "outputs": [],
   "source": [
    "aucvars = []"
   ]
  },
  {
   "cell_type": "code",
   "execution_count": 40,
   "metadata": {},
   "outputs": [
    {
     "name": "stdout",
     "output_type": "stream",
     "text": [
      "AUC All SNPs in Variables :  [0.917]\n"
     ]
    }
   ],
   "source": [
    "clfVar,   AucVar   = RF_AUC(snpDataVar  , nTree=numTree)\n",
    "aucvars.append(round(AucVar, 3))\n",
    "print(\"AUC All SNPs in Variables : \", aucvars)"
   ]
  },
  {
   "cell_type": "code",
   "execution_count": 41,
   "metadata": {},
   "outputs": [
    {
     "name": "stdout",
     "output_type": "stream",
     "text": [
      "AUC All SNPs in Variables :  [0.917, 0.908]\n"
     ]
    }
   ],
   "source": [
    "clfVar,   AucVar   = RF_AUC(snpDataVar  , nTree=numTree)\n",
    "aucvars.append(round(AucVar, 3))\n",
    "print(\"AUC All SNPs in Variables : \", aucvars)"
   ]
  },
  {
   "cell_type": "code",
   "execution_count": 42,
   "metadata": {},
   "outputs": [
    {
     "name": "stdout",
     "output_type": "stream",
     "text": [
      "AUC All SNPs in Variables :  [0.917, 0.908, 0.907]\n"
     ]
    }
   ],
   "source": [
    "clfVar,   AucVar   = RF_AUC(snpDataVar  , nTree=numTree)\n",
    "aucvars.append(round(AucVar, 3))\n",
    "print(\"AUC All SNPs in Variables : \", aucvars)"
   ]
  },
  {
   "cell_type": "code",
   "execution_count": 43,
   "metadata": {},
   "outputs": [
    {
     "name": "stdout",
     "output_type": "stream",
     "text": [
      "AUC All SNPs in Variables :  [0.917, 0.908, 0.907, 0.905]\n"
     ]
    }
   ],
   "source": [
    "clfVar,   AucVar   = RF_AUC(snpDataVar  , nTree=numTree)\n",
    "aucvars.append(round(AucVar, 3))\n",
    "print(\"AUC All SNPs in Variables : \", aucvars)"
   ]
  },
  {
   "cell_type": "code",
   "execution_count": 44,
   "metadata": {},
   "outputs": [
    {
     "name": "stdout",
     "output_type": "stream",
     "text": [
      "AUC All SNPs in Variables :  [0.917, 0.908, 0.907, 0.905, 0.919]\n",
      "0.911\n"
     ]
    }
   ],
   "source": [
    "clfVar,   AucVar   = RF_AUC(snpDataVar  , nTree=numTree)\n",
    "aucvars.append(round(AucVar, 3))\n",
    "print(\"AUC All SNPs in Variables : \", aucvars)\n",
    "print(round(sum(aucvars)/len(aucvars), 3))"
   ]
  },
  {
   "cell_type": "code",
   "execution_count": 45,
   "metadata": {},
   "outputs": [],
   "source": [
    "clf,      Auc      = RF_AUC(snpData     , nTree=numTree)\n",
    "importance_indexes =  [(snp_import, snp_index) for snp_index, snp_import in enumerate(clf.feature_importances_)]\n",
    "importance_indexes.sort(reverse=True)"
   ]
  },
  {
   "cell_type": "code",
   "execution_count": 46,
   "metadata": {},
   "outputs": [
    {
     "name": "stdout",
     "output_type": "stream",
     "text": [
      "AUC All SNPs in Variables :  0.919\n",
      "AUC All SNPs in input file:  0.673\n",
      "Top 108 SNPs:  0.869\n"
     ]
    },
    {
     "data": {
      "text/plain": [
       "<matplotlib.axes._subplots.AxesSubplot at 0x7f7e4c693ef0>"
      ]
     },
     "execution_count": 46,
     "metadata": {},
     "output_type": "execute_result"
    },
    {
     "data": {
      "image/png": "[encoded data removed]",
      "text/plain": [
       "<Figure size 432x288 with 1 Axes>"
      ]
     },
     "metadata": {
      "needs_background": "light"
     },
     "output_type": "display_data"
    },
    {
     "data": {
      "image/png": "[encoded data removed]",
      "text/plain": [
       "<Figure size 432x288 with 1 Axes>"
      ]
     },
     "metadata": {
      "needs_background": "light"
     },
     "output_type": "display_data"
    },
    {
     "data": {
      "image/png": "[encoded data removed]",
      "text/plain": [
       "<Figure size 432x288 with 1 Axes>"
      ]
     },
     "metadata": {
      "needs_background": "light"
     },
     "output_type": "display_data"
    }
   ],
   "source": [
    "num_top = num_truth_snp * 2\n",
    "top_snp_indexes = [snp[1] for snp in importance_indexes[:num_top]]\n",
    "topSnps = snpData.iloc[:, top_snp_indexes + [-1]]\n",
    "clfTop,      AucTop      = RF_AUC(topSnps, nTree=numTree)\n",
    "print(\"AUC All SNPs in Variables : \", round(AucVar, 3))\n",
    "print(\"AUC All SNPs in input file: \", round(Auc, 3))\n",
    "print(\"Top \" + str(num_top) + \" SNPs: \", round(AucTop, 3))\n",
    "pd.DataFrame(np.sort(clfVar.feature_importances_)).plot(title=\"All SNP in Variables\")\n",
    "pd.DataFrame(np.sort(clf.feature_importances_)).plot(title=\"All SNP in input file\")\n",
    "pd.DataFrame(np.sort(clfTop.feature_importances_)).plot(title=\"Top \" + str(num_top) + \" SNPs in input file\")"
   ]
  }
 ],
 "metadata": {
  "kernelspec": {
   "display_name": "Python 3",
   "language": "python",
   "name": "python3"
  },
  "language_info": {
   "codemirror_mode": {
    "name": "ipython",
    "version": 3
   },
   "file_extension": ".py",
   "mimetype": "text/x-python",
   "name": "python",
   "nbconvert_exporter": "python",
   "pygments_lexer": "ipython3",
   "version": "3.6.7"
  }
 },
 "nbformat": 4,
 "nbformat_minor": 2
}
