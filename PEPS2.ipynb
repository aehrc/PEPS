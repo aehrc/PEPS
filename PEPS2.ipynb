{
 "cells": [
  {
   "cell_type": "markdown",
   "metadata": {},
   "source": [
    "# =========================================================\n",
    "# PolyEpi: Polygenic Phenotype with Higher-Order Epistasis Interactios\n",
    "# ========================================================="
   ]
  },
  {
   "cell_type": "markdown",
   "metadata": {},
   "source": [
    "# Path to the config file (Modify this before running the notebook."
   ]
  },
  {
   "cell_type": "code",
   "execution_count": 1,
   "metadata": {},
   "outputs": [],
   "source": [
    "#configFilePath='SampleData/config-small.json' # ~100 SNPs\n",
    "#configFilePath='SampleData/config-large.json' # ~5,000 SNPs\n",
    "#configFilePath='1000Genomes/config.json' # ~17,000 SNPs\n",
    "configFilePath='SampleData/config-peps2.json'"
   ]
  },
  {
   "cell_type": "markdown",
   "metadata": {},
   "source": [
    "# Initialisation"
   ]
  },
  {
   "cell_type": "code",
   "execution_count": 2,
   "metadata": {},
   "outputs": [],
   "source": [
    "import sys\n",
    "import numpy as np\n",
    "import pandas as pd\n",
    "from matplotlib import pyplot as plt\n",
    "import json\n",
    "from collections import Counter\n",
    "from random import random\n",
    "\n",
    "from pprint import pprint\n",
    "from pdbio.vcfdataframe import VcfDataFrame\n",
    "\n",
    "import itertools\n",
    "\n",
    "from sklearn.feature_selection import SelectKBest, chi2\n",
    "from sklearn.ensemble import RandomForestClassifier\n",
    "from sklearn.metrics import roc_auc_score\n",
    "from scipy import stats\n",
    "import sklearn\n",
    "\n",
    "TA = [1, .5, 1e-1, 1e-2, 1e-3, 1e-8, 1e-20]"
   ]
  },
  {
   "cell_type": "markdown",
   "metadata": {},
   "source": [
    "# Read the config file"
   ]
  },
  {
   "cell_type": "code",
   "execution_count": 3,
   "metadata": {},
   "outputs": [],
   "source": [
    "with open(configFilePath, 'r') as f:\n",
    "    config = json.load(f)"
   ]
  },
  {
   "cell_type": "code",
   "execution_count": 4,
   "metadata": {},
   "outputs": [],
   "source": [
    "shuffleSnps = config['shuffleSnps']\n",
    "inputType = config['inputType']\n",
    "dumpCSV = config['dumpCSV']\n",
    "\n",
    "vcfInputPath = config['inputPrefix']+'.vcf'\n",
    "csvInputPath = config['inputPrefix']+'.csv'\n",
    "\n",
    "outputPrefix = config['outputPrefix']\n",
    "\n",
    "pvalueThr = config['pvalueThr']\n",
    "numTree = config['numTree']\n",
    "numLoop = config['numLoop']"
   ]
  },
  {
   "cell_type": "markdown",
   "metadata": {},
   "source": [
    "# Compute total numebr of variables and number of requierd SNPs to form the variables"
   ]
  },
  {
   "cell_type": "code",
   "execution_count": 5,
   "metadata": {},
   "outputs": [],
   "source": [
    "numVariables = 0\n",
    "numSnpsNeeded = 0\n",
    "maxOrder = 0\n",
    "\n",
    "for v in config['variables']:\n",
    "    v['numSNPs'] = v['numVar'] * v['numSnpsInVar']\n",
    "    numVariables += v['numVar']\n",
    "    numSnpsNeeded += v['numSNPs']\n",
    "    if v['numSnpsInVar']>maxOrder:\n",
    "        maxOrder = v['numSnpsInVar']\n",
    "    \n",
    "config['numVariables'] = numVariables\n",
    "config['numSnpsNeeded'] = numSnpsNeeded\n",
    "config['maxOrder'] = maxOrder"
   ]
  },
  {
   "cell_type": "markdown",
   "metadata": {},
   "source": [
    "# Print config data and write it in \"outputPrefix.config.json\""
   ]
  },
  {
   "cell_type": "code",
   "execution_count": 6,
   "metadata": {},
   "outputs": [
    {
     "name": "stdout",
     "output_type": "stream",
     "text": [
      "========== Configuration >>>\n",
      "{'dumpCSV': False,\n",
      " 'inputPrefix': 'SampleData/input-large',\n",
      " 'inputType': 'csv',\n",
      " 'maxOrder': 5,\n",
      " 'numLoop': 1,\n",
      " 'numSnpsNeeded': 10,\n",
      " 'numTree': 500,\n",
      " 'numVariables': 10,\n",
      " 'outputPrefix': 'SampleData/PEPS2',\n",
      " 'pvalueThr': 0.1,\n",
      " 'shuffleSnps': False,\n",
      " 'variables': [{'numSNPs': 10, 'numSnpsInVar': 1, 'numVar': 10},\n",
      "               {'numSNPs': 0, 'numSnpsInVar': 2, 'numVar': 0},\n",
      "               {'numSNPs': 0, 'numSnpsInVar': 3, 'numVar': 0},\n",
      "               {'numSNPs': 0, 'numSnpsInVar': 4, 'numVar': 0},\n",
      "               {'numSNPs': 0, 'numSnpsInVar': 5, 'numVar': 0}]}\n",
      "============================\n"
     ]
    }
   ],
   "source": [
    "print(\"========== Configuration >>>\")\n",
    "pprint(config)\n",
    "print(\"============================\")\n",
    "with open(outputPrefix+'.config.json','w') as outfile:\n",
    "    json.dump(config, outfile)"
   ]
  },
  {
   "cell_type": "markdown",
   "metadata": {},
   "source": [
    "# Parse input genotype data from a VCF or CSV file\n",
    "## If read from VCF file, the SNP id is set to CHROM:POS:REF:ALT"
   ]
  },
  {
   "cell_type": "code",
   "execution_count": 7,
   "metadata": {},
   "outputs": [],
   "source": [
    "if inputType=='vcf':\n",
    "    vcfdf = VcfDataFrame(path=vcfInputPath)\n",
    "    df = vcfdf.df\n",
    "    df['SNP'] = df['#CHROM'].astype(str) + ':' + df['POS'].astype(str) + ':' + df['REF'].astype(str) + ':' + df['ALT'].astype(str)\n",
    "    df = df.set_index('SNP')\n",
    "    snpData = df.iloc[:,9:].replace(['0/0','0/1','1/1'], [0,1,2])\n",
    "    if dumpCSV:\n",
    "        snpData.to_csv(csvInputPath)\n",
    "elif inputType=='csv':\n",
    "    snpData = pd.read_csv(csvInputPath)\n",
    "    snpData = snpData.set_index('SNP')\n",
    "else:\n",
    "    print(\"Incorrect inputType (should be 'vcf' or 'csv')\")\n",
    "    exit()"
   ]
  },
  {
   "cell_type": "code",
   "execution_count": 8,
   "metadata": {},
   "outputs": [
    {
     "data": {
      "text/html": [
       "<div>\n",
       "<style scoped>\n",
       "    .dataframe tbody tr th:only-of-type {\n",
       "        vertical-align: middle;\n",
       "    }\n",
       "\n",
       "    .dataframe tbody tr th {\n",
       "        vertical-align: top;\n",
       "    }\n",
       "\n",
       "    .dataframe thead th {\n",
       "        text-align: right;\n",
       "    }\n",
       "</style>\n",
       "<table border=\"1\" class=\"dataframe\">\n",
       "  <thead>\n",
       "    <tr style=\"text-align: right;\">\n",
       "      <th></th>\n",
       "      <th>HG00096</th>\n",
       "      <th>HG00097</th>\n",
       "      <th>HG00099</th>\n",
       "      <th>HG00100</th>\n",
       "      <th>HG00101</th>\n",
       "    </tr>\n",
       "    <tr>\n",
       "      <th>SNP</th>\n",
       "      <th></th>\n",
       "      <th></th>\n",
       "      <th></th>\n",
       "      <th></th>\n",
       "      <th></th>\n",
       "    </tr>\n",
       "  </thead>\n",
       "  <tbody>\n",
       "    <tr>\n",
       "      <th>1:843405:A:G</th>\n",
       "      <td>1</td>\n",
       "      <td>1</td>\n",
       "      <td>0</td>\n",
       "      <td>0</td>\n",
       "      <td>2</td>\n",
       "    </tr>\n",
       "    <tr>\n",
       "      <th>1:1012483:G:T</th>\n",
       "      <td>0</td>\n",
       "      <td>2</td>\n",
       "      <td>2</td>\n",
       "      <td>2</td>\n",
       "      <td>2</td>\n",
       "    </tr>\n",
       "    <tr>\n",
       "      <th>1:1519068:A:C</th>\n",
       "      <td>1</td>\n",
       "      <td>1</td>\n",
       "      <td>1</td>\n",
       "      <td>0</td>\n",
       "      <td>1</td>\n",
       "    </tr>\n",
       "    <tr>\n",
       "      <th>1:1892048:G:C</th>\n",
       "      <td>1</td>\n",
       "      <td>2</td>\n",
       "      <td>1</td>\n",
       "      <td>0</td>\n",
       "      <td>2</td>\n",
       "    </tr>\n",
       "    <tr>\n",
       "      <th>1:1971389:G:C</th>\n",
       "      <td>2</td>\n",
       "      <td>1</td>\n",
       "      <td>0</td>\n",
       "      <td>0</td>\n",
       "      <td>1</td>\n",
       "    </tr>\n",
       "  </tbody>\n",
       "</table>\n",
       "</div>"
      ],
      "text/plain": [
       "               HG00096  HG00097  HG00099  HG00100  HG00101\n",
       "SNP                                                       \n",
       "1:843405:A:G         1        1        0        0        2\n",
       "1:1012483:G:T        0        2        2        2        2\n",
       "1:1519068:A:C        1        1        1        0        1\n",
       "1:1892048:G:C        1        2        1        0        2\n",
       "1:1971389:G:C        2        1        0        0        1"
      ]
     },
     "execution_count": 8,
     "metadata": {},
     "output_type": "execute_result"
    }
   ],
   "source": [
    "snpData.iloc[:5,:5]"
   ]
  },
  {
   "cell_type": "markdown",
   "metadata": {},
   "source": [
    "# There should be enough SNPs in the input file to create all variables"
   ]
  },
  {
   "cell_type": "code",
   "execution_count": 9,
   "metadata": {},
   "outputs": [
    {
     "name": "stdout",
     "output_type": "stream",
     "text": [
      "Number of SNPs in the input file:  4969\n",
      "Number of SNPs needed:  10\n",
      "There are enough SNPs in the input file\n"
     ]
    }
   ],
   "source": [
    "print(\"Number of SNPs in the input file: \", snpData.shape[0])\n",
    "print(\"Number of SNPs needed: \", numSnpsNeeded)\n",
    "\n",
    "if snpData.shape[0] < numSnpsNeeded:\n",
    "    print(\"There are not enough SNPs in the input file\")\n",
    "    exit(1)\n",
    "else:\n",
    "    print(\"There are enough SNPs in the input file\")"
   ]
  },
  {
   "cell_type": "markdown",
   "metadata": {},
   "source": [
    "# Suffle SNPs if asked in the config file.\n",
    "## When SNPs are shuffled different set of SNPs used to form each variables each time"
   ]
  },
  {
   "cell_type": "code",
   "execution_count": 10,
   "metadata": {},
   "outputs": [],
   "source": [
    "if shuffleSnps:\n",
    "    snpData = snpData.sample(frac=1)"
   ]
  },
  {
   "cell_type": "markdown",
   "metadata": {},
   "source": [
    "# Transpose the genotype data and print number of snps and samples\n",
    "## Also rename 0/0, 0/1 and 1/1 to R, H and A"
   ]
  },
  {
   "cell_type": "code",
   "execution_count": 11,
   "metadata": {},
   "outputs": [],
   "source": [
    "snpData = snpData.T"
   ]
  },
  {
   "cell_type": "code",
   "execution_count": 12,
   "metadata": {},
   "outputs": [
    {
     "name": "stdout",
     "output_type": "stream",
     "text": [
      "number of sample 2504\n",
      "number of snp 4969\n"
     ]
    }
   ],
   "source": [
    "df = snpData.replace([0,1,2],['R','H','A'])\n",
    "numSampels = df.shape[0]\n",
    "numSNPs = df.shape[1]\n",
    "print(\"number of sample\",numSampels)\n",
    "print(\"number of snp\",numSNPs)"
   ]
  },
  {
   "cell_type": "code",
   "execution_count": 13,
   "metadata": {},
   "outputs": [
    {
     "data": {
      "text/html": [
       "<div>\n",
       "<style scoped>\n",
       "    .dataframe tbody tr th:only-of-type {\n",
       "        vertical-align: middle;\n",
       "    }\n",
       "\n",
       "    .dataframe tbody tr th {\n",
       "        vertical-align: top;\n",
       "    }\n",
       "\n",
       "    .dataframe thead th {\n",
       "        text-align: right;\n",
       "    }\n",
       "</style>\n",
       "<table border=\"1\" class=\"dataframe\">\n",
       "  <thead>\n",
       "    <tr style=\"text-align: right;\">\n",
       "      <th>SNP</th>\n",
       "      <th>1:843405:A:G</th>\n",
       "      <th>1:1012483:G:T</th>\n",
       "      <th>1:1519068:A:C</th>\n",
       "      <th>1:1892048:G:C</th>\n",
       "      <th>1:1971389:G:C</th>\n",
       "    </tr>\n",
       "  </thead>\n",
       "  <tbody>\n",
       "    <tr>\n",
       "      <th>HG00096</th>\n",
       "      <td>H</td>\n",
       "      <td>R</td>\n",
       "      <td>H</td>\n",
       "      <td>H</td>\n",
       "      <td>A</td>\n",
       "    </tr>\n",
       "    <tr>\n",
       "      <th>HG00097</th>\n",
       "      <td>H</td>\n",
       "      <td>A</td>\n",
       "      <td>H</td>\n",
       "      <td>A</td>\n",
       "      <td>H</td>\n",
       "    </tr>\n",
       "    <tr>\n",
       "      <th>HG00099</th>\n",
       "      <td>R</td>\n",
       "      <td>A</td>\n",
       "      <td>H</td>\n",
       "      <td>H</td>\n",
       "      <td>R</td>\n",
       "    </tr>\n",
       "    <tr>\n",
       "      <th>HG00100</th>\n",
       "      <td>R</td>\n",
       "      <td>A</td>\n",
       "      <td>R</td>\n",
       "      <td>R</td>\n",
       "      <td>R</td>\n",
       "    </tr>\n",
       "    <tr>\n",
       "      <th>HG00101</th>\n",
       "      <td>A</td>\n",
       "      <td>A</td>\n",
       "      <td>H</td>\n",
       "      <td>A</td>\n",
       "      <td>H</td>\n",
       "    </tr>\n",
       "  </tbody>\n",
       "</table>\n",
       "</div>"
      ],
      "text/plain": [
       "SNP     1:843405:A:G 1:1012483:G:T 1:1519068:A:C 1:1892048:G:C 1:1971389:G:C\n",
       "HG00096            H             R             H             H             A\n",
       "HG00097            H             A             H             A             H\n",
       "HG00099            R             A             H             H             R\n",
       "HG00100            R             A             R             R             R\n",
       "HG00101            A             A             H             A             H"
      ]
     },
     "execution_count": 13,
     "metadata": {},
     "output_type": "execute_result"
    }
   ],
   "source": [
    "df.iloc[:5,:5]"
   ]
  },
  {
   "cell_type": "markdown",
   "metadata": {},
   "source": [
    "# Form variables from SNPs\n",
    "## A variable could be a SNPs or a set of Interactive SNPs\n",
    "## First identify whcih SNPs belong to each variable and then form the variables\n",
    "## Naming of variables: O3V4 is the 4th variable with 3-interactive SNPs\n",
    "## Write Variables SNPs infor in \"outputPrefix.varData.csv\""
   ]
  },
  {
   "cell_type": "code",
   "execution_count": 14,
   "metadata": {},
   "outputs": [],
   "source": [
    "colNames = list() # to store variable names\n",
    "for o,v in enumerate(config['variables']):\n",
    "    for i in range(0,v['numVar']):\n",
    "        colNames.append('O'+str(o+1)+'V'+str(i+1))"
   ]
  },
  {
   "cell_type": "code",
   "execution_count": 15,
   "metadata": {},
   "outputs": [],
   "source": [
    "rowNames = ['order']\n",
    "for o in range(maxOrder):\n",
    "    rowNames.append('snp_'+str(o+1))"
   ]
  },
  {
   "cell_type": "code",
   "execution_count": 16,
   "metadata": {},
   "outputs": [],
   "source": [
    "varData = pd.DataFrame(index=rowNames, columns=colNames)"
   ]
  },
  {
   "cell_type": "code",
   "execution_count": 17,
   "metadata": {},
   "outputs": [],
   "source": [
    "idx = 0\n",
    "for o,v in enumerate(config['variables']):\n",
    "    for i in range(0,v['numVar']):\n",
    "        name = 'O'+str(o+1)+'V'+str(i+1)\n",
    "        varData.at['order',name] = str(o+1)\n",
    "        for k in range(0,v['numSnpsInVar']):\n",
    "            snp = 'snp_'+str(k+1)\n",
    "            varData.at[snp,name]=df.columns[idx]\n",
    "            idx += 1\n",
    "varData = varData.fillna('---')"
   ]
  },
  {
   "cell_type": "code",
   "execution_count": 18,
   "metadata": {},
   "outputs": [],
   "source": [
    "varData.to_csv(outputPrefix+'.varData.csv')"
   ]
  },
  {
   "cell_type": "code",
   "execution_count": 19,
   "metadata": {},
   "outputs": [
    {
     "data": {
      "text/html": [
       "<div>\n",
       "<style scoped>\n",
       "    .dataframe tbody tr th:only-of-type {\n",
       "        vertical-align: middle;\n",
       "    }\n",
       "\n",
       "    .dataframe tbody tr th {\n",
       "        vertical-align: top;\n",
       "    }\n",
       "\n",
       "    .dataframe thead th {\n",
       "        text-align: right;\n",
       "    }\n",
       "</style>\n",
       "<table border=\"1\" class=\"dataframe\">\n",
       "  <thead>\n",
       "    <tr style=\"text-align: right;\">\n",
       "      <th></th>\n",
       "      <th>O1V6</th>\n",
       "      <th>O1V7</th>\n",
       "      <th>O1V8</th>\n",
       "      <th>O1V9</th>\n",
       "      <th>O1V10</th>\n",
       "    </tr>\n",
       "  </thead>\n",
       "  <tbody>\n",
       "    <tr>\n",
       "      <th>order</th>\n",
       "      <td>1</td>\n",
       "      <td>1</td>\n",
       "      <td>1</td>\n",
       "      <td>1</td>\n",
       "      <td>1</td>\n",
       "    </tr>\n",
       "    <tr>\n",
       "      <th>snp_1</th>\n",
       "      <td>1:2358755:G:C</td>\n",
       "      <td>1:2365885:T:A</td>\n",
       "      <td>1:3065568:C:T</td>\n",
       "      <td>1:3124080:A:G</td>\n",
       "      <td>1:3512341:C:T</td>\n",
       "    </tr>\n",
       "    <tr>\n",
       "      <th>snp_2</th>\n",
       "      <td>---</td>\n",
       "      <td>---</td>\n",
       "      <td>---</td>\n",
       "      <td>---</td>\n",
       "      <td>---</td>\n",
       "    </tr>\n",
       "    <tr>\n",
       "      <th>snp_3</th>\n",
       "      <td>---</td>\n",
       "      <td>---</td>\n",
       "      <td>---</td>\n",
       "      <td>---</td>\n",
       "      <td>---</td>\n",
       "    </tr>\n",
       "    <tr>\n",
       "      <th>snp_4</th>\n",
       "      <td>---</td>\n",
       "      <td>---</td>\n",
       "      <td>---</td>\n",
       "      <td>---</td>\n",
       "      <td>---</td>\n",
       "    </tr>\n",
       "    <tr>\n",
       "      <th>snp_5</th>\n",
       "      <td>---</td>\n",
       "      <td>---</td>\n",
       "      <td>---</td>\n",
       "      <td>---</td>\n",
       "      <td>---</td>\n",
       "    </tr>\n",
       "  </tbody>\n",
       "</table>\n",
       "</div>"
      ],
      "text/plain": [
       "                O1V6           O1V7           O1V8           O1V9  \\\n",
       "order              1              1              1              1   \n",
       "snp_1  1:2358755:G:C  1:2365885:T:A  1:3065568:C:T  1:3124080:A:G   \n",
       "snp_2            ---            ---            ---            ---   \n",
       "snp_3            ---            ---            ---            ---   \n",
       "snp_4            ---            ---            ---            ---   \n",
       "snp_5            ---            ---            ---            ---   \n",
       "\n",
       "               O1V10  \n",
       "order              1  \n",
       "snp_1  1:3512341:C:T  \n",
       "snp_2            ---  \n",
       "snp_3            ---  \n",
       "snp_4            ---  \n",
       "snp_5            ---  "
      ]
     },
     "execution_count": 19,
     "metadata": {},
     "output_type": "execute_result"
    }
   ],
   "source": [
    "varData.iloc[:6,-5:]"
   ]
  },
  {
   "cell_type": "markdown",
   "metadata": {},
   "source": [
    "# Form Variable Genotype and write it to \"outputPrefix.varGT.csv\"\n",
    "## For variables with more than one SNPs the genotype is the concatination of all SNPs involved\n",
    "## For example RHA, ARH and AAR could be genotype value of a variable with 3 snps"
   ]
  },
  {
   "cell_type": "code",
   "execution_count": 20,
   "metadata": {},
   "outputs": [],
   "source": [
    "varGT = df.iloc[:,-1:0].copy()"
   ]
  },
  {
   "cell_type": "code",
   "execution_count": 21,
   "metadata": {},
   "outputs": [],
   "source": [
    "for o,v in enumerate(config['variables']):\n",
    "    for i in range(0,v['numVar']):\n",
    "        name = 'O'+str(o+1)+'V'+str(i+1)\n",
    "        varGT[name] = ''\n",
    "        for k in range(0,v['numSnpsInVar']):\n",
    "            snp = 'snp_'+str(k+1)\n",
    "            varGT[name] = varGT[name] + df[varData.loc[snp,name]]"
   ]
  },
  {
   "cell_type": "code",
   "execution_count": 22,
   "metadata": {},
   "outputs": [],
   "source": [
    "varGT.to_csv(outputPrefix+'.varGT.csv')"
   ]
  },
  {
   "cell_type": "code",
   "execution_count": 23,
   "metadata": {},
   "outputs": [
    {
     "data": {
      "text/html": [
       "<div>\n",
       "<style scoped>\n",
       "    .dataframe tbody tr th:only-of-type {\n",
       "        vertical-align: middle;\n",
       "    }\n",
       "\n",
       "    .dataframe tbody tr th {\n",
       "        vertical-align: top;\n",
       "    }\n",
       "\n",
       "    .dataframe thead th {\n",
       "        text-align: right;\n",
       "    }\n",
       "</style>\n",
       "<table border=\"1\" class=\"dataframe\">\n",
       "  <thead>\n",
       "    <tr style=\"text-align: right;\">\n",
       "      <th>SNP</th>\n",
       "      <th>O1V6</th>\n",
       "      <th>O1V7</th>\n",
       "      <th>O1V8</th>\n",
       "      <th>O1V9</th>\n",
       "      <th>O1V10</th>\n",
       "    </tr>\n",
       "  </thead>\n",
       "  <tbody>\n",
       "    <tr>\n",
       "      <th>HG00096</th>\n",
       "      <td>H</td>\n",
       "      <td>H</td>\n",
       "      <td>R</td>\n",
       "      <td>R</td>\n",
       "      <td>H</td>\n",
       "    </tr>\n",
       "    <tr>\n",
       "      <th>HG00097</th>\n",
       "      <td>R</td>\n",
       "      <td>H</td>\n",
       "      <td>A</td>\n",
       "      <td>A</td>\n",
       "      <td>H</td>\n",
       "    </tr>\n",
       "    <tr>\n",
       "      <th>HG00099</th>\n",
       "      <td>R</td>\n",
       "      <td>H</td>\n",
       "      <td>A</td>\n",
       "      <td>A</td>\n",
       "      <td>H</td>\n",
       "    </tr>\n",
       "    <tr>\n",
       "      <th>HG00100</th>\n",
       "      <td>H</td>\n",
       "      <td>R</td>\n",
       "      <td>R</td>\n",
       "      <td>R</td>\n",
       "      <td>A</td>\n",
       "    </tr>\n",
       "    <tr>\n",
       "      <th>HG00101</th>\n",
       "      <td>H</td>\n",
       "      <td>R</td>\n",
       "      <td>A</td>\n",
       "      <td>R</td>\n",
       "      <td>R</td>\n",
       "    </tr>\n",
       "  </tbody>\n",
       "</table>\n",
       "</div>"
      ],
      "text/plain": [
       "SNP     O1V6 O1V7 O1V8 O1V9 O1V10\n",
       "HG00096    H    H    R    R     H\n",
       "HG00097    R    H    A    A     H\n",
       "HG00099    R    H    A    A     H\n",
       "HG00100    H    R    R    R     A\n",
       "HG00101    H    R    A    R     R"
      ]
     },
     "execution_count": 23,
     "metadata": {},
     "output_type": "execute_result"
    }
   ],
   "source": [
    "varGT.iloc[:5,-5:]"
   ]
  },
  {
   "cell_type": "code",
   "execution_count": 24,
   "metadata": {},
   "outputs": [],
   "source": [
    "PEPS2_Input = varGT.T.values.tolist()"
   ]
  },
  {
   "cell_type": "markdown",
   "metadata": {},
   "source": [
    "# PEPS2 Simulation"
   ]
  },
  {
   "cell_type": "code",
   "execution_count": 25,
   "metadata": {},
   "outputs": [],
   "source": [
    "def assign(genotypes, case_freq):\n",
    "    \"\"\"Create a list representing Cases (1) and Controls (0)\n",
    "    Assigns cases and controls to the samples (in order) such that all\n",
    "    variables have a similar impact on the phenotype, and the case frequency is\n",
    "    approximately case_freq.\n",
    "    :param genotypes: A list of lists, where the primary index is variable, and\n",
    "        the secondary index is sample. Elements represent the value taken by\n",
    "        that variable in that sample. values of 0 automatically don't\n",
    "        contribute to the phenotype.\n",
    "    :param case_freq: The desired frequency of the case in the population. As\n",
    "        phenotypes are assigned stochastically, this frequency is not\n",
    "        guaranteed.\n",
    "    :return: a list of the phenotypes of the samples\n",
    "    \"\"\"\n",
    "    num_samples = len(genotypes[0])\n",
    "    global_base_case = num_samples * (\n",
    "            1 - (1-case_freq) ** (1 / len(genotypes))\n",
    "    )\n",
    "    variable_likelihoods = []\n",
    "    for variable_values in genotypes:\n",
    "        value_counts = Counter(variable_values)\n",
    "        del value_counts[\"R\"]  # remove 0, as it isn't used\n",
    "        num_values = len(value_counts)\n",
    "        variable_likelihoods.append({\n",
    "            k: 1 - min(global_base_case / (num_values * v), 1)\n",
    "            for k, v in value_counts.items()\n",
    "        })\n",
    "    print(variable_likelihoods)\n",
    "    sample_phenotypes = []\n",
    "    for s_i in range(num_samples):\n",
    "        control_prob = 1\n",
    "        for v_i, variable in enumerate(genotypes):\n",
    "            control_prob *= variable_likelihoods[v_i].get(variable[s_i], 1)\n",
    "        sample_phenotypes.append(1 if random() > control_prob else 0)\n",
    "    return sample_phenotypes"
   ]
  },
  {
   "cell_type": "code",
   "execution_count": 26,
   "metadata": {},
   "outputs": [
    {
     "name": "stdout",
     "output_type": "stream",
     "text": [
      "[{'H': 0.9275969822142339, 'A': 0.7677487684323625}, {'A': 0.9426520556799473, 'H': 0.9086680886754716}, {'H': 0.9122066025173643, 'A': 0.5890063990396219}, {'H': 0.9267109312972752, 'A': 0.9071509472913432}, {'A': 0.848385724058016, 'H': 0.9251404512536454}, {'H': 0.9248047582099398, 'A': 0.6962221210292858}, {'H': 0.921495604310939, 'A': 0.9163246560918991}, {'A': 0.36960380003069837, 'H': 0.901245353832842}, {'A': 0.4053709603126445, 'H': 0.9010121669469692}, {'H': 0.9296621689631568, 'A': 0.906841450448981}]\n"
     ]
    }
   ],
   "source": [
    "PEPS2_Output = assign(PEPS2_Input,0.5)"
   ]
  },
  {
   "cell_type": "code",
   "execution_count": 27,
   "metadata": {},
   "outputs": [
    {
     "data": {
      "text/plain": [
       "0.4960063897763578"
      ]
     },
     "execution_count": 27,
     "metadata": {},
     "output_type": "execute_result"
    }
   ],
   "source": [
    "# Fraction of Cases\n",
    "sum(PEPS2_Output)/len(PEPS2_Output)"
   ]
  },
  {
   "cell_type": "code",
   "execution_count": 28,
   "metadata": {},
   "outputs": [],
   "source": [
    "varGT['lbl'] = PEPS2_Output"
   ]
  },
  {
   "cell_type": "markdown",
   "metadata": {},
   "source": [
    "# Compute and plot chi2-pvalue (log10) of the variables for the random phenotype"
   ]
  },
  {
   "cell_type": "code",
   "execution_count": 29,
   "metadata": {},
   "outputs": [
    {
     "data": {
      "text/html": [
       "<div>\n",
       "<style scoped>\n",
       "    .dataframe tbody tr th:only-of-type {\n",
       "        vertical-align: middle;\n",
       "    }\n",
       "\n",
       "    .dataframe tbody tr th {\n",
       "        vertical-align: top;\n",
       "    }\n",
       "\n",
       "    .dataframe thead th {\n",
       "        text-align: right;\n",
       "    }\n",
       "</style>\n",
       "<table border=\"1\" class=\"dataframe\">\n",
       "  <thead>\n",
       "    <tr style=\"text-align: right;\">\n",
       "      <th></th>\n",
       "      <th>number of SNPs exceed the p-value</th>\n",
       "    </tr>\n",
       "    <tr>\n",
       "      <th>p-value</th>\n",
       "      <th></th>\n",
       "    </tr>\n",
       "  </thead>\n",
       "  <tbody>\n",
       "    <tr>\n",
       "      <th>1.000000e+00</th>\n",
       "      <td>10</td>\n",
       "    </tr>\n",
       "    <tr>\n",
       "      <th>5.000000e-01</th>\n",
       "      <td>9</td>\n",
       "    </tr>\n",
       "    <tr>\n",
       "      <th>1.000000e-01</th>\n",
       "      <td>7</td>\n",
       "    </tr>\n",
       "    <tr>\n",
       "      <th>1.000000e-02</th>\n",
       "      <td>7</td>\n",
       "    </tr>\n",
       "    <tr>\n",
       "      <th>1.000000e-03</th>\n",
       "      <td>5</td>\n",
       "    </tr>\n",
       "    <tr>\n",
       "      <th>1.000000e-08</th>\n",
       "      <td>2</td>\n",
       "    </tr>\n",
       "    <tr>\n",
       "      <th>1.000000e-20</th>\n",
       "      <td>0</td>\n",
       "    </tr>\n",
       "  </tbody>\n",
       "</table>\n",
       "</div>"
      ],
      "text/plain": [
       "              number of SNPs exceed the p-value\n",
       "p-value                                        \n",
       "1.000000e+00                                 10\n",
       "5.000000e-01                                  9\n",
       "1.000000e-01                                  7\n",
       "1.000000e-02                                  7\n",
       "1.000000e-03                                  5\n",
       "1.000000e-08                                  2\n",
       "1.000000e-20                                  0"
      ]
     },
     "execution_count": 29,
     "metadata": {},
     "output_type": "execute_result"
    },
    {
     "data": {
      "image/png": "[encoded data removed]",
      "text/plain": [
       "<Figure size 432x288 with 1 Axes>"
      ]
     },
     "metadata": {
      "needs_background": "light"
     },
     "output_type": "display_data"
    }
   ],
   "source": [
    "features = varGT.columns[:-1]\n",
    "corrDict = dict()\n",
    "for v in features:\n",
    "    corrDict[v] = stats.chi2_contingency(pd.crosstab(varGT['lbl'],varGT[v]).values)[1]\n",
    "a = np.asarray(list(corrDict.values()))\n",
    "b = - np.log10(a)\n",
    "plt.plot(np.sort(b))\n",
    "nsat = list()\n",
    "for t in TA:\n",
    "    nsat.append([t, np.where(a<t)[0].shape[0]])\n",
    "x = pd.DataFrame(nsat)\n",
    "x.columns =['p-value', 'number of SNPs exceed the p-value']\n",
    "x.set_index('p-value')"
   ]
  },
  {
   "cell_type": "markdown",
   "metadata": {},
   "source": [
    "# Write Phenotype into a file outputPrefix.pheno.csv"
   ]
  },
  {
   "cell_type": "code",
   "execution_count": 30,
   "metadata": {},
   "outputs": [],
   "source": [
    "phen = varGT[['lbl']].copy()\n",
    "phen.index.name ='sample'\n",
    "phen.to_csv(outputPrefix+'.pheno.csv')"
   ]
  },
  {
   "cell_type": "code",
   "execution_count": 31,
   "metadata": {},
   "outputs": [
    {
     "data": {
      "text/html": [
       "<div>\n",
       "<style scoped>\n",
       "    .dataframe tbody tr th:only-of-type {\n",
       "        vertical-align: middle;\n",
       "    }\n",
       "\n",
       "    .dataframe tbody tr th {\n",
       "        vertical-align: top;\n",
       "    }\n",
       "\n",
       "    .dataframe thead th {\n",
       "        text-align: right;\n",
       "    }\n",
       "</style>\n",
       "<table border=\"1\" class=\"dataframe\">\n",
       "  <thead>\n",
       "    <tr style=\"text-align: right;\">\n",
       "      <th>SNP</th>\n",
       "      <th>lbl</th>\n",
       "    </tr>\n",
       "    <tr>\n",
       "      <th>sample</th>\n",
       "      <th></th>\n",
       "    </tr>\n",
       "  </thead>\n",
       "  <tbody>\n",
       "    <tr>\n",
       "      <th>HG00096</th>\n",
       "      <td>1</td>\n",
       "    </tr>\n",
       "    <tr>\n",
       "      <th>HG00097</th>\n",
       "      <td>1</td>\n",
       "    </tr>\n",
       "    <tr>\n",
       "      <th>HG00099</th>\n",
       "      <td>1</td>\n",
       "    </tr>\n",
       "    <tr>\n",
       "      <th>HG00100</th>\n",
       "      <td>0</td>\n",
       "    </tr>\n",
       "    <tr>\n",
       "      <th>HG00101</th>\n",
       "      <td>1</td>\n",
       "    </tr>\n",
       "  </tbody>\n",
       "</table>\n",
       "</div>"
      ],
      "text/plain": [
       "SNP      lbl\n",
       "sample      \n",
       "HG00096    1\n",
       "HG00097    1\n",
       "HG00099    1\n",
       "HG00100    0\n",
       "HG00101    1"
      ]
     },
     "execution_count": 31,
     "metadata": {},
     "output_type": "execute_result"
    }
   ],
   "source": [
    "phen.head()"
   ]
  },
  {
   "cell_type": "markdown",
   "metadata": {},
   "source": [
    "# Filter Variable that satisfy p-value treshold as Truth Variable and write it to \"outputPrefix.varDataTruth.csv\""
   ]
  },
  {
   "cell_type": "code",
   "execution_count": 32,
   "metadata": {},
   "outputs": [],
   "source": [
    "variables = list()\n",
    "for v in corrDict:\n",
    "    if corrDict[v]<pvalueThr:\n",
    "        variables.append(v)\n",
    "\n",
    "varDataTruth = varData[variables]\n",
    "varDataTruth.to_csv(outputPrefix+'.varDataTruth.csv')"
   ]
  },
  {
   "cell_type": "code",
   "execution_count": 33,
   "metadata": {},
   "outputs": [
    {
     "name": "stdout",
     "output_type": "stream",
     "text": [
      "Number of Variables:  10\n",
      "Number of Truth Variables:  7\n"
     ]
    }
   ],
   "source": [
    "print(\"Number of Variables: \",varData.shape[1])\n",
    "print(\"Number of Truth Variables: \",varDataTruth.shape[1])"
   ]
  },
  {
   "cell_type": "code",
   "execution_count": 34,
   "metadata": {},
   "outputs": [
    {
     "data": {
      "text/html": [
       "<div>\n",
       "<style scoped>\n",
       "    .dataframe tbody tr th:only-of-type {\n",
       "        vertical-align: middle;\n",
       "    }\n",
       "\n",
       "    .dataframe tbody tr th {\n",
       "        vertical-align: top;\n",
       "    }\n",
       "\n",
       "    .dataframe thead th {\n",
       "        text-align: right;\n",
       "    }\n",
       "</style>\n",
       "<table border=\"1\" class=\"dataframe\">\n",
       "  <thead>\n",
       "    <tr style=\"text-align: right;\">\n",
       "      <th></th>\n",
       "      <th>O1V5</th>\n",
       "      <th>O1V6</th>\n",
       "      <th>O1V8</th>\n",
       "      <th>O1V9</th>\n",
       "      <th>O1V10</th>\n",
       "    </tr>\n",
       "  </thead>\n",
       "  <tbody>\n",
       "    <tr>\n",
       "      <th>order</th>\n",
       "      <td>1</td>\n",
       "      <td>1</td>\n",
       "      <td>1</td>\n",
       "      <td>1</td>\n",
       "      <td>1</td>\n",
       "    </tr>\n",
       "    <tr>\n",
       "      <th>snp_1</th>\n",
       "      <td>1:1971389:G:C</td>\n",
       "      <td>1:2358755:G:C</td>\n",
       "      <td>1:3065568:C:T</td>\n",
       "      <td>1:3124080:A:G</td>\n",
       "      <td>1:3512341:C:T</td>\n",
       "    </tr>\n",
       "    <tr>\n",
       "      <th>snp_2</th>\n",
       "      <td>---</td>\n",
       "      <td>---</td>\n",
       "      <td>---</td>\n",
       "      <td>---</td>\n",
       "      <td>---</td>\n",
       "    </tr>\n",
       "    <tr>\n",
       "      <th>snp_3</th>\n",
       "      <td>---</td>\n",
       "      <td>---</td>\n",
       "      <td>---</td>\n",
       "      <td>---</td>\n",
       "      <td>---</td>\n",
       "    </tr>\n",
       "    <tr>\n",
       "      <th>snp_4</th>\n",
       "      <td>---</td>\n",
       "      <td>---</td>\n",
       "      <td>---</td>\n",
       "      <td>---</td>\n",
       "      <td>---</td>\n",
       "    </tr>\n",
       "    <tr>\n",
       "      <th>snp_5</th>\n",
       "      <td>---</td>\n",
       "      <td>---</td>\n",
       "      <td>---</td>\n",
       "      <td>---</td>\n",
       "      <td>---</td>\n",
       "    </tr>\n",
       "  </tbody>\n",
       "</table>\n",
       "</div>"
      ],
      "text/plain": [
       "                O1V5           O1V6           O1V8           O1V9  \\\n",
       "order              1              1              1              1   \n",
       "snp_1  1:1971389:G:C  1:2358755:G:C  1:3065568:C:T  1:3124080:A:G   \n",
       "snp_2            ---            ---            ---            ---   \n",
       "snp_3            ---            ---            ---            ---   \n",
       "snp_4            ---            ---            ---            ---   \n",
       "snp_5            ---            ---            ---            ---   \n",
       "\n",
       "               O1V10  \n",
       "order              1  \n",
       "snp_1  1:3512341:C:T  \n",
       "snp_2            ---  \n",
       "snp_3            ---  \n",
       "snp_4            ---  \n",
       "snp_5            ---  "
      ]
     },
     "execution_count": 34,
     "metadata": {},
     "output_type": "execute_result"
    }
   ],
   "source": [
    "varDataTruth.iloc[:6,-5:]"
   ]
  },
  {
   "cell_type": "markdown",
   "metadata": {},
   "source": [
    "# Filter SNPs included in All and Truth Variables\n",
    "## write the Truth SNP names in  \"outputPrefix.TruthSNP.csv\""
   ]
  },
  {
   "cell_type": "code",
   "execution_count": 35,
   "metadata": {},
   "outputs": [],
   "source": [
    "snps = np.unique(varDataTruth.replace(np.nan, '', regex=True).drop('order').values.ravel())[1:]\n",
    "snpDataTruth = snpData.loc[:, snpData.columns.isin(snps)]\n",
    "\n",
    "snps2 = np.unique(varData.replace(np.nan, '', regex=True).drop('order').values.ravel())[1:]\n",
    "snpDataVar = snpData.loc[:, snpData.columns.isin(snps2)]\n",
    "\n",
    "pd.DataFrame(snps).rename(columns={0:'v'}).to_csv(outputPrefix+'.TruthSNP.csv',index=False)"
   ]
  },
  {
   "cell_type": "code",
   "execution_count": 36,
   "metadata": {},
   "outputs": [
    {
     "name": "stdout",
     "output_type": "stream",
     "text": [
      "Number of SNPs used to form Variables:  10\n",
      "Number of Truth SNPs (SNPs in Truth Variables):  7\n"
     ]
    }
   ],
   "source": [
    "print(\"Number of SNPs used to form Variables: \",snpDataVar.shape[1])\n",
    "print(\"Number of Truth SNPs (SNPs in Truth Variables): \",snpDataTruth.shape[1])"
   ]
  },
  {
   "cell_type": "code",
   "execution_count": 37,
   "metadata": {},
   "outputs": [
    {
     "data": {
      "text/html": [
       "<div>\n",
       "<style scoped>\n",
       "    .dataframe tbody tr th:only-of-type {\n",
       "        vertical-align: middle;\n",
       "    }\n",
       "\n",
       "    .dataframe tbody tr th {\n",
       "        vertical-align: top;\n",
       "    }\n",
       "\n",
       "    .dataframe thead th {\n",
       "        text-align: right;\n",
       "    }\n",
       "</style>\n",
       "<table border=\"1\" class=\"dataframe\">\n",
       "  <thead>\n",
       "    <tr style=\"text-align: right;\">\n",
       "      <th>SNP</th>\n",
       "      <th>1:1971389:G:C</th>\n",
       "      <th>1:2358755:G:C</th>\n",
       "      <th>1:3065568:C:T</th>\n",
       "      <th>1:3124080:A:G</th>\n",
       "      <th>1:3512341:C:T</th>\n",
       "    </tr>\n",
       "  </thead>\n",
       "  <tbody>\n",
       "    <tr>\n",
       "      <th>HG00096</th>\n",
       "      <td>2</td>\n",
       "      <td>1</td>\n",
       "      <td>0</td>\n",
       "      <td>0</td>\n",
       "      <td>1</td>\n",
       "    </tr>\n",
       "    <tr>\n",
       "      <th>HG00097</th>\n",
       "      <td>1</td>\n",
       "      <td>0</td>\n",
       "      <td>2</td>\n",
       "      <td>2</td>\n",
       "      <td>1</td>\n",
       "    </tr>\n",
       "    <tr>\n",
       "      <th>HG00099</th>\n",
       "      <td>0</td>\n",
       "      <td>0</td>\n",
       "      <td>2</td>\n",
       "      <td>2</td>\n",
       "      <td>1</td>\n",
       "    </tr>\n",
       "    <tr>\n",
       "      <th>HG00100</th>\n",
       "      <td>0</td>\n",
       "      <td>1</td>\n",
       "      <td>0</td>\n",
       "      <td>0</td>\n",
       "      <td>2</td>\n",
       "    </tr>\n",
       "    <tr>\n",
       "      <th>HG00101</th>\n",
       "      <td>1</td>\n",
       "      <td>1</td>\n",
       "      <td>2</td>\n",
       "      <td>0</td>\n",
       "      <td>0</td>\n",
       "    </tr>\n",
       "  </tbody>\n",
       "</table>\n",
       "</div>"
      ],
      "text/plain": [
       "SNP      1:1971389:G:C  1:2358755:G:C  1:3065568:C:T  1:3124080:A:G  \\\n",
       "HG00096              2              1              0              0   \n",
       "HG00097              1              0              2              2   \n",
       "HG00099              0              0              2              2   \n",
       "HG00100              0              1              0              0   \n",
       "HG00101              1              1              2              0   \n",
       "\n",
       "SNP      1:3512341:C:T  \n",
       "HG00096              1  \n",
       "HG00097              1  \n",
       "HG00099              1  \n",
       "HG00100              2  \n",
       "HG00101              0  "
      ]
     },
     "execution_count": 37,
     "metadata": {},
     "output_type": "execute_result"
    }
   ],
   "source": [
    "snpDataTruth.iloc[:5,-5:]"
   ]
  },
  {
   "cell_type": "markdown",
   "metadata": {},
   "source": [
    "# Add Phenotype to SNP Data"
   ]
  },
  {
   "cell_type": "code",
   "execution_count": 38,
   "metadata": {},
   "outputs": [
    {
     "name": "stderr",
     "output_type": "stream",
     "text": [
      "/snap/jupyter/6/lib/python3.7/site-packages/ipykernel_launcher.py:1: SettingWithCopyWarning: \n",
      "A value is trying to be set on a copy of a slice from a DataFrame.\n",
      "Try using .loc[row_indexer,col_indexer] = value instead\n",
      "\n",
      "See the caveats in the documentation: http://pandas.pydata.org/pandas-docs/stable/user_guide/indexing.html#returning-a-view-versus-a-copy\n",
      "  \"\"\"Entry point for launching an IPython kernel.\n",
      "/snap/jupyter/6/lib/python3.7/site-packages/ipykernel_launcher.py:2: SettingWithCopyWarning: \n",
      "A value is trying to be set on a copy of a slice from a DataFrame.\n",
      "Try using .loc[row_indexer,col_indexer] = value instead\n",
      "\n",
      "See the caveats in the documentation: http://pandas.pydata.org/pandas-docs/stable/user_guide/indexing.html#returning-a-view-versus-a-copy\n",
      "  \n"
     ]
    }
   ],
   "source": [
    "snpDataTruth['lbl'] = varGT['lbl']\n",
    "snpDataVar['lbl'] = varGT['lbl']\n",
    "snpData['lbl'] = varGT['lbl']"
   ]
  },
  {
   "cell_type": "markdown",
   "metadata": {},
   "source": [
    "# This function used to predict lable using RandomForest\n",
    "## 75% training and 25% test"
   ]
  },
  {
   "cell_type": "code",
   "execution_count": 39,
   "metadata": {},
   "outputs": [],
   "source": [
    "def RF_AUC(dfx, nTree):\n",
    "    df = dfx.copy()\n",
    "    features = df.columns[:-1]\n",
    "    \n",
    "    df['is_train'] = np.random.uniform(0, 1, len(df)) <= .75\n",
    "    train, test = df[df['is_train']==True], df[df['is_train']==False]\n",
    "    clf = RandomForestClassifier(n_jobs=2, n_estimators=nTree, random_state=0)\n",
    "    clf.fit(train[features], train['lbl'])\n",
    "    #clf.predict(test[features])\n",
    "    prob = clf.predict_proba(test[features])\n",
    "    y_true = test['lbl']\n",
    "    y_scores = prob[:,1]\n",
    "    return clf, roc_auc_score(y_true, y_scores)\n"
   ]
  },
  {
   "cell_type": "markdown",
   "metadata": {},
   "source": [
    "# Train and test RandomForest for TruthSNP as well as for all SNP in the input file\n",
    "## Print AUC\n",
    "## Plot Importance Score"
   ]
  },
  {
   "cell_type": "code",
   "execution_count": 40,
   "metadata": {},
   "outputs": [],
   "source": [
    "clfTruth, AucTruth = RF_AUC(snpDataTruth, nTree=numTree)\n",
    "clfVar,   AucVar   = RF_AUC(snpDataVar  , nTree=numTree)\n",
    "clf,      Auc      = RF_AUC(snpData     , nTree=numTree)"
   ]
  },
  {
   "cell_type": "code",
   "execution_count": 41,
   "metadata": {},
   "outputs": [
    {
     "name": "stdout",
     "output_type": "stream",
     "text": [
      "AUC Truth SNPs            :  0.6039636091615146\n",
      "AUC All SNPs in Variables :  0.5412581699346405\n",
      "AUC All SNPs in input file:  0.510040899795501\n"
     ]
    }
   ],
   "source": [
    "print(\"AUC Truth SNPs            : \", AucTruth )\n",
    "print(\"AUC All SNPs in Variables : \", AucVar )\n",
    "print(\"AUC All SNPs in input file: \", Auc)"
   ]
  },
  {
   "cell_type": "code",
   "execution_count": 42,
   "metadata": {},
   "outputs": [
    {
     "data": {
      "text/plain": [
       "<matplotlib.axes._subplots.AxesSubplot at 0x7f63bebc10f0>"
      ]
     },
     "execution_count": 42,
     "metadata": {},
     "output_type": "execute_result"
    },
    {
     "data": {
      "image/png": "[encoded data removed]",
      "text/plain": [
       "<Figure size 432x288 with 1 Axes>"
      ]
     },
     "metadata": {
      "needs_background": "light"
     },
     "output_type": "display_data"
    },
    {
     "data": {
      "image/png": "[encoded data removed]",
      "text/plain": [
       "<Figure size 432x288 with 1 Axes>"
      ]
     },
     "metadata": {
      "needs_background": "light"
     },
     "output_type": "display_data"
    },
    {
     "data": {
      "image/png": "[encoded data removed]",
      "text/plain": [
       "<Figure size 432x288 with 1 Axes>"
      ]
     },
     "metadata": {
      "needs_background": "light"
     },
     "output_type": "display_data"
    }
   ],
   "source": [
    "pd.DataFrame(np.sort(clfTruth.feature_importances_)).plot(title=\"Truth SNP\")\n",
    "pd.DataFrame(np.sort(clfVar.feature_importances_)).plot(title=\"All SNP in Variables\")\n",
    "pd.DataFrame(np.sort(clf.feature_importances_)).plot(title=\"All SNP in input file\")"
   ]
  },
  {
   "cell_type": "code",
   "execution_count": null,
   "metadata": {},
   "outputs": [],
   "source": []
  }
 ],
 "metadata": {
  "kernelspec": {
   "display_name": "Python 3",
   "language": "python",
   "name": "python3"
  },
  "language_info": {
   "codemirror_mode": {
    "name": "ipython",
    "version": 3
   },
   "file_extension": ".py",
   "mimetype": "text/x-python",
   "name": "python",
   "nbconvert_exporter": "python",
   "pygments_lexer": "ipython3",
   "version": "3.7.3"
  }
 },
 "nbformat": 4,
 "nbformat_minor": 2
}
