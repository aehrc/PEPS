{
 "cells": [
  {
   "cell_type": "markdown",
   "metadata": {},
   "source": [
    "# =========================================================\n",
    "# PolyEpi: Polygenic Phenotype with Higher-Order Epistasis Interactios\n",
    "# ========================================================="
   ]
  },
  {
   "cell_type": "markdown",
   "metadata": {},
   "source": [
    "# Path to the config file (Modify this before running the notebook."
   ]
  },
  {
   "cell_type": "code",
   "execution_count": 1,
   "metadata": {},
   "outputs": [],
   "source": [
    "configFilePath='SampleData/config-small.json' # ~100 SNPs\n",
    "#configFilePath='SampleData/config-large.json' # ~5,000 SNPs"
   ]
  },
  {
   "cell_type": "markdown",
   "metadata": {},
   "source": [
    "# Initialisation"
   ]
  },
  {
   "cell_type": "code",
   "execution_count": 2,
   "metadata": {},
   "outputs": [],
   "source": [
    "import sys\n",
    "import numpy as np\n",
    "import pandas as pd\n",
    "from matplotlib import pyplot as plt\n",
    "import json\n",
    "\n",
    "from pprint import pprint\n",
    "from pdbio.vcfdataframe import VcfDataFrame\n",
    "\n",
    "import itertools\n",
    "\n",
    "from sklearn.feature_selection import SelectKBest, chi2\n",
    "from sklearn.ensemble import RandomForestClassifier\n",
    "from sklearn.metrics import roc_auc_score\n",
    "from scipy import stats\n",
    "import sklearn\n",
    "\n",
    "TA = [1, .5, 1e-1, 1e-2, 1e-3, 1e-8, 1e-20]"
   ]
  },
  {
   "cell_type": "markdown",
   "metadata": {},
   "source": [
    "# Read the config file"
   ]
  },
  {
   "cell_type": "code",
   "execution_count": 3,
   "metadata": {},
   "outputs": [],
   "source": [
    "with open(configFilePath, 'r') as f:\n",
    "    config = json.load(f)"
   ]
  },
  {
   "cell_type": "code",
   "execution_count": 4,
   "metadata": {},
   "outputs": [],
   "source": [
    "shuffleSnps = config['shuffleSnps']\n",
    "inputType = config['inputType']\n",
    "dumpCSV = config['dumpCSV']\n",
    "\n",
    "vcfInputPath = config['inputPrefix']+'.vcf'\n",
    "csvInputPath = config['inputPrefix']+'.csv'\n",
    "\n",
    "outputPrefix = config['outputPrefix']\n",
    "\n",
    "pvalueThr = config['pvalueThr']\n",
    "numTree = config['numTree']\n",
    "numLoop = config['numLoop']"
   ]
  },
  {
   "cell_type": "markdown",
   "metadata": {},
   "source": [
    "# Compute total numebr of variables and number of requierd SNPs to form the variables"
   ]
  },
  {
   "cell_type": "code",
   "execution_count": 5,
   "metadata": {},
   "outputs": [],
   "source": [
    "numVariables = 0\n",
    "numSnpsNeeded = 0\n",
    "maxOrder = 0\n",
    "\n",
    "for v in config['variables']:\n",
    "    v['numSNPs'] = v['numVar'] * v['numSnpsInVar']\n",
    "    numVariables += v['numVar']\n",
    "    numSnpsNeeded += v['numSNPs']\n",
    "    if v['numSnpsInVar']>maxOrder:\n",
    "        maxOrder = v['numSnpsInVar']\n",
    "    \n",
    "config['numVariables'] = numVariables\n",
    "config['numSnpsNeeded'] = numSnpsNeeded\n",
    "config['maxOrder'] = maxOrder"
   ]
  },
  {
   "cell_type": "markdown",
   "metadata": {},
   "source": [
    "# Print config data and write it in \"outputPrefix.config.json\""
   ]
  },
  {
   "cell_type": "code",
   "execution_count": 6,
   "metadata": {},
   "outputs": [
    {
     "name": "stdout",
     "output_type": "stream",
     "text": [
      "========== Configuration >>>\n",
      "{'dumpCSV': True,\n",
      " 'inputPrefix': 'SampleData/input-small',\n",
      " 'inputType': 'vcf',\n",
      " 'maxOrder': 5,\n",
      " 'numLoop': 1,\n",
      " 'numSnpsNeeded': 53,\n",
      " 'numTree': 500,\n",
      " 'numVariables': 24,\n",
      " 'outputPrefix': 'SampleData/output-small',\n",
      " 'pvalueThr': 0.001,\n",
      " 'shuffleSnps': True,\n",
      " 'variables': [{'numSNPs': 10, 'numSnpsInVar': 1, 'numVar': 10},\n",
      "               {'numSNPs': 10, 'numSnpsInVar': 2, 'numVar': 5},\n",
      "               {'numSNPs': 15, 'numSnpsInVar': 3, 'numVar': 5},\n",
      "               {'numSNPs': 8, 'numSnpsInVar': 4, 'numVar': 2},\n",
      "               {'numSNPs': 10, 'numSnpsInVar': 5, 'numVar': 2}]}\n",
      "============================\n"
     ]
    }
   ],
   "source": [
    "print(\"========== Configuration >>>\")\n",
    "pprint(config)\n",
    "print(\"============================\")\n",
    "with open(outputPrefix+'.config.json','w') as outfile:\n",
    "    json.dump(config, outfile)"
   ]
  },
  {
   "cell_type": "markdown",
   "metadata": {},
   "source": [
    "# Parse input genotype data from a VCF or CSV file\n",
    "## If read from VCF file, the SNP id is set to CHROM:POS:REF:ALT"
   ]
  },
  {
   "cell_type": "code",
   "execution_count": 7,
   "metadata": {},
   "outputs": [
    {
     "name": "stderr",
     "output_type": "stream",
     "text": [
      "/var/folders/c5/g6ky3r7d2qjc07pmv0my66k80000gp/T/ipykernel_85502/4191278332.py:4: PerformanceWarning: DataFrame is highly fragmented.  This is usually the result of calling `frame.insert` many times, which has poor performance.  Consider joining all columns at once using pd.concat(axis=1) instead. To get a de-fragmented frame, use `newframe = frame.copy()`\n",
      "  df['SNP'] = df['#CHROM'].astype(str) + ':' + df['POS'].astype(str) + ':' + df['REF'].astype(str) + ':' + df['ALT'].astype(str)\n"
     ]
    }
   ],
   "source": [
    "if inputType=='vcf':\n",
    "    vcfdf = VcfDataFrame(path=vcfInputPath)\n",
    "    df = vcfdf.df\n",
    "    df['SNP'] = df['#CHROM'].astype(str) + ':' + df['POS'].astype(str) + ':' + df['REF'].astype(str) + ':' + df['ALT'].astype(str)\n",
    "    df = df.set_index('SNP')\n",
    "    snpData = df.iloc[:,9:].replace(['0/0','0/1','1/1'], [0,1,2])\n",
    "    if dumpCSV:\n",
    "        snpData.to_csv(csvInputPath)\n",
    "elif inputType=='csv':\n",
    "    snpData = pd.read_csv(csvInputPath)\n",
    "    snpData = snpData.set_index('SNP')\n",
    "else:\n",
    "    print(\"Incorrect inputType (should be 'vcf' or 'csv')\")\n",
    "    exit()"
   ]
  },
  {
   "cell_type": "code",
   "execution_count": 8,
   "metadata": {},
   "outputs": [
    {
     "data": {
      "text/html": [
       "<div>\n",
       "<style scoped>\n",
       "    .dataframe tbody tr th:only-of-type {\n",
       "        vertical-align: middle;\n",
       "    }\n",
       "\n",
       "    .dataframe tbody tr th {\n",
       "        vertical-align: top;\n",
       "    }\n",
       "\n",
       "    .dataframe thead th {\n",
       "        text-align: right;\n",
       "    }\n",
       "</style>\n",
       "<table border=\"1\" class=\"dataframe\">\n",
       "  <thead>\n",
       "    <tr style=\"text-align: right;\">\n",
       "      <th></th>\n",
       "      <th>HG00096</th>\n",
       "      <th>HG00097</th>\n",
       "      <th>HG00099</th>\n",
       "      <th>HG00100</th>\n",
       "      <th>HG00101</th>\n",
       "    </tr>\n",
       "    <tr>\n",
       "      <th>SNP</th>\n",
       "      <th></th>\n",
       "      <th></th>\n",
       "      <th></th>\n",
       "      <th></th>\n",
       "      <th></th>\n",
       "    </tr>\n",
       "  </thead>\n",
       "  <tbody>\n",
       "    <tr>\n",
       "      <th>1:7565678:C:A</th>\n",
       "      <td>0</td>\n",
       "      <td>0</td>\n",
       "      <td>1</td>\n",
       "      <td>0</td>\n",
       "      <td>1</td>\n",
       "    </tr>\n",
       "    <tr>\n",
       "      <th>1:18535255:T:A</th>\n",
       "      <td>2</td>\n",
       "      <td>2</td>\n",
       "      <td>1</td>\n",
       "      <td>1</td>\n",
       "      <td>0</td>\n",
       "    </tr>\n",
       "    <tr>\n",
       "      <th>1:22577937:C:G</th>\n",
       "      <td>0</td>\n",
       "      <td>2</td>\n",
       "      <td>1</td>\n",
       "      <td>1</td>\n",
       "      <td>2</td>\n",
       "    </tr>\n",
       "    <tr>\n",
       "      <th>1:85316872:A:C</th>\n",
       "      <td>2</td>\n",
       "      <td>1</td>\n",
       "      <td>0</td>\n",
       "      <td>1</td>\n",
       "      <td>1</td>\n",
       "    </tr>\n",
       "    <tr>\n",
       "      <th>1:91886326:T:A</th>\n",
       "      <td>2</td>\n",
       "      <td>0</td>\n",
       "      <td>1</td>\n",
       "      <td>1</td>\n",
       "      <td>1</td>\n",
       "    </tr>\n",
       "  </tbody>\n",
       "</table>\n",
       "</div>"
      ],
      "text/plain": [
       "                HG00096  HG00097  HG00099  HG00100  HG00101\n",
       "SNP                                                        \n",
       "1:7565678:C:A         0        0        1        0        1\n",
       "1:18535255:T:A        2        2        1        1        0\n",
       "1:22577937:C:G        0        2        1        1        2\n",
       "1:85316872:A:C        2        1        0        1        1\n",
       "1:91886326:T:A        2        0        1        1        1"
      ]
     },
     "execution_count": 8,
     "metadata": {},
     "output_type": "execute_result"
    }
   ],
   "source": [
    "snpData.iloc[:5,:5]"
   ]
  },
  {
   "cell_type": "markdown",
   "metadata": {},
   "source": [
    "# There should be enough SNPs in the input file to create all variables"
   ]
  },
  {
   "cell_type": "code",
   "execution_count": 9,
   "metadata": {},
   "outputs": [
    {
     "name": "stdout",
     "output_type": "stream",
     "text": [
      "Number of SNPs in the input file:  162\n",
      "Number of SNPs needed:  53\n",
      "There are enough SNPs in the input file\n"
     ]
    }
   ],
   "source": [
    "print(\"Number of SNPs in the input file: \", snpData.shape[0])\n",
    "print(\"Number of SNPs needed: \", numSnpsNeeded)\n",
    "\n",
    "if snpData.shape[0] < numSnpsNeeded:\n",
    "    print(\"There are not enough SNPs in the input file\")\n",
    "    exit(1)\n",
    "else:\n",
    "    print(\"There are enough SNPs in the input file\")"
   ]
  },
  {
   "cell_type": "markdown",
   "metadata": {},
   "source": [
    "# Suffle SNPs if asked in the config file.\n",
    "## When SNPs are shuffled different set of SNPs used to form each variables each time"
   ]
  },
  {
   "cell_type": "code",
   "execution_count": 10,
   "metadata": {},
   "outputs": [],
   "source": [
    "if shuffleSnps:\n",
    "    snpData = snpData.sample(frac=1)"
   ]
  },
  {
   "cell_type": "markdown",
   "metadata": {},
   "source": [
    "# Transpose the genotype data and print number of snps and samples\n",
    "## Also rename 0/0, 0/1 and 1/1 to R, H and A"
   ]
  },
  {
   "cell_type": "code",
   "execution_count": 11,
   "metadata": {},
   "outputs": [],
   "source": [
    "snpData = snpData.T"
   ]
  },
  {
   "cell_type": "code",
   "execution_count": 12,
   "metadata": {},
   "outputs": [
    {
     "name": "stdout",
     "output_type": "stream",
     "text": [
      "number of sample 2504\n",
      "number of snp 162\n"
     ]
    }
   ],
   "source": [
    "df = snpData.replace([0,1,2],['R','H','A'])\n",
    "numSampels = df.shape[0]\n",
    "numSNPs = df.shape[1]\n",
    "print(\"number of sample\",numSampels)\n",
    "print(\"number of snp\",numSNPs)"
   ]
  },
  {
   "cell_type": "code",
   "execution_count": 13,
   "metadata": {},
   "outputs": [
    {
     "data": {
      "text/html": [
       "<div>\n",
       "<style scoped>\n",
       "    .dataframe tbody tr th:only-of-type {\n",
       "        vertical-align: middle;\n",
       "    }\n",
       "\n",
       "    .dataframe tbody tr th {\n",
       "        vertical-align: top;\n",
       "    }\n",
       "\n",
       "    .dataframe thead th {\n",
       "        text-align: right;\n",
       "    }\n",
       "</style>\n",
       "<table border=\"1\" class=\"dataframe\">\n",
       "  <thead>\n",
       "    <tr style=\"text-align: right;\">\n",
       "      <th>SNP</th>\n",
       "      <th>7:157475795:G:A</th>\n",
       "      <th>3:193783178:T:C</th>\n",
       "      <th>20:3050531:A:T</th>\n",
       "      <th>13:36615122:T:A</th>\n",
       "      <th>11:1471221:C:T</th>\n",
       "    </tr>\n",
       "  </thead>\n",
       "  <tbody>\n",
       "    <tr>\n",
       "      <th>HG00096</th>\n",
       "      <td>H</td>\n",
       "      <td>H</td>\n",
       "      <td>A</td>\n",
       "      <td>R</td>\n",
       "      <td>R</td>\n",
       "    </tr>\n",
       "    <tr>\n",
       "      <th>HG00097</th>\n",
       "      <td>R</td>\n",
       "      <td>H</td>\n",
       "      <td>H</td>\n",
       "      <td>A</td>\n",
       "      <td>H</td>\n",
       "    </tr>\n",
       "    <tr>\n",
       "      <th>HG00099</th>\n",
       "      <td>H</td>\n",
       "      <td>A</td>\n",
       "      <td>H</td>\n",
       "      <td>R</td>\n",
       "      <td>R</td>\n",
       "    </tr>\n",
       "    <tr>\n",
       "      <th>HG00100</th>\n",
       "      <td>R</td>\n",
       "      <td>H</td>\n",
       "      <td>H</td>\n",
       "      <td>R</td>\n",
       "      <td>R</td>\n",
       "    </tr>\n",
       "    <tr>\n",
       "      <th>HG00101</th>\n",
       "      <td>R</td>\n",
       "      <td>A</td>\n",
       "      <td>R</td>\n",
       "      <td>R</td>\n",
       "      <td>R</td>\n",
       "    </tr>\n",
       "  </tbody>\n",
       "</table>\n",
       "</div>"
      ],
      "text/plain": [
       "SNP     7:157475795:G:A 3:193783178:T:C 20:3050531:A:T 13:36615122:T:A  \\\n",
       "HG00096               H               H              A               R   \n",
       "HG00097               R               H              H               A   \n",
       "HG00099               H               A              H               R   \n",
       "HG00100               R               H              H               R   \n",
       "HG00101               R               A              R               R   \n",
       "\n",
       "SNP     11:1471221:C:T  \n",
       "HG00096              R  \n",
       "HG00097              H  \n",
       "HG00099              R  \n",
       "HG00100              R  \n",
       "HG00101              R  "
      ]
     },
     "execution_count": 13,
     "metadata": {},
     "output_type": "execute_result"
    }
   ],
   "source": [
    "df.iloc[:5,:5]"
   ]
  },
  {
   "cell_type": "markdown",
   "metadata": {},
   "source": [
    "# Form variables from SNPs\n",
    "## A variable could be a SNPs or a set of Interactive SNPs\n",
    "## First identify whcih SNPs belong to each variable and then form the variables\n",
    "## Naming of variables: O3V4 is the 4th variable with 3-interactive SNPs\n",
    "## Write Variables SNPs infor in \"outputPrefix.varData.csv\""
   ]
  },
  {
   "cell_type": "code",
   "execution_count": 14,
   "metadata": {},
   "outputs": [],
   "source": [
    "colNames = list() # to store variable names\n",
    "for o,v in enumerate(config['variables']):\n",
    "    for i in range(0,v['numVar']):\n",
    "        colNames.append('O'+str(o+1)+'V'+str(i+1))"
   ]
  },
  {
   "cell_type": "code",
   "execution_count": 15,
   "metadata": {},
   "outputs": [],
   "source": [
    "rowNames = ['order']\n",
    "for o in range(maxOrder):\n",
    "    rowNames.append('snp_'+str(o+1))"
   ]
  },
  {
   "cell_type": "code",
   "execution_count": 16,
   "metadata": {},
   "outputs": [],
   "source": [
    "varData = pd.DataFrame(index=rowNames, columns=colNames)"
   ]
  },
  {
   "cell_type": "code",
   "execution_count": 17,
   "metadata": {},
   "outputs": [],
   "source": [
    "idx = 0\n",
    "for o,v in enumerate(config['variables']):\n",
    "    for i in range(0,v['numVar']):\n",
    "        name = 'O'+str(o+1)+'V'+str(i+1)\n",
    "        varData.at['order',name] = str(o+1)\n",
    "        for k in range(0,v['numSnpsInVar']):\n",
    "            snp = 'snp_'+str(k+1)\n",
    "            varData.at[snp,name]=df.columns[idx]\n",
    "            idx += 1\n",
    "varData = varData.fillna('---')"
   ]
  },
  {
   "cell_type": "code",
   "execution_count": 18,
   "metadata": {},
   "outputs": [],
   "source": [
    "varData.to_csv(outputPrefix+'.varData.csv')"
   ]
  },
  {
   "cell_type": "code",
   "execution_count": 19,
   "metadata": {},
   "outputs": [
    {
     "data": {
      "text/html": [
       "<div>\n",
       "<style scoped>\n",
       "    .dataframe tbody tr th:only-of-type {\n",
       "        vertical-align: middle;\n",
       "    }\n",
       "\n",
       "    .dataframe tbody tr th {\n",
       "        vertical-align: top;\n",
       "    }\n",
       "\n",
       "    .dataframe thead th {\n",
       "        text-align: right;\n",
       "    }\n",
       "</style>\n",
       "<table border=\"1\" class=\"dataframe\">\n",
       "  <thead>\n",
       "    <tr style=\"text-align: right;\">\n",
       "      <th></th>\n",
       "      <th>O3V5</th>\n",
       "      <th>O4V1</th>\n",
       "      <th>O4V2</th>\n",
       "      <th>O5V1</th>\n",
       "      <th>O5V2</th>\n",
       "    </tr>\n",
       "  </thead>\n",
       "  <tbody>\n",
       "    <tr>\n",
       "      <th>order</th>\n",
       "      <td>3</td>\n",
       "      <td>4</td>\n",
       "      <td>4</td>\n",
       "      <td>5</td>\n",
       "      <td>5</td>\n",
       "    </tr>\n",
       "    <tr>\n",
       "      <th>snp_1</th>\n",
       "      <td>3:24376451:G:A</td>\n",
       "      <td>19:33513765:C:T</td>\n",
       "      <td>3:1386467:T:C</td>\n",
       "      <td>16:78434684:C:T</td>\n",
       "      <td>11:94778759:G:A</td>\n",
       "    </tr>\n",
       "    <tr>\n",
       "      <th>snp_2</th>\n",
       "      <td>8:6403006:A:C</td>\n",
       "      <td>13:28244118:C:T</td>\n",
       "      <td>20:5473898:A:C</td>\n",
       "      <td>17:32676616:G:A</td>\n",
       "      <td>1:22577937:C:G</td>\n",
       "    </tr>\n",
       "    <tr>\n",
       "      <th>snp_3</th>\n",
       "      <td>2:53567633:G:A</td>\n",
       "      <td>7:9387898:A:C</td>\n",
       "      <td>1:18535255:T:A</td>\n",
       "      <td>2:77781018:C:T</td>\n",
       "      <td>5:124331005:T:C</td>\n",
       "    </tr>\n",
       "    <tr>\n",
       "      <th>snp_4</th>\n",
       "      <td>---</td>\n",
       "      <td>15:94841284:T:C</td>\n",
       "      <td>4:25030312:G:C</td>\n",
       "      <td>11:69702320:C:T</td>\n",
       "      <td>4:18268738:C:T</td>\n",
       "    </tr>\n",
       "    <tr>\n",
       "      <th>snp_5</th>\n",
       "      <td>---</td>\n",
       "      <td>---</td>\n",
       "      <td>---</td>\n",
       "      <td>14:70389110:G:C</td>\n",
       "      <td>9:88538024:G:A</td>\n",
       "    </tr>\n",
       "  </tbody>\n",
       "</table>\n",
       "</div>"
      ],
      "text/plain": [
       "                 O3V5             O4V1            O4V2             O5V1  \\\n",
       "order               3                4               4                5   \n",
       "snp_1  3:24376451:G:A  19:33513765:C:T   3:1386467:T:C  16:78434684:C:T   \n",
       "snp_2   8:6403006:A:C  13:28244118:C:T  20:5473898:A:C  17:32676616:G:A   \n",
       "snp_3  2:53567633:G:A    7:9387898:A:C  1:18535255:T:A   2:77781018:C:T   \n",
       "snp_4             ---  15:94841284:T:C  4:25030312:G:C  11:69702320:C:T   \n",
       "snp_5             ---              ---             ---  14:70389110:G:C   \n",
       "\n",
       "                  O5V2  \n",
       "order                5  \n",
       "snp_1  11:94778759:G:A  \n",
       "snp_2   1:22577937:C:G  \n",
       "snp_3  5:124331005:T:C  \n",
       "snp_4   4:18268738:C:T  \n",
       "snp_5   9:88538024:G:A  "
      ]
     },
     "execution_count": 19,
     "metadata": {},
     "output_type": "execute_result"
    }
   ],
   "source": [
    "varData.iloc[:6,-5:]"
   ]
  },
  {
   "cell_type": "markdown",
   "metadata": {},
   "source": [
    "# Form Variable Genotype and write it to \"outputPrefix.varGT.csv\"\n",
    "## For variables with more than one SNPs the genotype is the concatination of all SNPs involved\n",
    "## For example RHA, ARH and AAR could be genotype value of a variable with 3 snps"
   ]
  },
  {
   "cell_type": "code",
   "execution_count": 20,
   "metadata": {},
   "outputs": [],
   "source": [
    "varGT = df.iloc[:,-1:0].copy()"
   ]
  },
  {
   "cell_type": "code",
   "execution_count": 21,
   "metadata": {},
   "outputs": [],
   "source": [
    "for o,v in enumerate(config['variables']):\n",
    "    for i in range(0,v['numVar']):\n",
    "        name = 'O'+str(o+1)+'V'+str(i+1)\n",
    "        varGT[name] = ''\n",
    "        for k in range(0,v['numSnpsInVar']):\n",
    "            snp = 'snp_'+str(k+1)\n",
    "            varGT[name] = varGT[name] + df[varData.loc[snp,name]]"
   ]
  },
  {
   "cell_type": "code",
   "execution_count": 22,
   "metadata": {},
   "outputs": [],
   "source": [
    "varGT.to_csv(outputPrefix+'.varGT.csv')"
   ]
  },
  {
   "cell_type": "code",
   "execution_count": 23,
   "metadata": {},
   "outputs": [
    {
     "data": {
      "text/html": [
       "<div>\n",
       "<style scoped>\n",
       "    .dataframe tbody tr th:only-of-type {\n",
       "        vertical-align: middle;\n",
       "    }\n",
       "\n",
       "    .dataframe tbody tr th {\n",
       "        vertical-align: top;\n",
       "    }\n",
       "\n",
       "    .dataframe thead th {\n",
       "        text-align: right;\n",
       "    }\n",
       "</style>\n",
       "<table border=\"1\" class=\"dataframe\">\n",
       "  <thead>\n",
       "    <tr style=\"text-align: right;\">\n",
       "      <th>SNP</th>\n",
       "      <th>O3V5</th>\n",
       "      <th>O4V1</th>\n",
       "      <th>O4V2</th>\n",
       "      <th>O5V1</th>\n",
       "      <th>O5V2</th>\n",
       "    </tr>\n",
       "  </thead>\n",
       "  <tbody>\n",
       "    <tr>\n",
       "      <th>HG00096</th>\n",
       "      <td>RRH</td>\n",
       "      <td>RRRR</td>\n",
       "      <td>RRAH</td>\n",
       "      <td>RHHHR</td>\n",
       "      <td>HRHAH</td>\n",
       "    </tr>\n",
       "    <tr>\n",
       "      <th>HG00097</th>\n",
       "      <td>HHR</td>\n",
       "      <td>HAHH</td>\n",
       "      <td>HRAR</td>\n",
       "      <td>RHHHA</td>\n",
       "      <td>HARAH</td>\n",
       "    </tr>\n",
       "    <tr>\n",
       "      <th>HG00099</th>\n",
       "      <td>RAH</td>\n",
       "      <td>HHHA</td>\n",
       "      <td>RRHH</td>\n",
       "      <td>RRAHH</td>\n",
       "      <td>HHHAH</td>\n",
       "    </tr>\n",
       "    <tr>\n",
       "      <th>HG00100</th>\n",
       "      <td>HRH</td>\n",
       "      <td>HHHH</td>\n",
       "      <td>HRHH</td>\n",
       "      <td>RHHRH</td>\n",
       "      <td>HHRAH</td>\n",
       "    </tr>\n",
       "    <tr>\n",
       "      <th>HG00101</th>\n",
       "      <td>RHH</td>\n",
       "      <td>HHRA</td>\n",
       "      <td>RRRH</td>\n",
       "      <td>RRAHH</td>\n",
       "      <td>RAHAR</td>\n",
       "    </tr>\n",
       "  </tbody>\n",
       "</table>\n",
       "</div>"
      ],
      "text/plain": [
       "SNP     O3V5  O4V1  O4V2   O5V1   O5V2\n",
       "HG00096  RRH  RRRR  RRAH  RHHHR  HRHAH\n",
       "HG00097  HHR  HAHH  HRAR  RHHHA  HARAH\n",
       "HG00099  RAH  HHHA  RRHH  RRAHH  HHHAH\n",
       "HG00100  HRH  HHHH  HRHH  RHHRH  HHRAH\n",
       "HG00101  RHH  HHRA  RRRH  RRAHH  RAHAR"
      ]
     },
     "execution_count": 23,
     "metadata": {},
     "output_type": "execute_result"
    }
   ],
   "source": [
    "varGT.iloc[:5,-5:]"
   ]
  },
  {
   "cell_type": "markdown",
   "metadata": {},
   "source": [
    "# This function compute Risks based on given phenotype"
   ]
  },
  {
   "cell_type": "code",
   "execution_count": 24,
   "metadata": {},
   "outputs": [],
   "source": [
    "def FindRisks(df):\n",
    "    varNames = df.columns[0:-1]\n",
    "    \n",
    "    case, ctrl = df[df['lbl']==1], df[df['lbl']==0]\n",
    "    \n",
    "    GS = dict()\n",
    "    \n",
    "    for i,v in enumerate(varNames):\n",
    "\n",
    "        caseC=case[v].value_counts()\n",
    "        ctrlC=ctrl[v].value_counts()\n",
    "\n",
    "        count = caseC.to_frame().join(ctrlC.to_frame(),lsuffix='_case', rsuffix='_ctrl',how='outer').fillna(0)\n",
    "        #count = count.iloc[:,:-1]\n",
    "        count.columns = ['case', 'ctrl']\n",
    "        count['p'] = (count['case'])/(count['ctrl']+count['case'])\n",
    "        #count['p'] /= count['p'].sum()\n",
    "        \n",
    "        GS[v] = count\n",
    "    return GS"
   ]
  },
  {
   "cell_type": "markdown",
   "metadata": {},
   "source": [
    "# This function update phenotype based on given Risks"
   ]
  },
  {
   "cell_type": "code",
   "execution_count": 25,
   "metadata": {},
   "outputs": [],
   "source": [
    "def Predict(df,GS):\n",
    "    df['prob'] = 0.0;\n",
    "    for sample in df.index:\n",
    "        prob = 1.0\n",
    "        for var in df.drop(['lbl','prob'], axis=1).columns:\n",
    "            G = GS[var]\n",
    "            g = df.loc[sample,var]\n",
    "            if g in G.index:\n",
    "                prob *= G.loc[g,'p']\n",
    "        df.at[sample,'prob'] = prob\n",
    "\n",
    "    mid = df['prob'].mean()\n",
    "    df['lbl'] = df['prob'].apply(lambda x: 1 if(x>mid) else 0)"
   ]
  },
  {
   "cell_type": "markdown",
   "metadata": {},
   "source": [
    "# Assign random phenotype to samples\n",
    "# 0 for control and 1 for case"
   ]
  },
  {
   "cell_type": "code",
   "execution_count": 26,
   "metadata": {},
   "outputs": [],
   "source": [
    "varGT['lbl'] = np.random.randint(0, 2, varGT.shape[0])"
   ]
  },
  {
   "cell_type": "code",
   "execution_count": 27,
   "metadata": {},
   "outputs": [
    {
     "data": {
      "text/html": [
       "<div>\n",
       "<style scoped>\n",
       "    .dataframe tbody tr th:only-of-type {\n",
       "        vertical-align: middle;\n",
       "    }\n",
       "\n",
       "    .dataframe tbody tr th {\n",
       "        vertical-align: top;\n",
       "    }\n",
       "\n",
       "    .dataframe thead th {\n",
       "        text-align: right;\n",
       "    }\n",
       "</style>\n",
       "<table border=\"1\" class=\"dataframe\">\n",
       "  <thead>\n",
       "    <tr style=\"text-align: right;\">\n",
       "      <th>SNP</th>\n",
       "      <th>lbl</th>\n",
       "    </tr>\n",
       "  </thead>\n",
       "  <tbody>\n",
       "    <tr>\n",
       "      <th>HG00096</th>\n",
       "      <td>0</td>\n",
       "    </tr>\n",
       "    <tr>\n",
       "      <th>HG00097</th>\n",
       "      <td>0</td>\n",
       "    </tr>\n",
       "    <tr>\n",
       "      <th>HG00099</th>\n",
       "      <td>0</td>\n",
       "    </tr>\n",
       "    <tr>\n",
       "      <th>HG00100</th>\n",
       "      <td>1</td>\n",
       "    </tr>\n",
       "    <tr>\n",
       "      <th>HG00101</th>\n",
       "      <td>1</td>\n",
       "    </tr>\n",
       "  </tbody>\n",
       "</table>\n",
       "</div>"
      ],
      "text/plain": [
       "SNP      lbl\n",
       "HG00096    0\n",
       "HG00097    0\n",
       "HG00099    0\n",
       "HG00100    1\n",
       "HG00101    1"
      ]
     },
     "execution_count": 27,
     "metadata": {},
     "output_type": "execute_result"
    }
   ],
   "source": [
    "varGT[['lbl']].head(5)"
   ]
  },
  {
   "cell_type": "markdown",
   "metadata": {},
   "source": [
    "# Compute and plot chi2-pvalue (log10) of the variables for the random phenotype"
   ]
  },
  {
   "cell_type": "code",
   "execution_count": 28,
   "metadata": {},
   "outputs": [
    {
     "data": {
      "text/html": [
       "<div>\n",
       "<style scoped>\n",
       "    .dataframe tbody tr th:only-of-type {\n",
       "        vertical-align: middle;\n",
       "    }\n",
       "\n",
       "    .dataframe tbody tr th {\n",
       "        vertical-align: top;\n",
       "    }\n",
       "\n",
       "    .dataframe thead th {\n",
       "        text-align: right;\n",
       "    }\n",
       "</style>\n",
       "<table border=\"1\" class=\"dataframe\">\n",
       "  <thead>\n",
       "    <tr style=\"text-align: right;\">\n",
       "      <th></th>\n",
       "      <th>number of SNPs exceed the p-value</th>\n",
       "    </tr>\n",
       "    <tr>\n",
       "      <th>p-value</th>\n",
       "      <th></th>\n",
       "    </tr>\n",
       "  </thead>\n",
       "  <tbody>\n",
       "    <tr>\n",
       "      <th>1.000000e+00</th>\n",
       "      <td>24</td>\n",
       "    </tr>\n",
       "    <tr>\n",
       "      <th>5.000000e-01</th>\n",
       "      <td>14</td>\n",
       "    </tr>\n",
       "    <tr>\n",
       "      <th>1.000000e-01</th>\n",
       "      <td>4</td>\n",
       "    </tr>\n",
       "    <tr>\n",
       "      <th>1.000000e-02</th>\n",
       "      <td>2</td>\n",
       "    </tr>\n",
       "    <tr>\n",
       "      <th>1.000000e-03</th>\n",
       "      <td>0</td>\n",
       "    </tr>\n",
       "    <tr>\n",
       "      <th>1.000000e-08</th>\n",
       "      <td>0</td>\n",
       "    </tr>\n",
       "    <tr>\n",
       "      <th>1.000000e-20</th>\n",
       "      <td>0</td>\n",
       "    </tr>\n",
       "  </tbody>\n",
       "</table>\n",
       "</div>"
      ],
      "text/plain": [
       "              number of SNPs exceed the p-value\n",
       "p-value                                        \n",
       "1.000000e+00                                 24\n",
       "5.000000e-01                                 14\n",
       "1.000000e-01                                  4\n",
       "1.000000e-02                                  2\n",
       "1.000000e-03                                  0\n",
       "1.000000e-08                                  0\n",
       "1.000000e-20                                  0"
      ]
     },
     "execution_count": 28,
     "metadata": {},
     "output_type": "execute_result"
    },
    {
     "data": {
      "image/png": "[encoded data removed]",
      "text/plain": [
       "<Figure size 432x288 with 1 Axes>"
      ]
     },
     "metadata": {
      "needs_background": "light"
     },
     "output_type": "display_data"
    }
   ],
   "source": [
    "features = varGT.columns[:-1]\n",
    "corrDict = dict()\n",
    "for v in features:\n",
    "    corrDict[v] = stats.chi2_contingency(pd.crosstab(varGT['lbl'],varGT[v]).values)[1]\n",
    "a = np.asarray(list(corrDict.values()))\n",
    "b = - np.log10(a)\n",
    "plt.plot(np.sort(b))\n",
    "nsat = list()\n",
    "for t in TA:\n",
    "    nsat.append([t, np.where(a<t)[0].shape[0]])\n",
    "x = pd.DataFrame(nsat)\n",
    "x.columns =['p-value', 'number of SNPs exceed the p-value']\n",
    "x.set_index('p-value')"
   ]
  },
  {
   "cell_type": "markdown",
   "metadata": {},
   "source": [
    "# >>>> Phenotype Simulation Feedback loop <<<<"
   ]
  },
  {
   "cell_type": "code",
   "execution_count": 29,
   "metadata": {},
   "outputs": [
    {
     "name": "stdout",
     "output_type": "stream",
     "text": [
      "loop 1\n",
      "Done\n"
     ]
    }
   ],
   "source": [
    "for i in range(numLoop):\n",
    "    print('loop', i+1)\n",
    "    Risks = FindRisks(varGT)\n",
    "    Predict(varGT,Risks)\n",
    "    varGT = varGT.drop(['prob'], axis=1)\n",
    "print(\"Done\")"
   ]
  },
  {
   "cell_type": "markdown",
   "metadata": {},
   "source": [
    "# Write Phenotype into a file outputPrefix.pheno.csv"
   ]
  },
  {
   "cell_type": "code",
   "execution_count": 30,
   "metadata": {},
   "outputs": [],
   "source": [
    "phen = varGT[['lbl']].copy()\n",
    "phen.index.name ='sample'\n",
    "phen.to_csv(outputPrefix+'.pheno.csv')"
   ]
  },
  {
   "cell_type": "code",
   "execution_count": 31,
   "metadata": {},
   "outputs": [
    {
     "data": {
      "text/html": [
       "<div>\n",
       "<style scoped>\n",
       "    .dataframe tbody tr th:only-of-type {\n",
       "        vertical-align: middle;\n",
       "    }\n",
       "\n",
       "    .dataframe tbody tr th {\n",
       "        vertical-align: top;\n",
       "    }\n",
       "\n",
       "    .dataframe thead th {\n",
       "        text-align: right;\n",
       "    }\n",
       "</style>\n",
       "<table border=\"1\" class=\"dataframe\">\n",
       "  <thead>\n",
       "    <tr style=\"text-align: right;\">\n",
       "      <th>SNP</th>\n",
       "      <th>lbl</th>\n",
       "    </tr>\n",
       "    <tr>\n",
       "      <th>sample</th>\n",
       "      <th></th>\n",
       "    </tr>\n",
       "  </thead>\n",
       "  <tbody>\n",
       "    <tr>\n",
       "      <th>HG00096</th>\n",
       "      <td>0</td>\n",
       "    </tr>\n",
       "    <tr>\n",
       "      <th>HG00097</th>\n",
       "      <td>0</td>\n",
       "    </tr>\n",
       "    <tr>\n",
       "      <th>HG00099</th>\n",
       "      <td>0</td>\n",
       "    </tr>\n",
       "    <tr>\n",
       "      <th>HG00100</th>\n",
       "      <td>1</td>\n",
       "    </tr>\n",
       "    <tr>\n",
       "      <th>HG00101</th>\n",
       "      <td>1</td>\n",
       "    </tr>\n",
       "  </tbody>\n",
       "</table>\n",
       "</div>"
      ],
      "text/plain": [
       "SNP      lbl\n",
       "sample      \n",
       "HG00096    0\n",
       "HG00097    0\n",
       "HG00099    0\n",
       "HG00100    1\n",
       "HG00101    1"
      ]
     },
     "execution_count": 31,
     "metadata": {},
     "output_type": "execute_result"
    }
   ],
   "source": [
    "phen.head()"
   ]
  },
  {
   "cell_type": "markdown",
   "metadata": {},
   "source": [
    "# Compute and plot chi2-pvalue (log10) of the variables for the simulated phenotype"
   ]
  },
  {
   "cell_type": "code",
   "execution_count": 32,
   "metadata": {},
   "outputs": [
    {
     "data": {
      "text/html": [
       "<div>\n",
       "<style scoped>\n",
       "    .dataframe tbody tr th:only-of-type {\n",
       "        vertical-align: middle;\n",
       "    }\n",
       "\n",
       "    .dataframe tbody tr th {\n",
       "        vertical-align: top;\n",
       "    }\n",
       "\n",
       "    .dataframe thead th {\n",
       "        text-align: right;\n",
       "    }\n",
       "</style>\n",
       "<table border=\"1\" class=\"dataframe\">\n",
       "  <thead>\n",
       "    <tr style=\"text-align: right;\">\n",
       "      <th></th>\n",
       "      <th>number of SNPs exceed the p-value</th>\n",
       "    </tr>\n",
       "    <tr>\n",
       "      <th>p-value</th>\n",
       "      <th></th>\n",
       "    </tr>\n",
       "  </thead>\n",
       "  <tbody>\n",
       "    <tr>\n",
       "      <th>1.000000e+00</th>\n",
       "      <td>24</td>\n",
       "    </tr>\n",
       "    <tr>\n",
       "      <th>5.000000e-01</th>\n",
       "      <td>23</td>\n",
       "    </tr>\n",
       "    <tr>\n",
       "      <th>1.000000e-01</th>\n",
       "      <td>21</td>\n",
       "    </tr>\n",
       "    <tr>\n",
       "      <th>1.000000e-02</th>\n",
       "      <td>14</td>\n",
       "    </tr>\n",
       "    <tr>\n",
       "      <th>1.000000e-03</th>\n",
       "      <td>14</td>\n",
       "    </tr>\n",
       "    <tr>\n",
       "      <th>1.000000e-08</th>\n",
       "      <td>10</td>\n",
       "    </tr>\n",
       "    <tr>\n",
       "      <th>1.000000e-20</th>\n",
       "      <td>3</td>\n",
       "    </tr>\n",
       "  </tbody>\n",
       "</table>\n",
       "</div>"
      ],
      "text/plain": [
       "              number of SNPs exceed the p-value\n",
       "p-value                                        \n",
       "1.000000e+00                                 24\n",
       "5.000000e-01                                 23\n",
       "1.000000e-01                                 21\n",
       "1.000000e-02                                 14\n",
       "1.000000e-03                                 14\n",
       "1.000000e-08                                 10\n",
       "1.000000e-20                                  3"
      ]
     },
     "execution_count": 32,
     "metadata": {},
     "output_type": "execute_result"
    },
    {
     "data": {
      "image/png": "[encoded data removed]",
      "text/plain": [
       "<Figure size 432x288 with 1 Axes>"
      ]
     },
     "metadata": {
      "needs_background": "light"
     },
     "output_type": "display_data"
    }
   ],
   "source": [
    "features = varGT.columns[:-1]\n",
    "corrDict = dict()\n",
    "for v in features:\n",
    "    corrDict[v] = stats.chi2_contingency(pd.crosstab(varGT['lbl'],varGT[v]).values)[1]\n",
    "a = np.asarray(list(corrDict.values()))\n",
    "b = - np.log10(a)\n",
    "plt.plot(np.sort(b))\n",
    "nsat = list()\n",
    "for t in TA:\n",
    "    nsat.append([t, np.where(a<t)[0].shape[0]])\n",
    "x = pd.DataFrame(nsat)\n",
    "x.columns =['p-value', 'number of SNPs exceed the p-value']\n",
    "x.set_index('p-value')"
   ]
  },
  {
   "cell_type": "markdown",
   "metadata": {},
   "source": [
    "# Filter Variable that satisfy p-value treshold as Truth Variable and write it to \"outputPrefix.varDataTruth.csv\""
   ]
  },
  {
   "cell_type": "code",
   "execution_count": 33,
   "metadata": {},
   "outputs": [],
   "source": [
    "variables = list()\n",
    "for v in corrDict:\n",
    "    if corrDict[v]<pvalueThr:\n",
    "        variables.append(v)\n",
    "\n",
    "varDataTruth = varData[variables]\n",
    "varDataTruth.to_csv(outputPrefix+'.varDataTruth.csv')"
   ]
  },
  {
   "cell_type": "code",
   "execution_count": 34,
   "metadata": {},
   "outputs": [
    {
     "name": "stdout",
     "output_type": "stream",
     "text": [
      "Number of Variables:  24\n",
      "Number of Truth Variables:  14\n"
     ]
    }
   ],
   "source": [
    "print(\"Number of Variables: \",varData.shape[1])\n",
    "print(\"Number of Truth Variables: \",varDataTruth.shape[1])"
   ]
  },
  {
   "cell_type": "code",
   "execution_count": 35,
   "metadata": {},
   "outputs": [
    {
     "data": {
      "text/html": [
       "<div>\n",
       "<style scoped>\n",
       "    .dataframe tbody tr th:only-of-type {\n",
       "        vertical-align: middle;\n",
       "    }\n",
       "\n",
       "    .dataframe tbody tr th {\n",
       "        vertical-align: top;\n",
       "    }\n",
       "\n",
       "    .dataframe thead th {\n",
       "        text-align: right;\n",
       "    }\n",
       "</style>\n",
       "<table border=\"1\" class=\"dataframe\">\n",
       "  <thead>\n",
       "    <tr style=\"text-align: right;\">\n",
       "      <th></th>\n",
       "      <th>O3V5</th>\n",
       "      <th>O4V1</th>\n",
       "      <th>O4V2</th>\n",
       "      <th>O5V1</th>\n",
       "      <th>O5V2</th>\n",
       "    </tr>\n",
       "  </thead>\n",
       "  <tbody>\n",
       "    <tr>\n",
       "      <th>order</th>\n",
       "      <td>3</td>\n",
       "      <td>4</td>\n",
       "      <td>4</td>\n",
       "      <td>5</td>\n",
       "      <td>5</td>\n",
       "    </tr>\n",
       "    <tr>\n",
       "      <th>snp_1</th>\n",
       "      <td>3:24376451:G:A</td>\n",
       "      <td>19:33513765:C:T</td>\n",
       "      <td>3:1386467:T:C</td>\n",
       "      <td>16:78434684:C:T</td>\n",
       "      <td>11:94778759:G:A</td>\n",
       "    </tr>\n",
       "    <tr>\n",
       "      <th>snp_2</th>\n",
       "      <td>8:6403006:A:C</td>\n",
       "      <td>13:28244118:C:T</td>\n",
       "      <td>20:5473898:A:C</td>\n",
       "      <td>17:32676616:G:A</td>\n",
       "      <td>1:22577937:C:G</td>\n",
       "    </tr>\n",
       "    <tr>\n",
       "      <th>snp_3</th>\n",
       "      <td>2:53567633:G:A</td>\n",
       "      <td>7:9387898:A:C</td>\n",
       "      <td>1:18535255:T:A</td>\n",
       "      <td>2:77781018:C:T</td>\n",
       "      <td>5:124331005:T:C</td>\n",
       "    </tr>\n",
       "    <tr>\n",
       "      <th>snp_4</th>\n",
       "      <td>---</td>\n",
       "      <td>15:94841284:T:C</td>\n",
       "      <td>4:25030312:G:C</td>\n",
       "      <td>11:69702320:C:T</td>\n",
       "      <td>4:18268738:C:T</td>\n",
       "    </tr>\n",
       "    <tr>\n",
       "      <th>snp_5</th>\n",
       "      <td>---</td>\n",
       "      <td>---</td>\n",
       "      <td>---</td>\n",
       "      <td>14:70389110:G:C</td>\n",
       "      <td>9:88538024:G:A</td>\n",
       "    </tr>\n",
       "  </tbody>\n",
       "</table>\n",
       "</div>"
      ],
      "text/plain": [
       "                 O3V5             O4V1            O4V2             O5V1  \\\n",
       "order               3                4               4                5   \n",
       "snp_1  3:24376451:G:A  19:33513765:C:T   3:1386467:T:C  16:78434684:C:T   \n",
       "snp_2   8:6403006:A:C  13:28244118:C:T  20:5473898:A:C  17:32676616:G:A   \n",
       "snp_3  2:53567633:G:A    7:9387898:A:C  1:18535255:T:A   2:77781018:C:T   \n",
       "snp_4             ---  15:94841284:T:C  4:25030312:G:C  11:69702320:C:T   \n",
       "snp_5             ---              ---             ---  14:70389110:G:C   \n",
       "\n",
       "                  O5V2  \n",
       "order                5  \n",
       "snp_1  11:94778759:G:A  \n",
       "snp_2   1:22577937:C:G  \n",
       "snp_3  5:124331005:T:C  \n",
       "snp_4   4:18268738:C:T  \n",
       "snp_5   9:88538024:G:A  "
      ]
     },
     "execution_count": 35,
     "metadata": {},
     "output_type": "execute_result"
    }
   ],
   "source": [
    "varDataTruth.iloc[:6,-5:]"
   ]
  },
  {
   "cell_type": "markdown",
   "metadata": {},
   "source": [
    "# Filter SNPs included in All and Truth Variables\n",
    "## write the Truth SNP names in  \"outputPrefix.TruthSNP.csv\""
   ]
  },
  {
   "cell_type": "code",
   "execution_count": 36,
   "metadata": {},
   "outputs": [],
   "source": [
    "snps = np.unique(varDataTruth.replace(np.nan, '', regex=True).drop('order').values.ravel())[1:]\n",
    "snpDataTruth = snpData.loc[:, snpData.columns.isin(snps)]\n",
    "\n",
    "snps2 = np.unique(varData.replace(np.nan, '', regex=True).drop('order').values.ravel())[1:]\n",
    "snpDataVar = snpData.loc[:, snpData.columns.isin(snps2)]\n",
    "\n",
    "pd.DataFrame(snps).rename(columns={0:'v'}).to_csv(outputPrefix+'.TruthSNP.csv',index=False)"
   ]
  },
  {
   "cell_type": "code",
   "execution_count": 37,
   "metadata": {},
   "outputs": [
    {
     "name": "stdout",
     "output_type": "stream",
     "text": [
      "Number of SNPs used to form Variables:  53\n",
      "Number of Truth SNPs (SNPs in Truth Variables):  39\n"
     ]
    }
   ],
   "source": [
    "print(\"Number of SNPs used to form Variables: \",snpDataVar.shape[1])\n",
    "print(\"Number of Truth SNPs (SNPs in Truth Variables): \",snpDataTruth.shape[1])"
   ]
  },
  {
   "cell_type": "code",
   "execution_count": 38,
   "metadata": {},
   "outputs": [
    {
     "data": {
      "text/html": [
       "<div>\n",
       "<style scoped>\n",
       "    .dataframe tbody tr th:only-of-type {\n",
       "        vertical-align: middle;\n",
       "    }\n",
       "\n",
       "    .dataframe tbody tr th {\n",
       "        vertical-align: top;\n",
       "    }\n",
       "\n",
       "    .dataframe thead th {\n",
       "        text-align: right;\n",
       "    }\n",
       "</style>\n",
       "<table border=\"1\" class=\"dataframe\">\n",
       "  <thead>\n",
       "    <tr style=\"text-align: right;\">\n",
       "      <th>SNP</th>\n",
       "      <th>11:94778759:G:A</th>\n",
       "      <th>1:22577937:C:G</th>\n",
       "      <th>5:124331005:T:C</th>\n",
       "      <th>4:18268738:C:T</th>\n",
       "      <th>9:88538024:G:A</th>\n",
       "    </tr>\n",
       "  </thead>\n",
       "  <tbody>\n",
       "    <tr>\n",
       "      <th>HG00096</th>\n",
       "      <td>1</td>\n",
       "      <td>0</td>\n",
       "      <td>1</td>\n",
       "      <td>2</td>\n",
       "      <td>1</td>\n",
       "    </tr>\n",
       "    <tr>\n",
       "      <th>HG00097</th>\n",
       "      <td>1</td>\n",
       "      <td>2</td>\n",
       "      <td>0</td>\n",
       "      <td>2</td>\n",
       "      <td>1</td>\n",
       "    </tr>\n",
       "    <tr>\n",
       "      <th>HG00099</th>\n",
       "      <td>1</td>\n",
       "      <td>1</td>\n",
       "      <td>1</td>\n",
       "      <td>2</td>\n",
       "      <td>1</td>\n",
       "    </tr>\n",
       "    <tr>\n",
       "      <th>HG00100</th>\n",
       "      <td>1</td>\n",
       "      <td>1</td>\n",
       "      <td>0</td>\n",
       "      <td>2</td>\n",
       "      <td>1</td>\n",
       "    </tr>\n",
       "    <tr>\n",
       "      <th>HG00101</th>\n",
       "      <td>0</td>\n",
       "      <td>2</td>\n",
       "      <td>1</td>\n",
       "      <td>2</td>\n",
       "      <td>0</td>\n",
       "    </tr>\n",
       "  </tbody>\n",
       "</table>\n",
       "</div>"
      ],
      "text/plain": [
       "SNP      11:94778759:G:A  1:22577937:C:G  5:124331005:T:C  4:18268738:C:T  \\\n",
       "HG00096                1               0                1               2   \n",
       "HG00097                1               2                0               2   \n",
       "HG00099                1               1                1               2   \n",
       "HG00100                1               1                0               2   \n",
       "HG00101                0               2                1               2   \n",
       "\n",
       "SNP      9:88538024:G:A  \n",
       "HG00096               1  \n",
       "HG00097               1  \n",
       "HG00099               1  \n",
       "HG00100               1  \n",
       "HG00101               0  "
      ]
     },
     "execution_count": 38,
     "metadata": {},
     "output_type": "execute_result"
    }
   ],
   "source": [
    "snpDataTruth.iloc[:5,-5:]"
   ]
  },
  {
   "cell_type": "markdown",
   "metadata": {},
   "source": [
    "# Add Phenotype to SNP Data"
   ]
  },
  {
   "cell_type": "code",
   "execution_count": 39,
   "metadata": {},
   "outputs": [
    {
     "name": "stderr",
     "output_type": "stream",
     "text": [
      "/var/folders/c5/g6ky3r7d2qjc07pmv0my66k80000gp/T/ipykernel_85502/2858252353.py:1: SettingWithCopyWarning: \n",
      "A value is trying to be set on a copy of a slice from a DataFrame.\n",
      "Try using .loc[row_indexer,col_indexer] = value instead\n",
      "\n",
      "See the caveats in the documentation: https://pandas.pydata.org/pandas-docs/stable/user_guide/indexing.html#returning-a-view-versus-a-copy\n",
      "  snpDataTruth['lbl'] = varGT['lbl']\n",
      "/var/folders/c5/g6ky3r7d2qjc07pmv0my66k80000gp/T/ipykernel_85502/2858252353.py:2: SettingWithCopyWarning: \n",
      "A value is trying to be set on a copy of a slice from a DataFrame.\n",
      "Try using .loc[row_indexer,col_indexer] = value instead\n",
      "\n",
      "See the caveats in the documentation: https://pandas.pydata.org/pandas-docs/stable/user_guide/indexing.html#returning-a-view-versus-a-copy\n",
      "  snpDataVar['lbl'] = varGT['lbl']\n"
     ]
    }
   ],
   "source": [
    "snpDataTruth['lbl'] = varGT['lbl']\n",
    "snpDataVar['lbl'] = varGT['lbl']\n",
    "snpData['lbl'] = varGT['lbl']"
   ]
  },
  {
   "cell_type": "markdown",
   "metadata": {},
   "source": [
    "# This function used to predict lable using RandomForest\n",
    "## 75% training and 25% test"
   ]
  },
  {
   "cell_type": "code",
   "execution_count": 40,
   "metadata": {},
   "outputs": [],
   "source": [
    "def RF_AUC(dfx, nTree):\n",
    "    df = dfx.copy()\n",
    "    features = df.columns[:-1]\n",
    "    \n",
    "    df['is_train'] = np.random.uniform(0, 1, len(df)) <= .75\n",
    "    train, test = df[df['is_train']==True], df[df['is_train']==False]\n",
    "    clf = RandomForestClassifier(n_jobs=2, n_estimators=nTree, random_state=0)\n",
    "    clf.fit(train[features], train['lbl'])\n",
    "    #clf.predict(test[features])\n",
    "    prob = clf.predict_proba(test[features])\n",
    "    y_true = test['lbl']\n",
    "    y_scores = prob[:,1]\n",
    "    return clf, roc_auc_score(y_true, y_scores)\n"
   ]
  },
  {
   "cell_type": "markdown",
   "metadata": {},
   "source": [
    "# Train and test RandomForest for TruthSNP as well as for all SNP in the input file\n",
    "## Print AUC\n",
    "## Plot Importance Score"
   ]
  },
  {
   "cell_type": "code",
   "execution_count": 41,
   "metadata": {},
   "outputs": [],
   "source": [
    "clfTruth, AucTruth = RF_AUC(snpDataTruth, nTree=numTree)\n",
    "clfVar,   AucVar   = RF_AUC(snpDataVar  , nTree=numTree)\n",
    "clf,      Auc      = RF_AUC(snpData     , nTree=numTree)"
   ]
  },
  {
   "cell_type": "code",
   "execution_count": 42,
   "metadata": {},
   "outputs": [
    {
     "name": "stdout",
     "output_type": "stream",
     "text": [
      "AUC Truth SNPs            :  0.7075480910067375\n",
      "AUC All SNPs in Variables :  0.7018115942028984\n",
      "AUC All SNPs in input file:  0.6527935970447898\n"
     ]
    }
   ],
   "source": [
    "print(\"AUC Truth SNPs            : \", AucTruth )\n",
    "print(\"AUC All SNPs in Variables : \", AucVar )\n",
    "print(\"AUC All SNPs in input file: \", Auc)"
   ]
  },
  {
   "cell_type": "code",
   "execution_count": 43,
   "metadata": {},
   "outputs": [
    {
     "data": {
      "text/plain": [
       "<AxesSubplot:title={'center':'All SNP in input file'}>"
      ]
     },
     "execution_count": 43,
     "metadata": {},
     "output_type": "execute_result"
    },
    {
     "data": {
      "image/png": "[encoded data removed]",
      "text/plain": [
       "<Figure size 432x288 with 1 Axes>"
      ]
     },
     "metadata": {
      "needs_background": "light"
     },
     "output_type": "display_data"
    },
    {
     "data": {
      "image/png": "[encoded data removed]",
      "text/plain": [
       "<Figure size 432x288 with 1 Axes>"
      ]
     },
     "metadata": {
      "needs_background": "light"
     },
     "output_type": "display_data"
    },
    {
     "data": {
      "image/png": "[encoded data removed]",
      "text/plain": [
       "<Figure size 432x288 with 1 Axes>"
      ]
     },
     "metadata": {
      "needs_background": "light"
     },
     "output_type": "display_data"
    }
   ],
   "source": [
    "pd.DataFrame(np.sort(clfTruth.feature_importances_)).plot(title=\"Truth SNP\")\n",
    "pd.DataFrame(np.sort(clfVar.feature_importances_)).plot(title=\"All SNP in Variables\")\n",
    "pd.DataFrame(np.sort(clf.feature_importances_)).plot(title=\"All SNP in input file\")"
   ]
  },
  {
   "cell_type": "code",
   "execution_count": 44,
   "metadata": {},
   "outputs": [
    {
     "data": {
      "text/plain": [
       "'SampleData/output-small'"
      ]
     },
     "execution_count": 44,
     "metadata": {},
     "output_type": "execute_result"
    }
   ],
   "source": [
    "outputPrefix"
   ]
  }
 ],
 "metadata": {
  "kernelspec": {
   "display_name": "Python 3 (ipykernel)",
   "language": "python",
   "name": "python3"
  },
  "language_info": {
   "codemirror_mode": {
    "name": "ipython",
    "version": 3
   },
   "file_extension": ".py",
   "mimetype": "text/x-python",
   "name": "python",
   "nbconvert_exporter": "python",
   "pygments_lexer": "ipython3",
   "version": "3.8.12"
  }
 },
 "nbformat": 4,
 "nbformat_minor": 2
}
