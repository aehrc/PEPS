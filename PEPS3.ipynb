{
 "cells": [
  {
   "cell_type": "markdown",
   "metadata": {},
   "source": [
    "# =========================================================\n",
    "# PolyEpi: Polygenic Phenotype with Higher-Order Epistasis Interactios\n",
    "# ========================================================="
   ]
  },
  {
   "cell_type": "code",
   "execution_count": null,
   "metadata": {},
   "outputs": [],
   "source": [
    "#! pip3 install pdbio"
   ]
  },
  {
   "cell_type": "markdown",
   "metadata": {},
   "source": [
    "# Path to the config file (Modify this before running the notebook."
   ]
  },
  {
   "cell_type": "code",
   "execution_count": null,
   "metadata": {},
   "outputs": [],
   "source": [
    "configFilePath='SampleData/config-peps3.json'\n",
    "PEPS3=True # if flase then PEPS2"
   ]
  },
  {
   "cell_type": "markdown",
   "metadata": {},
   "source": [
    "# Initialisation"
   ]
  },
  {
   "cell_type": "code",
   "execution_count": null,
   "metadata": {},
   "outputs": [],
   "source": [
    "import sys\n",
    "import numpy as np\n",
    "import pandas as pd\n",
    "from matplotlib import pyplot as plt\n",
    "import json\n",
    "from collections import Counter\n",
    "from random import random\n",
    "\n",
    "from pprint import pprint\n",
    "from pdbio.vcfdataframe import VcfDataFrame\n",
    "\n",
    "import itertools\n",
    "\n",
    "from sklearn.feature_selection import SelectKBest, chi2\n",
    "from sklearn.ensemble import RandomForestClassifier\n",
    "from sklearn.metrics import roc_auc_score\n",
    "from scipy import stats\n",
    "import sklearn\n",
    "\n",
    "TA = [1, .5, 1e-1, 1e-2, 1e-3, 1e-8, 1e-20]"
   ]
  },
  {
   "cell_type": "markdown",
   "metadata": {},
   "source": [
    "# Read the config file"
   ]
  },
  {
   "cell_type": "code",
   "execution_count": null,
   "metadata": {},
   "outputs": [],
   "source": [
    "with open(configFilePath, 'r') as f:\n",
    "    config = json.load(f)"
   ]
  },
  {
   "cell_type": "code",
   "execution_count": null,
   "metadata": {},
   "outputs": [],
   "source": [
    "shuffleSnps = config['shuffleSnps']\n",
    "seed = config['seed']\n",
    "\n",
    "np.random.seed(None if shuffleSnps else seed)\n",
    "\n",
    "inputType = config['inputType']\n",
    "dumpCSV = config['dumpCSV']\n",
    "\n",
    "vcfInputPath = config['inputPrefix']+'.vcf'\n",
    "csvInputPath = config['inputPrefix']+'.csv'\n",
    "\n",
    "outputPrefix = config['outputPrefix']\n",
    "\n",
    "numTree = config['numTree']"
   ]
  },
  {
   "cell_type": "markdown",
   "metadata": {},
   "source": [
    "# Compute total numebr of variables and number of requierd SNPs to form the variables"
   ]
  },
  {
   "cell_type": "code",
   "execution_count": null,
   "metadata": {},
   "outputs": [],
   "source": [
    "numVariables = 0\n",
    "numSnpsNeeded = 0\n",
    "maxOrder = 0\n",
    "\n",
    "for v in config['variables']:\n",
    "    v['numSNPs'] = v['numVar'] * v['numSnpsInVar']\n",
    "    numVariables += v['numVar']\n",
    "    numSnpsNeeded += v['numSNPs']\n",
    "    if v['numSnpsInVar']>maxOrder:\n",
    "        maxOrder = v['numSnpsInVar']\n",
    "    \n",
    "config['numVariables'] = numVariables\n",
    "config['numSnpsNeeded'] = numSnpsNeeded\n",
    "config['maxOrder'] = maxOrder"
   ]
  },
  {
   "cell_type": "markdown",
   "metadata": {},
   "source": [
    "# Print config data and write it in \"outputPrefix.config.json\""
   ]
  },
  {
   "cell_type": "code",
   "execution_count": null,
   "metadata": {},
   "outputs": [],
   "source": [
    "! ls PEPS/SampleData/"
   ]
  },
  {
   "cell_type": "code",
   "execution_count": null,
   "metadata": {},
   "outputs": [],
   "source": [
    "print(\"========== Configuration >>>\")\n",
    "pprint(config)\n",
    "print(\"============================\")\n",
    "with open(outputPrefix+'.config.json','w+') as outfile:\n",
    "    json.dump(config, outfile, indent=4, sort_keys=True)"
   ]
  },
  {
   "cell_type": "markdown",
   "metadata": {},
   "source": [
    "# Parse input genotype data from a VCF or CSV file\n",
    "## If read from VCF file, the SNP id is set to CHROM:POS:REF:ALT"
   ]
  },
  {
   "cell_type": "code",
   "execution_count": null,
   "metadata": {
    "scrolled": true
   },
   "outputs": [],
   "source": [
    "if inputType=='vcf':\n",
    "    vcfdf = VcfDataFrame(path=vcfInputPath)\n",
    "    df = vcfdf.df\n",
    "    df['SNP'] = df['#CHROM'].astype(str) + ':' + df['POS'].astype(str) + ':' + df['REF'].astype(str) + ':' + df['ALT'].astype(str)\n",
    "    df = df.set_index('SNP')\n",
    "    snpData = df.iloc[:,9:].replace(['0/0','0/1','1/1'], [0,1,2])\n",
    "    if dumpCSV:\n",
    "        snpData.to_csv(csvInputPath)\n",
    "elif inputType=='csv':\n",
    "    snpData = pd.read_csv(csvInputPath)\n",
    "    snpData = snpData.set_index('SNP')\n",
    "else:\n",
    "    print(\"Incorrect inputType (should be 'vcf' or 'csv')\")\n",
    "    exit()"
   ]
  },
  {
   "cell_type": "code",
   "execution_count": null,
   "metadata": {
    "scrolled": true
   },
   "outputs": [],
   "source": [
    "snpData.iloc[:5,:5]"
   ]
  },
  {
   "cell_type": "markdown",
   "metadata": {},
   "source": [
    "# There should be enough SNPs in the input file to create all variables"
   ]
  },
  {
   "cell_type": "code",
   "execution_count": null,
   "metadata": {},
   "outputs": [],
   "source": [
    "print(\"Number of SNPs in the input file: \", snpData.shape[0])\n",
    "print(\"Number of SNPs needed: \", numSnpsNeeded)\n",
    "\n",
    "if snpData.shape[0] < numSnpsNeeded:\n",
    "    print(\"There are not enough SNPs in the input file\")\n",
    "    exit(1)\n",
    "else:\n",
    "    print(\"There are enough SNPs in the input file\")"
   ]
  },
  {
   "cell_type": "markdown",
   "metadata": {},
   "source": [
    "# Suffle SNPs if asked in the config file.\n",
    "## When SNPs are shuffled different set of SNPs used to form each variables each time"
   ]
  },
  {
   "cell_type": "code",
   "execution_count": null,
   "metadata": {},
   "outputs": [],
   "source": [
    "for col in snpData.columns.tolist():\n",
    "    snpData[col] = snpData[col].sample(frac=1).tolist()\n",
    "snpData"
   ]
  },
  {
   "cell_type": "markdown",
   "metadata": {},
   "source": [
    "# Transpose the genotype data and print number of snps and samples\n",
    "## Also rename 0/0, 0/1 and 1/1 to R, H and A"
   ]
  },
  {
   "cell_type": "code",
   "execution_count": null,
   "metadata": {},
   "outputs": [],
   "source": [
    "snpData = snpData.T"
   ]
  },
  {
   "cell_type": "code",
   "execution_count": null,
   "metadata": {},
   "outputs": [],
   "source": [
    "df = snpData.replace([0,1,2],['R','H','A'])\n",
    "numSamples = df.shape[0]\n",
    "numSNPs = df.shape[1]\n",
    "print(\"number of sample\",numSamples)\n",
    "print(\"number of snp\",numSNPs)"
   ]
  },
  {
   "cell_type": "markdown",
   "metadata": {},
   "source": [
    "# Form variables from SNPs\n",
    "## A variable could be a SNPs or a set of Interactive SNPs\n",
    "## First identify which SNPs belong to each variable and then form the variables\n",
    "## Naming of variables: O3V4 is the 4th variable with 3-interactive SNPs. Then each of these SNPs will form a Variable (O3V5S1, O3V5S2, O3V5S3)\n",
    "## Write Variables SNPs infor in \"outputPrefix.varData.csv\""
   ]
  },
  {
   "cell_type": "code",
   "execution_count": null,
   "metadata": {},
   "outputs": [],
   "source": [
    "colNames = list() # to store variable names\n",
    "for o,v in enumerate(config['variables']):\n",
    "    for i in range(0,v['numVar']):\n",
    "        colNames.append('O'+str(o+1)+'V'+str(i+1))\n",
    "        # PEPS3 (Start)\n",
    "        if PEPS3:\n",
    "            if o > 0:\n",
    "                for s in range(0,o+1):\n",
    "                    colNames.append('O'+str(o+1)+'V'+str(i+1)+'S'+str(s+1))\n",
    "        # PEPS3 (END)"
   ]
  },
  {
   "cell_type": "code",
   "execution_count": null,
   "metadata": {},
   "outputs": [],
   "source": [
    "rowNames = ['order']\n",
    "for o in range(maxOrder):\n",
    "    rowNames.append('snp_'+str(o+1))"
   ]
  },
  {
   "cell_type": "code",
   "execution_count": null,
   "metadata": {},
   "outputs": [],
   "source": [
    "varData = pd.DataFrame(index=rowNames, columns=colNames)"
   ]
  },
  {
   "cell_type": "code",
   "execution_count": null,
   "metadata": {},
   "outputs": [],
   "source": [
    "idx = 0\n",
    "for o,v in enumerate(config['variables']):\n",
    "    for i in range(0,v['numVar']):\n",
    "        name = 'O'+str(o+1)+'V'+str(i+1)\n",
    "        varData.at['order',name] = str(o+1)\n",
    "        for k in range(0,v['numSnpsInVar']):\n",
    "            snp = 'snp_'+str(k+1)\n",
    "            varData.at[snp,name]=df.columns[idx]\n",
    "            # PEPS3 (Start)\n",
    "            if PEPS3:\n",
    "                if o > 0:\n",
    "                    name3 = 'O'+str(o+1)+'V'+str(i+1)+'S'+str(k+1)\n",
    "                    varData.at['order',name3] = 1\n",
    "                    varData.at['snp_1',name3] = df.columns[idx]\n",
    "            # PEPS3 (END)\n",
    "            idx += 1\n",
    "varData = varData.fillna('---')"
   ]
  },
  {
   "cell_type": "code",
   "execution_count": null,
   "metadata": {},
   "outputs": [],
   "source": [
    "varData"
   ]
  },
  {
   "cell_type": "code",
   "execution_count": null,
   "metadata": {},
   "outputs": [],
   "source": [
    "varData.to_csv(outputPrefix+'.varData.csv')"
   ]
  },
  {
   "cell_type": "code",
   "execution_count": null,
   "metadata": {},
   "outputs": [],
   "source": [
    "varData.iloc[:6,-10:]"
   ]
  },
  {
   "cell_type": "markdown",
   "metadata": {},
   "source": [
    "# Form Variable Genotype and write it to \"outputPrefix.varGT.csv\"\n",
    "## For variables with more than one SNPs the genotype is the concatination of all SNPs involved\n",
    "## For example RHA, ARH and AAR could be genotype value of a variable with 3 snps"
   ]
  },
  {
   "cell_type": "code",
   "execution_count": null,
   "metadata": {},
   "outputs": [],
   "source": [
    "varGT = df.iloc[:,-1:0].copy()"
   ]
  },
  {
   "cell_type": "code",
   "execution_count": null,
   "metadata": {
    "scrolled": true
   },
   "outputs": [],
   "source": [
    "# PEPS3 block\n",
    "if PEPS3:\n",
    "    for name in varData.columns:\n",
    "        o = int(varData.loc['order',name])\n",
    "        print(name,o)\n",
    "        varGT[name] = ''\n",
    "        for k in range(0,o):\n",
    "            snp = 'snp_'+str(k+1)\n",
    "            varGT[name] = varGT[name] + df[varData.loc[snp,name]]"
   ]
  },
  {
   "cell_type": "code",
   "execution_count": null,
   "metadata": {},
   "outputs": [],
   "source": [
    "if ~PEPS3:\n",
    "    for o,v in enumerate(config['variables']):\n",
    "        for i in range(0,v['numVar']):\n",
    "            name = 'O'+str(o+1)+'V'+str(i+1)\n",
    "            varGT[name] = ''\n",
    "            for k in range(0,v['numSnpsInVar']):\n",
    "                snp = 'snp_'+str(k+1)\n",
    "                varGT[name] = varGT[name] + df[varData.loc[snp,name]]"
   ]
  },
  {
   "cell_type": "code",
   "execution_count": null,
   "metadata": {},
   "outputs": [],
   "source": [
    "varGT"
   ]
  },
  {
   "cell_type": "code",
   "execution_count": null,
   "metadata": {},
   "outputs": [],
   "source": [
    "varGT[[x for x in varGT.columns if 'O5V2' in x]]"
   ]
  },
  {
   "cell_type": "code",
   "execution_count": null,
   "metadata": {},
   "outputs": [],
   "source": [
    "varGT.to_csv(outputPrefix+'.varGT.csv')"
   ]
  },
  {
   "cell_type": "code",
   "execution_count": null,
   "metadata": {},
   "outputs": [],
   "source": [
    "varGT.iloc[:5,-5:]"
   ]
  },
  {
   "cell_type": "code",
   "execution_count": null,
   "metadata": {},
   "outputs": [],
   "source": [
    "PEPS2_Input = varGT.T.values.tolist()"
   ]
  },
  {
   "cell_type": "markdown",
   "metadata": {},
   "source": [
    "# PEPS2 Simulation"
   ]
  },
  {
   "cell_type": "code",
   "execution_count": null,
   "metadata": {},
   "outputs": [],
   "source": [
    "def assign(genotypes, case_freq):\n",
    "    \"\"\"Create a list representing Cases (1) and Controls (0)\n",
    "​\n",
    "    Assigns cases and controls to the samples (in order) such that all\n",
    "    variables have a similar impact on the phenotype, and the case frequency is\n",
    "    case_freq.\n",
    "​\n",
    "    :param genotypes: A list of lists, where the primary index is variable, and\n",
    "        the secondary index is sample. Elements represent the value taken by\n",
    "        that variable in that sample. the most common value doesn't contribute\n",
    "        to the phenotype.\n",
    "    :param case_freq: The desired frequency of the case in the population.\n",
    "    :return: a list of the phenotypes of the samples\n",
    "    \"\"\"\n",
    "    num_samples = len(genotypes[0])\n",
    "    global_base_case = num_samples * (\n",
    "        1 - (1-case_freq) ** (1 / len(genotypes))\n",
    "    )\n",
    "    variable_likelihoods = []\n",
    "    for variable_values in genotypes:\n",
    "        value_counts = Counter(variable_values)\n",
    "        del value_counts[value_counts.most_common(1)[0][0]]  # remove most common genotype\n",
    "        num_values = len(value_counts)\n",
    "        variable_likelihoods.append({\n",
    "            k: 1 - min(global_base_case / (num_values * v), 1)\n",
    "            for k, v in value_counts.items()\n",
    "        })\n",
    "    sample_likelihoods = []\n",
    "    for s_i in range(num_samples):\n",
    "        control_prob = 1\n",
    "        for v_i, variable in enumerate(genotypes):\n",
    "            control_prob *= variable_likelihoods[v_i].get(variable[s_i], 1)\n",
    "        sample_likelihoods.append((control_prob, s_i))\n",
    "    sample_phenotypes = [0] * num_samples\n",
    "    sample_likelihoods.sort()\n",
    "    for _, s_i in sample_likelihoods[:int(case_freq * num_samples)]:\n",
    "        sample_phenotypes[s_i] = 1\n",
    "    return sample_phenotypes"
   ]
  },
  {
   "cell_type": "code",
   "execution_count": null,
   "metadata": {},
   "outputs": [],
   "source": [
    "PEPS2_Output = assign(PEPS2_Input,0.5)"
   ]
  },
  {
   "cell_type": "code",
   "execution_count": null,
   "metadata": {},
   "outputs": [],
   "source": [
    "PEPS2_Output[:10]"
   ]
  },
  {
   "cell_type": "code",
   "execution_count": null,
   "metadata": {},
   "outputs": [],
   "source": [
    "varGT['lbl'] = PEPS2_Output"
   ]
  },
  {
   "cell_type": "markdown",
   "metadata": {},
   "source": [
    "# Compute and plot chi2-pvalue (log10) of the variables for the random phenotype"
   ]
  },
  {
   "cell_type": "code",
   "execution_count": null,
   "metadata": {},
   "outputs": [],
   "source": [
    "features = varGT.columns[:-1]\n",
    "corrDict = dict()\n",
    "for v in features:\n",
    "    corrDict[v] = stats.chi2_contingency(pd.crosstab(varGT['lbl'],varGT[v]).values)[1]\n",
    "a = np.asarray(list(corrDict.values()))\n",
    "b = - np.log10(a)\n",
    "plt.plot(np.sort(b))\n",
    "nsat = list()\n",
    "for t in TA:\n",
    "    nsat.append([t, np.where(a<t)[0].shape[0]])\n",
    "x = pd.DataFrame(nsat)\n",
    "x.columns =['p-value', 'number of vars exceed the p-value']\n",
    "x.set_index('p-value')"
   ]
  },
  {
   "cell_type": "code",
   "execution_count": null,
   "metadata": {
    "scrolled": true
   },
   "outputs": [],
   "source": [
    "corrDict"
   ]
  },
  {
   "cell_type": "markdown",
   "metadata": {},
   "source": [
    "# Write Phenotype into a file outputPrefix.pheno.csv"
   ]
  },
  {
   "cell_type": "code",
   "execution_count": null,
   "metadata": {},
   "outputs": [],
   "source": [
    "phen = varGT[['lbl']].copy()\n",
    "phen.index.name ='sample'\n",
    "phen.to_csv(outputPrefix+'.pheno.csv')"
   ]
  },
  {
   "cell_type": "code",
   "execution_count": null,
   "metadata": {},
   "outputs": [],
   "source": [
    "phen.head()"
   ]
  },
  {
   "cell_type": "code",
   "execution_count": null,
   "metadata": {},
   "outputs": [],
   "source": [
    "varData.to_csv(outputPrefix+'.varDataTruth.csv')"
   ]
  },
  {
   "cell_type": "code",
   "execution_count": null,
   "metadata": {},
   "outputs": [],
   "source": [
    "varData.iloc[:6,-5:]"
   ]
  },
  {
   "cell_type": "markdown",
   "metadata": {},
   "source": [
    "# Filter SNPs included in All and Truth Variables\n",
    "## write the Truth SNP names in  \"outputPrefix.TruthSNP.csv\""
   ]
  },
  {
   "cell_type": "code",
   "execution_count": null,
   "metadata": {},
   "outputs": [],
   "source": [
    "snps = np.unique(varData.replace(np.nan, '', regex=True).drop('order').values.ravel())[1:]\n",
    "snpDataVar = snpData.loc[:, snpData.columns.isin(snps)].copy()\n",
    "\n",
    "pd.DataFrame(snps).rename(columns={0:'v'}).to_csv(outputPrefix+'.TruthSNP.csv',index=False)"
   ]
  },
  {
   "cell_type": "code",
   "execution_count": null,
   "metadata": {},
   "outputs": [],
   "source": [
    "snpData"
   ]
  },
  {
   "cell_type": "code",
   "execution_count": null,
   "metadata": {},
   "outputs": [],
   "source": [
    "num_truth_snp = snpDataVar.shape[1]\n",
    "print(\"Number of SNPs used to form Variables: \",num_truth_snp)"
   ]
  },
  {
   "cell_type": "code",
   "execution_count": null,
   "metadata": {},
   "outputs": [],
   "source": [
    "snpDataVar.iloc[:5,-5:]"
   ]
  },
  {
   "cell_type": "markdown",
   "metadata": {},
   "source": [
    "# Add Phenotype to SNP Data"
   ]
  },
  {
   "cell_type": "code",
   "execution_count": null,
   "metadata": {},
   "outputs": [],
   "source": [
    "snpDataVar.loc[:, 'lbl'] = varGT['lbl']\n",
    "snpData.loc[:, 'lbl'] = varGT['lbl']"
   ]
  },
  {
   "cell_type": "markdown",
   "metadata": {},
   "source": [
    "# Compute and plot chi2-pvalue (log10) of the variables for the random phenotype"
   ]
  },
  {
   "cell_type": "code",
   "execution_count": null,
   "metadata": {},
   "outputs": [],
   "source": [
    "features = snpDataVar.columns[:-1]\n",
    "corrDict = dict()\n",
    "for v in features:\n",
    "    corrDict[v] = stats.chi2_contingency(pd.crosstab(snpDataVar['lbl'],snpDataVar[v]).values)[1]\n",
    "a = np.asarray(list(corrDict.values()))\n",
    "b = - np.log10(a)\n",
    "plt.plot(np.sort(b))\n",
    "nsat = list()\n",
    "for t in TA:\n",
    "    nsat.append([t, np.where(a<t)[0].shape[0]])\n",
    "x = pd.DataFrame(nsat)\n",
    "x.columns =['p-value', 'number of SNPs exceed the p-value']\n",
    "x.set_index('p-value')"
   ]
  },
  {
   "cell_type": "markdown",
   "metadata": {},
   "source": [
    "# This function used to predict lable using RandomForest\n",
    "## 75% training and 25% test"
   ]
  },
  {
   "cell_type": "code",
   "execution_count": null,
   "metadata": {},
   "outputs": [],
   "source": [
    "def RF_AUC(dfx, nTree):\n",
    "    df = dfx.copy()\n",
    "    features = df.columns[:-1]\n",
    "    \n",
    "    df['is_train'] = np.random.uniform(0, 1, len(df)) <= .75\n",
    "    train, test = df[df['is_train']==True], df[df['is_train']==False]\n",
    "    clf = RandomForestClassifier(n_jobs=2, n_estimators=nTree, random_state=0)\n",
    "    clf.fit(train[features], train['lbl'])\n",
    "    prob = clf.predict_proba(test[features])\n",
    "    y_true = test['lbl']\n",
    "    y_scores = prob[:,1]\n",
    "    return clf, roc_auc_score(y_true, y_scores)\n"
   ]
  },
  {
   "cell_type": "markdown",
   "metadata": {},
   "source": [
    "# Train and test RandomForest for TruthSNP as well as for all SNP in the input file\n",
    "## Print AUC\n",
    "## Plot Importance Score"
   ]
  },
  {
   "cell_type": "code",
   "execution_count": null,
   "metadata": {},
   "outputs": [],
   "source": [
    "aucvars = []"
   ]
  },
  {
   "cell_type": "code",
   "execution_count": null,
   "metadata": {},
   "outputs": [],
   "source": [
    "clfVar,   AucVar   = RF_AUC(snpDataVar  , nTree=numTree)\n",
    "aucvars.append(round(AucVar, 3))\n",
    "print(\"AUC All SNPs in Variables : \", aucvars)"
   ]
  },
  {
   "cell_type": "code",
   "execution_count": null,
   "metadata": {},
   "outputs": [],
   "source": [
    "clfVar,   AucVar   = RF_AUC(snpDataVar  , nTree=numTree)\n",
    "aucvars.append(round(AucVar, 3))\n",
    "print(\"AUC All SNPs in Variables : \", aucvars)"
   ]
  },
  {
   "cell_type": "code",
   "execution_count": null,
   "metadata": {},
   "outputs": [],
   "source": [
    "clfVar,   AucVar   = RF_AUC(snpDataVar  , nTree=numTree)\n",
    "aucvars.append(round(AucVar, 3))\n",
    "print(\"AUC All SNPs in Variables : \", aucvars)"
   ]
  },
  {
   "cell_type": "code",
   "execution_count": null,
   "metadata": {},
   "outputs": [],
   "source": [
    "clfVar,   AucVar   = RF_AUC(snpDataVar  , nTree=numTree)\n",
    "aucvars.append(round(AucVar, 3))\n",
    "print(\"AUC All SNPs in Variables : \", aucvars)"
   ]
  },
  {
   "cell_type": "code",
   "execution_count": null,
   "metadata": {},
   "outputs": [],
   "source": [
    "clfVar,   AucVar   = RF_AUC(snpDataVar  , nTree=numTree)\n",
    "aucvars.append(round(AucVar, 3))\n",
    "print(\"AUC All SNPs in Variables : \", aucvars)\n",
    "print(round(sum(aucvars)/len(aucvars), 3))"
   ]
  },
  {
   "cell_type": "code",
   "execution_count": null,
   "metadata": {},
   "outputs": [],
   "source": [
    "clf,      Auc      = RF_AUC(snpData     , nTree=numTree)\n",
    "importance_indexes =  [(snp_import, snp_index) for snp_index, snp_import in enumerate(clf.feature_importances_)]\n",
    "importance_indexes.sort(reverse=True)"
   ]
  },
  {
   "cell_type": "code",
   "execution_count": null,
   "metadata": {},
   "outputs": [],
   "source": [
    "num_top = num_truth_snp * 2\n",
    "top_snp_indexes = [snp[1] for snp in importance_indexes[:num_top]]\n",
    "topSnps = snpData.iloc[:, top_snp_indexes + [-1]]\n",
    "clfTop,      AucTop      = RF_AUC(topSnps, nTree=numTree)\n",
    "print(\"AUC All SNPs in Variables : \", round(AucVar, 3))\n",
    "print(\"AUC All SNPs in input file: \", round(Auc, 3))\n",
    "print(\"Top \" + str(num_top) + \" SNPs: \", round(AucTop, 3))\n",
    "pd.DataFrame(np.sort(clfVar.feature_importances_)).plot(title=\"All SNP in Variables\")\n",
    "pd.DataFrame(np.sort(clf.feature_importances_)).plot(title=\"All SNP in input file\")\n",
    "pd.DataFrame(np.sort(clfTop.feature_importances_)).plot(title=\"Top \" + str(num_top) + \" SNPs in input file\")"
   ]
  },
  {
   "cell_type": "code",
   "execution_count": null,
   "metadata": {},
   "outputs": [],
   "source": [
    "feats = {} # a dict to hold feature_name: feature_importance\n",
    "for feature, importance in zip(snpData.columns, clf.feature_importances_):\n",
    "    feats[feature] = importance #add the name/value pair \n",
    "importances = pd.DataFrame.from_dict(feats, orient='index').rename(columns={0: 'Gini-importance'})"
   ]
  },
  {
   "cell_type": "code",
   "execution_count": null,
   "metadata": {},
   "outputs": [],
   "source": [
    "ix = importances.sort_values('Gini-importance', ascending=False)"
   ]
  },
  {
   "cell_type": "code",
   "execution_count": null,
   "metadata": {},
   "outputs": [],
   "source": [
    "ix['rank'] = range(1,ix.shape[0]+1)"
   ]
  },
  {
   "cell_type": "code",
   "execution_count": null,
   "metadata": {},
   "outputs": [],
   "source": [
    "ix.shape"
   ]
  },
  {
   "cell_type": "code",
   "execution_count": null,
   "metadata": {},
   "outputs": [],
   "source": [
    "Truth = pd.DataFrame(snps).rename(columns={0:'v'}).set_index('v')"
   ]
  },
  {
   "cell_type": "code",
   "execution_count": null,
   "metadata": {},
   "outputs": [],
   "source": [
    "Truth.shape"
   ]
  },
  {
   "cell_type": "code",
   "execution_count": null,
   "metadata": {},
   "outputs": [],
   "source": [
    "jx = ix.join(Truth,how='inner')"
   ]
  },
  {
   "cell_type": "markdown",
   "metadata": {},
   "source": [
    "# Rank and importance of truth snp when processing all SNP in the file"
   ]
  },
  {
   "cell_type": "code",
   "execution_count": null,
   "metadata": {
    "scrolled": true
   },
   "outputs": [],
   "source": [
    "from IPython.core.display import HTML\n",
    "display(HTML(jx.reset_index().to_html()))"
   ]
  },
  {
   "cell_type": "code",
   "execution_count": null,
   "metadata": {},
   "outputs": [],
   "source": [
    "from IPython.display import display, Javascript\n",
    "display(Javascript('IPython.notebook.save_checkpoint();'))"
   ]
  },
  {
   "cell_type": "code",
   "execution_count": null,
   "metadata": {},
   "outputs": [],
   "source": [
    "import os\n",
    "os.system(\"jupyter nbconvert PEPS3.ipynb --to html --output \"+outputPrefix+\".html\")"
   ]
  },
  {
   "cell_type": "code",
   "execution_count": null,
   "metadata": {},
   "outputs": [],
   "source": [
    "outputPrefix"
   ]
  }
 ],
 "metadata": {
  "kernelspec": {
   "display_name": "Python 3 (ipykernel)",
   "language": "python",
   "name": "python3"
  },
  "language_info": {
   "codemirror_mode": {
    "name": "ipython",
    "version": 3
   },
   "file_extension": ".py",
   "mimetype": "text/x-python",
   "name": "python",
   "nbconvert_exporter": "python",
   "pygments_lexer": "ipython3",
   "version": "3.8.12"
  }
 },
 "nbformat": 4,
 "nbformat_minor": 2
}
